{
 "cells": [
  {
   "cell_type": "code",
   "execution_count": 127,
   "id": "8540084a-e8d0-4602-845f-3593f0c3e11c",
   "metadata": {},
   "outputs": [],
   "source": [
    "import pandas as pd \n",
    "import numpy as np\n",
    "from sklearn.base import BaseEstimator, TransformerMixin\n",
    "from sklearn.utils.validation import check_is_fitted"
   ]
  },
  {
   "cell_type": "code",
   "execution_count": 158,
   "id": "0aa9b0a6-3430-4cc8-a249-dcd064e3cb1f",
   "metadata": {},
   "outputs": [],
   "source": [
    "# setting the seed\n",
    "np.random.seed(42)\n",
    "\n",
    "# generating the two samples\n",
    "sample_a = pd.DataFrame({'sample_name': 'A',\n",
    "                         'variant': np.random.choice(['a', 'b'], size=100),\n",
    "                         'height': np.random.normal(loc=170, scale=5, size=100)})\n",
    "\n",
    "sample_b = pd.DataFrame({'sample_name': 'B',\n",
    "                         'variant': 'a',\n",
    "                         'height': np.random.normal(loc=165, scale=7, size=100)})\n",
    "\n",
    "# concatenating the samples\n",
    "df = pd.concat([sample_a, sample_b], axis=0, ignore_index=True) \\\n",
    "       .sample(frac=1) \\\n",
    "       .reset_index(drop=True)"
   ]
  },
  {
   "cell_type": "code",
   "execution_count": 159,
   "id": "b75cc3ad-7657-453e-abfd-9421bc9f01c1",
   "metadata": {
    "tags": []
   },
   "outputs": [],
   "source": [
    "ind_to_replace = np.random.choice(range(len(df)), 20, replace=False)\n",
    "df.loc[ind_to_replace, 'height'] = np.nan"
   ]
  },
  {
   "cell_type": "code",
   "execution_count": 160,
   "id": "948e7d60-b13d-46b5-9b07-d424aa7387f7",
   "metadata": {},
   "outputs": [],
   "source": [
    "ind_to_replace_sample_name = np.random.choice(range(len(df)), 5, replace=False)\n",
    "df.loc[ind_to_replace_sample_name, \"sample_name\"] = np.nan"
   ]
  },
  {
   "cell_type": "code",
   "execution_count": 161,
   "id": "3ce3367a-1be4-40d1-bf8c-f057aae1e026",
   "metadata": {},
   "outputs": [],
   "source": [
    "df_group_imputer = df.copy()"
   ]
  },
  {
   "cell_type": "code",
   "execution_count": null,
   "id": "e48a8664-ac0c-4682-87c8-8a0df22cb641",
   "metadata": {},
   "outputs": [],
   "source": []
  },
  {
   "cell_type": "code",
   "execution_count": 163,
   "id": "f27b34de-ce9e-466a-9906-97079ddec045",
   "metadata": {},
   "outputs": [
    {
     "data": {
      "text/html": [
       "<div>\n",
       "<style scoped>\n",
       "    .dataframe tbody tr th:only-of-type {\n",
       "        vertical-align: middle;\n",
       "    }\n",
       "\n",
       "    .dataframe tbody tr th {\n",
       "        vertical-align: top;\n",
       "    }\n",
       "\n",
       "    .dataframe thead th {\n",
       "        text-align: right;\n",
       "    }\n",
       "</style>\n",
       "<table border=\"1\" class=\"dataframe\">\n",
       "  <thead>\n",
       "    <tr style=\"text-align: right;\">\n",
       "      <th></th>\n",
       "      <th>sample_name</th>\n",
       "      <th>variant</th>\n",
       "      <th>height</th>\n",
       "    </tr>\n",
       "  </thead>\n",
       "  <tbody>\n",
       "    <tr>\n",
       "      <th>57</th>\n",
       "      <td>NaN</td>\n",
       "      <td>a</td>\n",
       "      <td>156.660876</td>\n",
       "    </tr>\n",
       "    <tr>\n",
       "      <th>59</th>\n",
       "      <td>NaN</td>\n",
       "      <td>b</td>\n",
       "      <td>172.020254</td>\n",
       "    </tr>\n",
       "    <tr>\n",
       "      <th>96</th>\n",
       "      <td>NaN</td>\n",
       "      <td>b</td>\n",
       "      <td>165.453063</td>\n",
       "    </tr>\n",
       "    <tr>\n",
       "      <th>119</th>\n",
       "      <td>NaN</td>\n",
       "      <td>a</td>\n",
       "      <td>167.697222</td>\n",
       "    </tr>\n",
       "    <tr>\n",
       "      <th>152</th>\n",
       "      <td>NaN</td>\n",
       "      <td>a</td>\n",
       "      <td>161.696477</td>\n",
       "    </tr>\n",
       "  </tbody>\n",
       "</table>\n",
       "</div>"
      ],
      "text/plain": [
       "    sample_name variant      height\n",
       "57          NaN       a  156.660876\n",
       "59          NaN       b  172.020254\n",
       "96          NaN       b  165.453063\n",
       "119         NaN       a  167.697222\n",
       "152         NaN       a  161.696477"
      ]
     },
     "execution_count": 163,
     "metadata": {},
     "output_type": "execute_result"
    }
   ],
   "source": [
    "df_group_imputer[df_group_imputer[\"sample_name\"].isnull() ]"
   ]
  },
  {
   "cell_type": "code",
   "execution_count": null,
   "id": "05f01bd0-b28b-4772-9078-98f5da65f361",
   "metadata": {},
   "outputs": [],
   "source": []
  },
  {
   "cell_type": "code",
   "execution_count": null,
   "id": "dafdf062-6684-4745-ac88-049b23b9d2ca",
   "metadata": {},
   "outputs": [],
   "source": []
  },
  {
   "cell_type": "code",
   "execution_count": null,
   "id": "2e1c7025-6703-4b61-b0a5-20ba709e5384",
   "metadata": {},
   "outputs": [],
   "source": []
  },
  {
   "cell_type": "code",
   "execution_count": null,
   "id": "bf2bbf63-51ca-4b59-91e6-24f3bc6ae0de",
   "metadata": {},
   "outputs": [],
   "source": []
  },
  {
   "cell_type": "code",
   "execution_count": null,
   "id": "e563ac16-1f85-4935-96b2-f9c6d6203c0c",
   "metadata": {},
   "outputs": [],
   "source": []
  },
  {
   "cell_type": "code",
   "execution_count": 132,
   "id": "c646e29c-fc15-483b-b990-fad423abc88b",
   "metadata": {},
   "outputs": [
    {
     "data": {
      "text/html": [
       "<div>\n",
       "<style scoped>\n",
       "    .dataframe tbody tr th:only-of-type {\n",
       "        vertical-align: middle;\n",
       "    }\n",
       "\n",
       "    .dataframe tbody tr th {\n",
       "        vertical-align: top;\n",
       "    }\n",
       "\n",
       "    .dataframe thead th {\n",
       "        text-align: right;\n",
       "    }\n",
       "</style>\n",
       "<table border=\"1\" class=\"dataframe\">\n",
       "  <thead>\n",
       "    <tr style=\"text-align: right;\">\n",
       "      <th></th>\n",
       "      <th>sample_name</th>\n",
       "      <th>variant</th>\n",
       "      <th>height</th>\n",
       "    </tr>\n",
       "  </thead>\n",
       "  <tbody>\n",
       "    <tr>\n",
       "      <th>0</th>\n",
       "      <td>B</td>\n",
       "      <td>a</td>\n",
       "      <td>171.678012</td>\n",
       "    </tr>\n",
       "    <tr>\n",
       "      <th>1</th>\n",
       "      <td>B</td>\n",
       "      <td>a</td>\n",
       "      <td>166.292437</td>\n",
       "    </tr>\n",
       "  </tbody>\n",
       "</table>\n",
       "</div>"
      ],
      "text/plain": [
       "  sample_name variant      height\n",
       "0           B       a  171.678012\n",
       "1           B       a  166.292437"
      ]
     },
     "execution_count": 132,
     "metadata": {},
     "output_type": "execute_result"
    }
   ],
   "source": [
    "df_group_imputer.head(2)"
   ]
  },
  {
   "cell_type": "code",
   "execution_count": 133,
   "id": "60f7f990-ffdf-44c6-97b1-1215658d85a1",
   "metadata": {},
   "outputs": [
    {
     "data": {
      "text/html": [
       "<div>\n",
       "<style scoped>\n",
       "    .dataframe tbody tr th:only-of-type {\n",
       "        vertical-align: middle;\n",
       "    }\n",
       "\n",
       "    .dataframe tbody tr th {\n",
       "        vertical-align: top;\n",
       "    }\n",
       "\n",
       "    .dataframe thead th {\n",
       "        text-align: right;\n",
       "    }\n",
       "</style>\n",
       "<table border=\"1\" class=\"dataframe\">\n",
       "  <thead>\n",
       "    <tr style=\"text-align: right;\">\n",
       "      <th></th>\n",
       "      <th>sample_name</th>\n",
       "      <th>variant</th>\n",
       "      <th>height</th>\n",
       "    </tr>\n",
       "  </thead>\n",
       "  <tbody>\n",
       "    <tr>\n",
       "      <th>0</th>\n",
       "      <td>B</td>\n",
       "      <td>a</td>\n",
       "      <td>171.678012</td>\n",
       "    </tr>\n",
       "    <tr>\n",
       "      <th>1</th>\n",
       "      <td>B</td>\n",
       "      <td>a</td>\n",
       "      <td>166.292437</td>\n",
       "    </tr>\n",
       "  </tbody>\n",
       "</table>\n",
       "</div>"
      ],
      "text/plain": [
       "  sample_name variant      height\n",
       "0           B       a  171.678012\n",
       "1           B       a  166.292437"
      ]
     },
     "execution_count": 133,
     "metadata": {},
     "output_type": "execute_result"
    }
   ],
   "source": [
    "df.head(2)"
   ]
  },
  {
   "cell_type": "code",
   "execution_count": null,
   "id": "8d298715-4c2d-4e41-a1ee-cd1011e7899e",
   "metadata": {},
   "outputs": [],
   "source": []
  },
  {
   "cell_type": "code",
   "execution_count": 164,
   "id": "12020e85-9d4e-4cb2-a6dd-a5a195afd79f",
   "metadata": {},
   "outputs": [
    {
     "data": {
      "text/plain": [
       "sample_name  variant\n",
       "A            a          170.392413\n",
       "             b          169.963861\n",
       "B            a          165.935600\n",
       "Name: height, dtype: float64"
      ]
     },
     "execution_count": 164,
     "metadata": {},
     "output_type": "execute_result"
    }
   ],
   "source": [
    "df_group_imputer.groupby([\"sample_name\", \"variant\"])[\"height\"].mean()"
   ]
  },
  {
   "cell_type": "code",
   "execution_count": 135,
   "id": "6baa0ef9-9494-4609-9e3f-e86754dd5075",
   "metadata": {},
   "outputs": [],
   "source": [
    "df[\"sample_name\"].fillna(-1, inplace=True)"
   ]
  },
  {
   "cell_type": "code",
   "execution_count": 136,
   "id": "b39d4931-8cae-451e-8c5f-4c93b0456e21",
   "metadata": {},
   "outputs": [
    {
     "data": {
      "text/plain": [
       "sample_name  variant\n",
       "-1           a          162.018191\n",
       "             b          168.736659\n",
       "A            a          170.392413\n",
       "             b          169.963861\n",
       "B            a          165.935600\n",
       "Name: height, dtype: float64"
      ]
     },
     "execution_count": 136,
     "metadata": {},
     "output_type": "execute_result"
    }
   ],
   "source": [
    "df.groupby([\"sample_name\", \"variant\"])[\"height\"].mean()"
   ]
  },
  {
   "cell_type": "code",
   "execution_count": 165,
   "id": "66ac1b77-bcad-4393-807a-3cd44adc2457",
   "metadata": {},
   "outputs": [],
   "source": [
    "\n",
    "class GroupImputer(BaseEstimator, TransformerMixin):\n",
    "    '''\n",
    "    Class used for imputing missing values in a pd.DataFrame using either mean or median of a group.\n",
    "    \n",
    "    Parameters\n",
    "    ----------    \n",
    "    group_cols : list\n",
    "        List of columns used for calculating the aggregated value \n",
    "    target : str\n",
    "        The name of the column to impute\n",
    "    metric : str\n",
    "        The metric to be used for remplacement, can be one of ['mean', 'median']\n",
    "    Returns\n",
    "    -------\n",
    "    X : array-like\n",
    "        The array with imputed values in the target column\n",
    "    '''\n",
    "    def __init__(self, group_cols, target, metric='mean'):\n",
    "        \n",
    "        assert metric in ['mean', 'median'], 'Unrecognized value for metric, should be mean/median'\n",
    "        assert type(group_cols) == list, 'group_cols should be a list of columns'\n",
    "        assert type(target) == str, 'target should be a string'\n",
    "        \n",
    "        self.group_cols = group_cols\n",
    "        self.target = target\n",
    "        self.metric = metric\n",
    "    \n",
    "    def fit(self, X, y=None):\n",
    "        \n",
    "        #assert pd.isnull(X[self.group_cols]).any(axis=None) == False, 'There are missing values in group_cols'\n",
    "        \n",
    "        for col in self.group_cols:\n",
    "            X[col].fillna(-1, inplace=True)\n",
    "        \n",
    "#         if pd.isnull(X[self.group_cols]).any(axis=None) == False:\n",
    "#             for col in self.group_cols:\n",
    "#                 print(\"the col is\", col)\n",
    "#                 X[col].fillna(0, inplace=True)\n",
    "#                 df_imp[\"sample_name\"].fillna(0, inplace=True)\n",
    "                \n",
    "#         assert pd.isnull(X[self.group_cols]).any(axis=None) == False, 'There are missing values in group_cols'\n",
    "        \n",
    "        impute_map = X.groupby(self.group_cols)[self.target].agg(self.metric) \\\n",
    "                                                            .reset_index(drop=False)\n",
    "        \n",
    "        for col in self.group_cols:\n",
    "            X[col].replace(-1, np.nan, inplace=True)\n",
    "        \n",
    "        self.impute_map_ = impute_map\n",
    "        \n",
    "        return self \n",
    "    \n",
    "    def transform(self, X, y=None):\n",
    "        \n",
    "        # make sure that the imputer was fitted\n",
    "        check_is_fitted(self, 'impute_map_')\n",
    "        \n",
    "        X = X.copy()\n",
    "        \n",
    "        for index, row in self.impute_map_.iterrows():\n",
    "            ind = (X[self.group_cols] == row[self.group_cols]).all(axis=1)\n",
    "            X.loc[ind, self.target] = X.loc[ind, self.target].fillna(row[self.target])\n",
    "        \n",
    "        return X.values"
   ]
  },
  {
   "cell_type": "code",
   "execution_count": 166,
   "id": "d0cb2548-d346-4984-a551-23ce1258b67f",
   "metadata": {},
   "outputs": [
    {
     "name": "stdout",
     "output_type": "stream",
     "text": [
      "df contains 20 missing values.\n",
      "df_imp contains 0 missing values.\n"
     ]
    }
   ],
   "source": [
    "\n",
    "imp = GroupImputer(group_cols=['sample_name', 'variant'], \n",
    "                   target='height', \n",
    "                   metric='mean')\n",
    "\n",
    "df_imp = pd.DataFrame(imp.fit_transform(df_group_imputer), \n",
    "                      columns=df_group_imputer.columns)\n",
    "\n",
    "print(f'df contains {sum(pd.isnull(df_group_imputer.height))} missing values.')\n",
    "print(f'df_imp contains {sum(pd.isnull(df_imp.height))} missing values.')"
   ]
  },
  {
   "cell_type": "code",
   "execution_count": 167,
   "id": "9e3d03b0-5adb-45bc-9a11-691a5bad98cb",
   "metadata": {
    "tags": []
   },
   "outputs": [
    {
     "data": {
      "text/plain": [
       "sample_name  variant\n",
       "A            a          170.392413\n",
       "             b          169.963861\n",
       "B            a          165.935600\n",
       "Name: height, dtype: float64"
      ]
     },
     "execution_count": 167,
     "metadata": {},
     "output_type": "execute_result"
    }
   ],
   "source": [
    "df_group_imputer.groupby([\"sample_name\", \"variant\"])[\"height\"].mean()"
   ]
  },
  {
   "cell_type": "code",
   "execution_count": 156,
   "id": "a6188c4f-9a98-4231-92f2-25697d1e3f48",
   "metadata": {},
   "outputs": [
    {
     "data": {
      "text/html": [
       "<div>\n",
       "<style scoped>\n",
       "    .dataframe tbody tr th:only-of-type {\n",
       "        vertical-align: middle;\n",
       "    }\n",
       "\n",
       "    .dataframe tbody tr th {\n",
       "        vertical-align: top;\n",
       "    }\n",
       "\n",
       "    .dataframe thead th {\n",
       "        text-align: right;\n",
       "    }\n",
       "</style>\n",
       "<table border=\"1\" class=\"dataframe\">\n",
       "  <thead>\n",
       "    <tr style=\"text-align: right;\">\n",
       "      <th></th>\n",
       "      <th>sample_name</th>\n",
       "      <th>variant</th>\n",
       "      <th>height</th>\n",
       "    </tr>\n",
       "  </thead>\n",
       "  <tbody>\n",
       "    <tr>\n",
       "      <th>0</th>\n",
       "      <td>B</td>\n",
       "      <td>a</td>\n",
       "      <td>171.678012</td>\n",
       "    </tr>\n",
       "    <tr>\n",
       "      <th>1</th>\n",
       "      <td>B</td>\n",
       "      <td>a</td>\n",
       "      <td>166.292437</td>\n",
       "    </tr>\n",
       "    <tr>\n",
       "      <th>2</th>\n",
       "      <td>A</td>\n",
       "      <td>a</td>\n",
       "      <td>168.286427</td>\n",
       "    </tr>\n",
       "    <tr>\n",
       "      <th>3</th>\n",
       "      <td>B</td>\n",
       "      <td>a</td>\n",
       "      <td>158.773399</td>\n",
       "    </tr>\n",
       "    <tr>\n",
       "      <th>4</th>\n",
       "      <td>B</td>\n",
       "      <td>a</td>\n",
       "      <td>155.756804</td>\n",
       "    </tr>\n",
       "    <tr>\n",
       "      <th>5</th>\n",
       "      <td>B</td>\n",
       "      <td>a</td>\n",
       "      <td>163.435761</td>\n",
       "    </tr>\n",
       "    <tr>\n",
       "      <th>6</th>\n",
       "      <td>A</td>\n",
       "      <td>b</td>\n",
       "      <td>169.963861</td>\n",
       "    </tr>\n",
       "    <tr>\n",
       "      <th>7</th>\n",
       "      <td>A</td>\n",
       "      <td>b</td>\n",
       "      <td>168.389692</td>\n",
       "    </tr>\n",
       "    <tr>\n",
       "      <th>8</th>\n",
       "      <td>B</td>\n",
       "      <td>a</td>\n",
       "      <td>165.9356</td>\n",
       "    </tr>\n",
       "    <tr>\n",
       "      <th>9</th>\n",
       "      <td>A</td>\n",
       "      <td>a</td>\n",
       "      <td>168.827064</td>\n",
       "    </tr>\n",
       "    <tr>\n",
       "      <th>10</th>\n",
       "      <td>A</td>\n",
       "      <td>a</td>\n",
       "      <td>177.690183</td>\n",
       "    </tr>\n",
       "    <tr>\n",
       "      <th>11</th>\n",
       "      <td>B</td>\n",
       "      <td>a</td>\n",
       "      <td>170.967033</td>\n",
       "    </tr>\n",
       "    <tr>\n",
       "      <th>12</th>\n",
       "      <td>A</td>\n",
       "      <td>b</td>\n",
       "      <td>175.154998</td>\n",
       "    </tr>\n",
       "    <tr>\n",
       "      <th>13</th>\n",
       "      <td>B</td>\n",
       "      <td>a</td>\n",
       "      <td>151.929144</td>\n",
       "    </tr>\n",
       "    <tr>\n",
       "      <th>14</th>\n",
       "      <td>A</td>\n",
       "      <td>a</td>\n",
       "      <td>169.421759</td>\n",
       "    </tr>\n",
       "    <tr>\n",
       "      <th>15</th>\n",
       "      <td>A</td>\n",
       "      <td>b</td>\n",
       "      <td>166.083734</td>\n",
       "    </tr>\n",
       "    <tr>\n",
       "      <th>16</th>\n",
       "      <td>B</td>\n",
       "      <td>a</td>\n",
       "      <td>167.388064</td>\n",
       "    </tr>\n",
       "    <tr>\n",
       "      <th>17</th>\n",
       "      <td>B</td>\n",
       "      <td>a</td>\n",
       "      <td>173.110169</td>\n",
       "    </tr>\n",
       "    <tr>\n",
       "      <th>18</th>\n",
       "      <td>B</td>\n",
       "      <td>a</td>\n",
       "      <td>159.723847</td>\n",
       "    </tr>\n",
       "    <tr>\n",
       "      <th>19</th>\n",
       "      <td>B</td>\n",
       "      <td>a</td>\n",
       "      <td>169.595875</td>\n",
       "    </tr>\n",
       "    <tr>\n",
       "      <th>20</th>\n",
       "      <td>A</td>\n",
       "      <td>b</td>\n",
       "      <td>166.400779</td>\n",
       "    </tr>\n",
       "    <tr>\n",
       "      <th>21</th>\n",
       "      <td>B</td>\n",
       "      <td>a</td>\n",
       "      <td>166.212266</td>\n",
       "    </tr>\n",
       "    <tr>\n",
       "      <th>22</th>\n",
       "      <td>B</td>\n",
       "      <td>a</td>\n",
       "      <td>154.396069</td>\n",
       "    </tr>\n",
       "    <tr>\n",
       "      <th>23</th>\n",
       "      <td>B</td>\n",
       "      <td>a</td>\n",
       "      <td>158.177228</td>\n",
       "    </tr>\n",
       "    <tr>\n",
       "      <th>24</th>\n",
       "      <td>B</td>\n",
       "      <td>a</td>\n",
       "      <td>159.99954</td>\n",
       "    </tr>\n",
       "    <tr>\n",
       "      <th>25</th>\n",
       "      <td>A</td>\n",
       "      <td>a</td>\n",
       "      <td>168.901641</td>\n",
       "    </tr>\n",
       "    <tr>\n",
       "      <th>26</th>\n",
       "      <td>A</td>\n",
       "      <td>b</td>\n",
       "      <td>172.566337</td>\n",
       "    </tr>\n",
       "    <tr>\n",
       "      <th>27</th>\n",
       "      <td>A</td>\n",
       "      <td>a</td>\n",
       "      <td>174.877726</td>\n",
       "    </tr>\n",
       "    <tr>\n",
       "      <th>28</th>\n",
       "      <td>B</td>\n",
       "      <td>a</td>\n",
       "      <td>170.312785</td>\n",
       "    </tr>\n",
       "    <tr>\n",
       "      <th>29</th>\n",
       "      <td>B</td>\n",
       "      <td>a</td>\n",
       "      <td>170.994792</td>\n",
       "    </tr>\n",
       "  </tbody>\n",
       "</table>\n",
       "</div>"
      ],
      "text/plain": [
       "   sample_name variant      height\n",
       "0            B       a  171.678012\n",
       "1            B       a  166.292437\n",
       "2            A       a  168.286427\n",
       "3            B       a  158.773399\n",
       "4            B       a  155.756804\n",
       "5            B       a  163.435761\n",
       "6            A       b  169.963861\n",
       "7            A       b  168.389692\n",
       "8            B       a    165.9356\n",
       "9            A       a  168.827064\n",
       "10           A       a  177.690183\n",
       "11           B       a  170.967033\n",
       "12           A       b  175.154998\n",
       "13           B       a  151.929144\n",
       "14           A       a  169.421759\n",
       "15           A       b  166.083734\n",
       "16           B       a  167.388064\n",
       "17           B       a  173.110169\n",
       "18           B       a  159.723847\n",
       "19           B       a  169.595875\n",
       "20           A       b  166.400779\n",
       "21           B       a  166.212266\n",
       "22           B       a  154.396069\n",
       "23           B       a  158.177228\n",
       "24           B       a   159.99954\n",
       "25           A       a  168.901641\n",
       "26           A       b  172.566337\n",
       "27           A       a  174.877726\n",
       "28           B       a  170.312785\n",
       "29           B       a  170.994792"
      ]
     },
     "execution_count": 156,
     "metadata": {},
     "output_type": "execute_result"
    }
   ],
   "source": [
    "df_imp.head(30)"
   ]
  },
  {
   "cell_type": "code",
   "execution_count": 168,
   "id": "3e9bf2e9-bf3f-4211-baf3-0934a3a068bb",
   "metadata": {},
   "outputs": [
    {
     "data": {
      "text/html": [
       "<div>\n",
       "<style scoped>\n",
       "    .dataframe tbody tr th:only-of-type {\n",
       "        vertical-align: middle;\n",
       "    }\n",
       "\n",
       "    .dataframe tbody tr th {\n",
       "        vertical-align: top;\n",
       "    }\n",
       "\n",
       "    .dataframe thead th {\n",
       "        text-align: right;\n",
       "    }\n",
       "</style>\n",
       "<table border=\"1\" class=\"dataframe\">\n",
       "  <thead>\n",
       "    <tr style=\"text-align: right;\">\n",
       "      <th></th>\n",
       "      <th>sample_name</th>\n",
       "      <th>variant</th>\n",
       "      <th>height</th>\n",
       "    </tr>\n",
       "  </thead>\n",
       "  <tbody>\n",
       "    <tr>\n",
       "      <th>57</th>\n",
       "      <td>NaN</td>\n",
       "      <td>a</td>\n",
       "      <td>156.660876</td>\n",
       "    </tr>\n",
       "    <tr>\n",
       "      <th>59</th>\n",
       "      <td>NaN</td>\n",
       "      <td>b</td>\n",
       "      <td>172.020254</td>\n",
       "    </tr>\n",
       "    <tr>\n",
       "      <th>96</th>\n",
       "      <td>NaN</td>\n",
       "      <td>b</td>\n",
       "      <td>165.453063</td>\n",
       "    </tr>\n",
       "    <tr>\n",
       "      <th>119</th>\n",
       "      <td>NaN</td>\n",
       "      <td>a</td>\n",
       "      <td>167.697222</td>\n",
       "    </tr>\n",
       "    <tr>\n",
       "      <th>152</th>\n",
       "      <td>NaN</td>\n",
       "      <td>a</td>\n",
       "      <td>161.696477</td>\n",
       "    </tr>\n",
       "  </tbody>\n",
       "</table>\n",
       "</div>"
      ],
      "text/plain": [
       "    sample_name variant      height\n",
       "57          NaN       a  156.660876\n",
       "59          NaN       b  172.020254\n",
       "96          NaN       b  165.453063\n",
       "119         NaN       a  167.697222\n",
       "152         NaN       a  161.696477"
      ]
     },
     "execution_count": 168,
     "metadata": {},
     "output_type": "execute_result"
    }
   ],
   "source": [
    "df_group_imputer[df_group_imputer[\"sample_name\"].isnull() ]"
   ]
  },
  {
   "cell_type": "code",
   "execution_count": null,
   "id": "25135a48-2c1b-486b-8029-35d04642d353",
   "metadata": {},
   "outputs": [],
   "source": []
  },
  {
   "cell_type": "code",
   "execution_count": null,
   "id": "81da0fdc-24de-40fe-be75-2ab5d6bc82b0",
   "metadata": {},
   "outputs": [],
   "source": []
  },
  {
   "cell_type": "code",
   "execution_count": null,
   "id": "56586f8c-3d3f-4109-a8f1-e80e0d0c80ec",
   "metadata": {},
   "outputs": [],
   "source": []
  },
  {
   "cell_type": "code",
   "execution_count": null,
   "id": "22b7de87-9220-418c-afec-57534d47900c",
   "metadata": {},
   "outputs": [],
   "source": []
  },
  {
   "cell_type": "code",
   "execution_count": null,
   "id": "2f89c484-1bb0-47a6-a91b-5413ccbd35f4",
   "metadata": {},
   "outputs": [],
   "source": []
  },
  {
   "cell_type": "code",
   "execution_count": null,
   "id": "e0452aa4-7862-403d-baf6-9077d4a22329",
   "metadata": {},
   "outputs": [],
   "source": []
  },
  {
   "cell_type": "code",
   "execution_count": 141,
   "id": "455ad616-b261-49d3-a31c-de8f1f4277e8",
   "metadata": {},
   "outputs": [],
   "source": [
    "df[\"sample_name\"].fillna(-1, inplace=True)"
   ]
  },
  {
   "cell_type": "code",
   "execution_count": 142,
   "id": "9ceba936-90c2-4851-b83f-822c0cb5967d",
   "metadata": {},
   "outputs": [
    {
     "data": {
      "text/plain": [
       "sample_name  variant\n",
       "-1           a          162.018191\n",
       "             b          168.736659\n",
       "A            a          170.392413\n",
       "             b          169.963861\n",
       "B            a          165.935600\n",
       "Name: height, dtype: float64"
      ]
     },
     "execution_count": 142,
     "metadata": {},
     "output_type": "execute_result"
    }
   ],
   "source": [
    "df.groupby([\"sample_name\", \"variant\"])[\"height\"].mean()"
   ]
  },
  {
   "cell_type": "code",
   "execution_count": 144,
   "id": "d86107f7-c67d-4c6f-b5e5-69f0116bf694",
   "metadata": {},
   "outputs": [
    {
     "data": {
      "text/html": [
       "<div>\n",
       "<style scoped>\n",
       "    .dataframe tbody tr th:only-of-type {\n",
       "        vertical-align: middle;\n",
       "    }\n",
       "\n",
       "    .dataframe tbody tr th {\n",
       "        vertical-align: top;\n",
       "    }\n",
       "\n",
       "    .dataframe thead th {\n",
       "        text-align: right;\n",
       "    }\n",
       "</style>\n",
       "<table border=\"1\" class=\"dataframe\">\n",
       "  <thead>\n",
       "    <tr style=\"text-align: right;\">\n",
       "      <th></th>\n",
       "      <th>sample_name</th>\n",
       "      <th>variant</th>\n",
       "      <th>height</th>\n",
       "    </tr>\n",
       "  </thead>\n",
       "  <tbody>\n",
       "    <tr>\n",
       "      <th>57</th>\n",
       "      <td>-1</td>\n",
       "      <td>a</td>\n",
       "      <td>156.660876</td>\n",
       "    </tr>\n",
       "    <tr>\n",
       "      <th>59</th>\n",
       "      <td>-1</td>\n",
       "      <td>b</td>\n",
       "      <td>172.020254</td>\n",
       "    </tr>\n",
       "    <tr>\n",
       "      <th>96</th>\n",
       "      <td>-1</td>\n",
       "      <td>b</td>\n",
       "      <td>165.453063</td>\n",
       "    </tr>\n",
       "    <tr>\n",
       "      <th>119</th>\n",
       "      <td>-1</td>\n",
       "      <td>a</td>\n",
       "      <td>167.697222</td>\n",
       "    </tr>\n",
       "    <tr>\n",
       "      <th>152</th>\n",
       "      <td>-1</td>\n",
       "      <td>a</td>\n",
       "      <td>161.696477</td>\n",
       "    </tr>\n",
       "  </tbody>\n",
       "</table>\n",
       "</div>"
      ],
      "text/plain": [
       "    sample_name variant      height\n",
       "57           -1       a  156.660876\n",
       "59           -1       b  172.020254\n",
       "96           -1       b  165.453063\n",
       "119          -1       a  167.697222\n",
       "152          -1       a  161.696477"
      ]
     },
     "execution_count": 144,
     "metadata": {},
     "output_type": "execute_result"
    }
   ],
   "source": [
    "df_group_imputer[df_group_imputer[\"sample_name\"] == -1 ]"
   ]
  },
  {
   "cell_type": "code",
   "execution_count": null,
   "id": "4f0cdd45-35db-4b21-9ecd-54211ea99621",
   "metadata": {},
   "outputs": [],
   "source": []
  },
  {
   "cell_type": "code",
   "execution_count": null,
   "id": "0400fead-6288-48c1-971b-3d0c3dc3d283",
   "metadata": {},
   "outputs": [],
   "source": []
  },
  {
   "cell_type": "code",
   "execution_count": 184,
   "id": "4f501456-f66c-4243-a42c-71d29f267674",
   "metadata": {},
   "outputs": [],
   "source": [
    "\n",
    "\n",
    "df = pd.DataFrame({\n",
    "    'id': [1, 1, 1, 2, 2, 2, 2, 3, 3],\n",
    "    'Total': [50, 0, 0, 100, 0, 0, 75, 0, 0],\n",
    "})"
   ]
  },
  {
   "cell_type": "code",
   "execution_count": 185,
   "id": "0aeba374-dfdc-41be-97aa-95ab8ed5f56c",
   "metadata": {},
   "outputs": [
    {
     "data": {
      "text/html": [
       "<div>\n",
       "<style scoped>\n",
       "    .dataframe tbody tr th:only-of-type {\n",
       "        vertical-align: middle;\n",
       "    }\n",
       "\n",
       "    .dataframe tbody tr th {\n",
       "        vertical-align: top;\n",
       "    }\n",
       "\n",
       "    .dataframe thead th {\n",
       "        text-align: right;\n",
       "    }\n",
       "</style>\n",
       "<table border=\"1\" class=\"dataframe\">\n",
       "  <thead>\n",
       "    <tr style=\"text-align: right;\">\n",
       "      <th></th>\n",
       "      <th>id</th>\n",
       "      <th>Total</th>\n",
       "    </tr>\n",
       "  </thead>\n",
       "  <tbody>\n",
       "    <tr>\n",
       "      <th>0</th>\n",
       "      <td>1</td>\n",
       "      <td>50</td>\n",
       "    </tr>\n",
       "    <tr>\n",
       "      <th>1</th>\n",
       "      <td>1</td>\n",
       "      <td>0</td>\n",
       "    </tr>\n",
       "    <tr>\n",
       "      <th>2</th>\n",
       "      <td>1</td>\n",
       "      <td>0</td>\n",
       "    </tr>\n",
       "    <tr>\n",
       "      <th>3</th>\n",
       "      <td>2</td>\n",
       "      <td>100</td>\n",
       "    </tr>\n",
       "    <tr>\n",
       "      <th>4</th>\n",
       "      <td>2</td>\n",
       "      <td>0</td>\n",
       "    </tr>\n",
       "    <tr>\n",
       "      <th>5</th>\n",
       "      <td>2</td>\n",
       "      <td>0</td>\n",
       "    </tr>\n",
       "    <tr>\n",
       "      <th>6</th>\n",
       "      <td>2</td>\n",
       "      <td>75</td>\n",
       "    </tr>\n",
       "    <tr>\n",
       "      <th>7</th>\n",
       "      <td>3</td>\n",
       "      <td>0</td>\n",
       "    </tr>\n",
       "    <tr>\n",
       "      <th>8</th>\n",
       "      <td>3</td>\n",
       "      <td>0</td>\n",
       "    </tr>\n",
       "  </tbody>\n",
       "</table>\n",
       "</div>"
      ],
      "text/plain": [
       "   id  Total\n",
       "0   1     50\n",
       "1   1      0\n",
       "2   1      0\n",
       "3   2    100\n",
       "4   2      0\n",
       "5   2      0\n",
       "6   2     75\n",
       "7   3      0\n",
       "8   3      0"
      ]
     },
     "execution_count": 185,
     "metadata": {},
     "output_type": "execute_result"
    }
   ],
   "source": [
    "df"
   ]
  },
  {
   "cell_type": "code",
   "execution_count": 186,
   "id": "6a45fa9d-6875-4fae-a8c2-98cbb551426e",
   "metadata": {},
   "outputs": [
    {
     "data": {
      "text/html": [
       "<div>\n",
       "<style scoped>\n",
       "    .dataframe tbody tr th:only-of-type {\n",
       "        vertical-align: middle;\n",
       "    }\n",
       "\n",
       "    .dataframe tbody tr th {\n",
       "        vertical-align: top;\n",
       "    }\n",
       "\n",
       "    .dataframe thead th {\n",
       "        text-align: right;\n",
       "    }\n",
       "</style>\n",
       "<table border=\"1\" class=\"dataframe\">\n",
       "  <thead>\n",
       "    <tr style=\"text-align: right;\">\n",
       "      <th></th>\n",
       "      <th>id</th>\n",
       "      <th>Total</th>\n",
       "    </tr>\n",
       "  </thead>\n",
       "  <tbody>\n",
       "    <tr>\n",
       "      <th>3</th>\n",
       "      <td>2</td>\n",
       "      <td>100</td>\n",
       "    </tr>\n",
       "    <tr>\n",
       "      <th>6</th>\n",
       "      <td>2</td>\n",
       "      <td>75</td>\n",
       "    </tr>\n",
       "    <tr>\n",
       "      <th>0</th>\n",
       "      <td>1</td>\n",
       "      <td>50</td>\n",
       "    </tr>\n",
       "    <tr>\n",
       "      <th>1</th>\n",
       "      <td>1</td>\n",
       "      <td>0</td>\n",
       "    </tr>\n",
       "    <tr>\n",
       "      <th>2</th>\n",
       "      <td>1</td>\n",
       "      <td>0</td>\n",
       "    </tr>\n",
       "    <tr>\n",
       "      <th>4</th>\n",
       "      <td>2</td>\n",
       "      <td>0</td>\n",
       "    </tr>\n",
       "    <tr>\n",
       "      <th>5</th>\n",
       "      <td>2</td>\n",
       "      <td>0</td>\n",
       "    </tr>\n",
       "    <tr>\n",
       "      <th>7</th>\n",
       "      <td>3</td>\n",
       "      <td>0</td>\n",
       "    </tr>\n",
       "    <tr>\n",
       "      <th>8</th>\n",
       "      <td>3</td>\n",
       "      <td>0</td>\n",
       "    </tr>\n",
       "  </tbody>\n",
       "</table>\n",
       "</div>"
      ],
      "text/plain": [
       "   id  Total\n",
       "3   2    100\n",
       "6   2     75\n",
       "0   1     50\n",
       "1   1      0\n",
       "2   1      0\n",
       "4   2      0\n",
       "5   2      0\n",
       "7   3      0\n",
       "8   3      0"
      ]
     },
     "execution_count": 186,
     "metadata": {},
     "output_type": "execute_result"
    }
   ],
   "source": [
    "df.sort_values(\"Total\", ascending=False)"
   ]
  },
  {
   "cell_type": "code",
   "execution_count": 192,
   "id": "c1191570-eb8b-4367-8406-3dcd51d661c4",
   "metadata": {},
   "outputs": [
    {
     "name": "stdout",
     "output_type": "stream",
     "text": [
      "3.5\n"
     ]
    }
   ],
   "source": [
    "print(7/2)"
   ]
  },
  {
   "cell_type": "code",
   "execution_count": 193,
   "id": "7ef58f05-6522-4dfb-8895-c5706fb75396",
   "metadata": {},
   "outputs": [
    {
     "name": "stdout",
     "output_type": "stream",
     "text": [
      "3\n"
     ]
    }
   ],
   "source": [
    "print(7//2)"
   ]
  }
 ],
 "metadata": {
  "kernelspec": {
   "display_name": "Python 3",
   "language": "python",
   "name": "python3"
  },
  "language_info": {
   "codemirror_mode": {
    "name": "ipython",
    "version": 3
   },
   "file_extension": ".py",
   "mimetype": "text/x-python",
   "name": "python",
   "nbconvert_exporter": "python",
   "pygments_lexer": "ipython3",
   "version": "3.8.5"
  }
 },
 "nbformat": 4,
 "nbformat_minor": 5
}
