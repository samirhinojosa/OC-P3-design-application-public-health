{
 "cells": [
  {
   "cell_type": "markdown",
   "id": "5d998865-863c-4e29-9bd1-fac74abc8367",
   "metadata": {},
   "source": [
    "# Design an application for public health - Project 3\n",
    "## Cleaning notebook\n",
    "### Data Scientist course - OpenClassrooms"
   ]
  },
  {
   "cell_type": "markdown",
   "id": "10dc5dbf-b0dd-48f1-8fa2-b45be8fb71aa",
   "metadata": {},
   "source": [
    "<h1><center>Hola mundo</center><h1>\n",
    "    \n",
    "    dasdasdasd"
   ]
  },
  {
   "cell_type": "markdown",
   "id": "7e150ed2-80a8-4201-a141-4b6da2b745fc",
   "metadata": {},
   "source": [
    "<div class=\"alert alert-block alert-info\">\n",
    "    This <b>notebook</b> is optimized to <b>be used</b> with:\n",
    "    <ul style=\"list-style-type: square;\">\n",
    "    <li>JupyterLab 3.0.14</li>\n",
    "    <li>JupyterLab Theme: JupyterLab Dark</li>\n",
    "    <li>Extension: @jupyter-widgets/jupyterlab-manager</li>\n",
    "</ul>\n",
    "</div>"
   ]
  },
  {
   "cell_type": "code",
   "execution_count": null,
   "id": "de3cec2e-e43a-4787-8c26-3d218acfda4b",
   "metadata": {},
   "outputs": [],
   "source": []
  },
  {
   "cell_type": "markdown",
   "id": "ee376e7a-512d-4464-8c29-ee57695bc9b6",
   "metadata": {},
   "source": [
    "## <center>Your centered level h2 title</center>"
   ]
  },
  {
   "cell_type": "code",
   "execution_count": null,
   "id": "381b842a-bddd-4351-8fd2-2642854df842",
   "metadata": {},
   "outputs": [],
   "source": []
  }
 ],
 "metadata": {
  "kernelspec": {
   "display_name": "Python 3",
   "language": "python",
   "name": "python3"
  },
  "language_info": {
   "codemirror_mode": {
    "name": "ipython",
    "version": 3
   },
   "file_extension": ".py",
   "mimetype": "text/x-python",
   "name": "python",
   "nbconvert_exporter": "python",
   "pygments_lexer": "ipython3",
   "version": "3.8.5"
  }
 },
 "nbformat": 4,
 "nbformat_minor": 5
}
