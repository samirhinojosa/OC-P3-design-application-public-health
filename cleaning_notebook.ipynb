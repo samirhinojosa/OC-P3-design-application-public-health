{
 "cells": [
  {
   "cell_type": "markdown",
   "id": "5d998865-863c-4e29-9bd1-fac74abc8367",
   "metadata": {},
   "source": [
    "# Design an application for public health - Project 3\n",
    "## Cleaning notebook\n",
    "### Data Scientist course - OpenClassrooms"
   ]
  },
  {
   "cell_type": "markdown",
   "id": "10dc5dbf-b0dd-48f1-8fa2-b45be8fb71aa",
   "metadata": {},
   "source": [
    "<h1><center>Hola mundo</center><h1>"
   ]
  },
  {
   "cell_type": "code",
   "execution_count": null,
   "id": "a49bd90f-28a2-4c0b-8286-0270b2956190",
   "metadata": {},
   "outputs": [],
   "source": []
  },
  {
   "cell_type": "code",
   "execution_count": null,
   "id": "de3cec2e-e43a-4787-8c26-3d218acfda4b",
   "metadata": {},
   "outputs": [],
   "source": []
  },
  {
   "cell_type": "code",
   "execution_count": null,
   "id": "1641eaa8-63d0-412c-8e33-1e798da1f46e",
   "metadata": {},
   "outputs": [],
   "source": []
  },
  {
   "cell_type": "code",
   "execution_count": null,
   "id": "381b842a-bddd-4351-8fd2-2642854df842",
   "metadata": {},
   "outputs": [],
   "source": []
  }
 ],
 "metadata": {
  "kernelspec": {
   "display_name": "Python 3",
   "language": "python",
   "name": "python3"
  },
  "language_info": {
   "codemirror_mode": {
    "name": "ipython",
    "version": 3
   },
   "file_extension": ".py",
   "mimetype": "text/x-python",
   "name": "python",
   "nbconvert_exporter": "python",
   "pygments_lexer": "ipython3",
   "version": "3.8.5"
  }
 },
 "nbformat": 4,
 "nbformat_minor": 5
}
