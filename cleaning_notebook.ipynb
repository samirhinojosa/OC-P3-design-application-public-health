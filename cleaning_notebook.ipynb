{
 "cells": [
  {
   "cell_type": "markdown",
   "id": "5d998865-863c-4e29-9bd1-fac74abc8367",
   "metadata": {},
   "source": [
    "<h1 align=\"center\">Design an application for public health - Project 3</h1>\n",
    "<h2 align=\"center\">| Cleaning notebook |</h2>\n",
    "<h3 align=\"center\">Data Scientist course - OpenClassrooms</h3>"
   ]
  },
  {
   "cell_type": "markdown",
   "id": "617c9799-07f8-4e66-9f06-0d91e4c08154",
   "metadata": {
    "tags": []
   },
   "source": [
    "<div style=\"background-color: #506AB9;\" >\n",
    "    <h3 style=\"margin: auto; padding: 20px; color:#fff; \">1. Libraries and functions</h3>\n",
    "</div>"
   ]
  },
  {
   "cell_type": "markdown",
   "id": "21e270f8-ca43-4dac-a9c7-3f3c988485d5",
   "metadata": {},
   "source": [
    "<div style=\"background-color: #6D83C5;\" >\n",
    "    <h4 style=\"margin: auto; padding: 20px; color:#fff; \">1.1. Libraries and functions</h4>\n",
    "</div>"
   ]
  },
  {
   "cell_type": "code",
   "execution_count": 1,
   "id": "78ac3496-3e4a-4453-a700-309feaecbbbd",
   "metadata": {},
   "outputs": [],
   "source": [
    "import os\n",
    "import io\n",
    "import gc\n",
    "import math\n",
    "from math import prod\n",
    "from collections import Counter\n",
    "import time as time\n",
    "import pandas as pd\n",
    "import numpy as np\n",
    "import matplotlib.pyplot as plt\n",
    "import matplotlib.gridspec as gridspec\n",
    "import seaborn as sns\n",
    "import missingno as msno\n",
    "from sklearn.impute import SimpleImputer\n",
    "from sklearn.impute import KNNImputer\n",
    "from sklearn.experimental import enable_iterative_imputer\n",
    "from sklearn.impute import IterativeImputer\n",
    "from sklearn.linear_model import BayesianRidge\n",
    "from sklearn.base import BaseEstimator, TransformerMixin\n",
    "from sklearn.preprocessing import OrdinalEncoder\n",
    "from sklearn.preprocessing import MinMaxScaler\n",
    "from sklearn.utils.validation import check_is_fitted\n",
    "from sklearn.model_selection import train_test_split\n",
    "from sklearn.metrics import mean_squared_error\n",
    "\n",
    "%matplotlib inline\n",
    "\n",
    "sns.set_theme(style=\"darkgrid\")"
   ]
  },
  {
   "cell_type": "markdown",
   "id": "ecb5f545-eeca-47bc-8cff-5720bffbc3e1",
   "metadata": {},
   "source": [
    "<div style=\"background-color: #6D83C5;\" >\n",
    "    <h4 style=\"margin: auto; padding: 20px; color:#fff; \">1.2. Functions declaration</h4>\n",
    "</div>"
   ]
  },
  {
   "cell_type": "code",
   "execution_count": 3,
   "id": "6edd7e59-4773-41e6-8813-81e1ddea530d",
   "metadata": {
    "tags": []
   },
   "outputs": [],
   "source": [
    "def df_analysis(df, name_df, columns, *args, **kwargs):\n",
    "    \"\"\"\n",
    "    Method used for analyzing on the DataFrame.\n",
    "\n",
    "    Parameters:\n",
    "    -----------------\n",
    "        df (pandas.DataFrame): Dataset to analyze\n",
    "        name_df (str): Dataset name\n",
    "        columns (list): Dataframe keys in list format\n",
    "        \n",
    "        *args, **kwargs:\n",
    "        -----------------\n",
    "            flag (str): Flag to show complete information about the dataset to analyse\n",
    "                        \"complete\" shows all information about the dataset\n",
    "\n",
    "    Returns:\n",
    "    -----------------\n",
    "        None. \n",
    "        Print the analysis on the Dataset. \n",
    "    \"\"\"\n",
    "    \n",
    "    # Getting the variables\n",
    "    flag = kwargs.get(\"flag\", None)\n",
    "    \n",
    "    ORDERING_COMPLETE = [\n",
    "        \"name\", \"type\", \"records\", \"unique\", \"# NaN\", \"% NaN\", \"mean\", \"min\", \"25%\", \"50%\", \"75%\", \"max\", \"std\"\n",
    "    ]\n",
    "    \n",
    "    # Calculating the memory usage based on dataframe.info()\n",
    "    buf = io.StringIO()\n",
    "    df.info(buf=buf)\n",
    "    memory_usage = buf.getvalue().split('\\n')[-2]\n",
    "    \n",
    "    if df.empty:\n",
    "        print(\"The\", name_df, \"dataset is empty. Please verify the file.\")\n",
    "    else:\n",
    "        empty_cols = [col for col in df.columns if df[col].isna().all()] # identifying empty columns\n",
    "        df_rows_duplicates = df[df.duplicated()] #identifying full duplicates rows\n",
    "        \n",
    "        # Creating a dataset based on Type object and records by columns\n",
    "        type_cols = df.dtypes.apply(lambda x: x.name).to_dict() \n",
    "        df_resume = pd.DataFrame(list(type_cols.items()), columns = [\"name\", \"type\"])\n",
    "        df_resume[\"records\"] = list(df.count())\n",
    "        df_resume[\"# NaN\"] = list(df.isnull().sum())\n",
    "        df_resume[\"% NaN\"] = list(((df.isnull().sum() / len(df.index))*100).round(2))\n",
    "        \n",
    "        print(\"\\nAnalysis of\", name_df, \"dataset\")\n",
    "        print(\"--------------------------------------------------------------------\")\n",
    "        print(\"- Dataset shape:                 \", df.shape[0], \"rows and\", df.shape[1], \"columns\")\n",
    "        print(\"- Total of NaN values:           \", df.isna().sum().sum())\n",
    "        print(\"- Percentage of NaN:             \", round((df.isna().sum().sum() / prod(df.shape)) * 100, 2), \"%\")\n",
    "        print(\"- Total of full duplicates rows: \", df_rows_duplicates.shape[0])\n",
    "        print(\"- Total of empty rows:           \", df.shape[0] - df.dropna(axis=\"rows\", how=\"all\").shape[0]) if df.dropna(axis=\"rows\", how=\"all\").shape[0] < df.shape[0] else \\\n",
    "                    print(\"- Total of empty rows:            0\")\n",
    "        print(\"- Total of empty columns:        \", len(empty_cols))\n",
    "        print(\"  + The empty column is:         \", empty_cols) if len(empty_cols) == 1 else \\\n",
    "                    print(\"  + The empty column are:         \", empty_cols) if len(empty_cols) >= 1 else None\n",
    "        print(\"- Unique indexes:                \", df.index.is_unique)\n",
    "        \n",
    "        print(\"\\n- The key(s):\", columns, \"is not present multiple times in the dataframe.\\n  It CAN be used as a primary key.\") if df.size == df.drop_duplicates(columns).size else \\\n",
    "            print(\"\\n- The key(s):\", columns, \"is present multiple times in the dataframe.\\n  It CANNOT be used as a primary key.\")\n",
    "        \n",
    "        pd.set_option(\"display.max_rows\", None) # show full of showing rows\n",
    "        pd.set_option(\"display.max_columns\", None) # show full of showing cols\n",
    "        pd.set_option(\"max_colwidth\", None) # show full width of showing cols\n",
    "        \n",
    "        if flag is None or flag != \"complete\":\n",
    "            print(\"\\n- Type object and records by columns   (\",memory_usage,\")\")\n",
    "            print(\"--------------------------------------------------------------------\")\n",
    "        elif flag == \"complete\":\n",
    "            df_resume[\"unique\"] = list(df.nunique())\n",
    "            df_desc = pd.DataFrame(df.describe().T).reset_index()\n",
    "            df_desc = df_desc.rename(columns={\"index\": \"name\"})\n",
    "            df_resume = df_resume.merge(right=df_desc[[\"name\", \"mean\", \"min\", \"25%\", \"50%\", \"75%\", \"max\", \"std\"]], on=\"name\", how=\"left\")\n",
    "            df_resume = df_resume[ORDERING_COMPLETE]\n",
    "            print(\"\\n- Type object and records by columns                                                                   (\",memory_usage,\")\")\n",
    "            print(\"---------------------------------------------------------------------------------------------------------------------------------\")\n",
    "        \n",
    "        display(df_resume.sort_values(\"records\", ascending=False))\n",
    "        \n",
    "        pd.reset_option(\"display.max_rows\") # reset max of showing rows\n",
    "        pd.reset_option(\"display.max_columns\") # reset max of showing cols\n",
    "        pd.reset_option(\"display.max_colwidth\") # reset width of showing cols\n",
    "        \n",
    "        # deleting dataframe to free memory\n",
    "        if flag == \"complete\":\n",
    "            del [[df_resume, df_desc]]\n",
    "            gc.collect()\n",
    "            df_resume, df_desc = (pd.DataFrame() for i in range(2))\n",
    "        else:\n",
    "            del df_resume\n",
    "            gc.collect()\n",
    "            df_resume = pd.DataFrame()"
   ]
  },
  {
   "cell_type": "markdown",
   "id": "91a93b2f-7fba-41ab-bcb5-0ce9b20cc75e",
   "metadata": {
    "tags": []
   },
   "source": [
    "<div style=\"background-color: #506AB9;\" >\n",
    "    <h3 style=\"margin: auto; padding: 20px; color:#fff; \">2. Importing files</h3>\n",
    "</div>"
   ]
  },
  {
   "cell_type": "markdown",
   "id": "e6383420-c1ee-4951-a178-681afbf86b1a",
   "metadata": {},
   "source": [
    "<div style=\"background-color: #6D83C5;\" >\n",
    "    <h4 style=\"margin: auto; padding: 20px; color:#fff; \">2.1. Importing and preparing files</h4>\n",
    "</div>"
   ]
  },
  {
   "cell_type": "markdown",
   "id": "a01d2dea-b090-4984-acec-717620ad32ad",
   "metadata": {},
   "source": [
    "<div class=\"alert alert-block alert-info\">\n",
    "Reading data in <b>chunks of 1 million rows</b> at a time\n",
    "</div>"
   ]
  },
  {
   "cell_type": "markdown",
   "id": "7726a50c-c5c1-4cbf-a5ae-a10ebdf7a045",
   "metadata": {},
   "source": [
    "Reading data in <b>chunks of 1 million rows</b> at a time"
   ]
  },
  {
   "cell_type": "code",
   "execution_count": 3,
   "id": "7c7d9a55-463c-42ac-b0af-d26fac334b63",
   "metadata": {},
   "outputs": [
    {
     "name": "stderr",
     "output_type": "stream",
     "text": [
      "C:\\Users\\Samir\\anaconda3\\lib\\site-packages\\IPython\\core\\interactiveshell.py:3437: DtypeWarning: Columns (0,8,13,27,28,29,31,47,52,55,64) have mixed types.Specify dtype option on import or set low_memory=False.\n",
      "  exec(code_obj, self.user_global_ns, self.user_ns)\n",
      "C:\\Users\\Samir\\anaconda3\\lib\\site-packages\\IPython\\core\\interactiveshell.py:3437: DtypeWarning: Columns (0,8,13,29,31,47,52,64,81,84) have mixed types.Specify dtype option on import or set low_memory=False.\n",
      "  exec(code_obj, self.user_global_ns, self.user_ns)\n"
     ]
    },
    {
     "name": "stdout",
     "output_type": "stream",
     "text": [
      "Read csv with chunks:  143.009605884552 sec\n"
     ]
    }
   ],
   "source": [
    "start = time.time()\n",
    "chunk = pd.read_csv(\"datasets/en.openfoodfacts.org.products.csv\", chunksize=1000000, sep=\"\\t\", encoding=\"UTF-8\")\n",
    "data = pd.concat(chunk)\n",
    "end = time.time()\n",
    "print(\"Read csv with chunks: \",(end-start),\"sec\")"
   ]
  },
  {
   "cell_type": "code",
   "execution_count": null,
   "id": "a949e9d6-2546-48d9-8ae4-7c57fefa604a",
   "metadata": {},
   "outputs": [],
   "source": []
  }
 ],
 "metadata": {
  "kernelspec": {
   "display_name": "Python 3",
   "language": "python",
   "name": "python3"
  },
  "language_info": {
   "codemirror_mode": {
    "name": "ipython",
    "version": 3
   },
   "file_extension": ".py",
   "mimetype": "text/x-python",
   "name": "python",
   "nbconvert_exporter": "python",
   "pygments_lexer": "ipython3",
   "version": "3.8.5"
  }
 },
 "nbformat": 4,
 "nbformat_minor": 5
}
