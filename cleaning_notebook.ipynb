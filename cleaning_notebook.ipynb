{
 "cells": [
  {
   "cell_type": "markdown",
   "id": "5d998865-863c-4e29-9bd1-fac74abc8367",
   "metadata": {},
   "source": [
    "<h1 align=\"center\">Design an application for public health - Project 3</h1>\n",
    "<h2 align=\"center\">Cleaning notebook</h2>\n",
    "<h3 align=\"center\">Data Scientist course - OpenClassrooms</h3>"
   ]
  },
  {
   "cell_type": "markdown",
   "id": "10dc5dbf-b0dd-48f1-8fa2-b45be8fb71aa",
   "metadata": {},
   "source": [
    "<h1><center>Hola mundo</center><h1>\n",
    "    \n",
    "    dasdasdasd"
   ]
  },
  {
   "cell_type": "markdown",
   "id": "7e150ed2-80a8-4201-a141-4b6da2b745fc",
   "metadata": {},
   "source": [
    "<div class=\"alert alert-block alert-info\">\n",
    "    This <b>notebook</b> is optimized to <b>be used</b> with:\n",
    "    <ul style=\"list-style-type: square;\">\n",
    "    <li>JupyterLab 3.0.14</li>\n",
    "    <li>JupyterLab Theme: JupyterLab Dark</li>\n",
    "    <li>Extension: @jupyter-widgets/jupyterlab-manager</li>\n",
    "</ul>\n",
    "</div>"
   ]
  },
  {
   "cell_type": "code",
   "execution_count": null,
   "id": "de3cec2e-e43a-4787-8c26-3d218acfda4b",
   "metadata": {},
   "outputs": [],
   "source": []
  },
  {
   "cell_type": "markdown",
   "id": "ee376e7a-512d-4464-8c29-ee57695bc9b6",
   "metadata": {},
   "source": [
    "## <center>Your centered level h2 title</center>"
   ]
  },
  {
   "cell_type": "markdown",
   "id": "939a23e4-89cd-4b7a-b051-0c4be081cfd1",
   "metadata": {},
   "source": [
    "<h3 align=\"center\">This is a centered header</h3>"
   ]
  }
 ],
 "metadata": {
  "kernelspec": {
   "display_name": "Python 3",
   "language": "python",
   "name": "python3"
  },
  "language_info": {
   "codemirror_mode": {
    "name": "ipython",
    "version": 3
   },
   "file_extension": ".py",
   "mimetype": "text/x-python",
   "name": "python",
   "nbconvert_exporter": "python",
   "pygments_lexer": "ipython3",
   "version": "3.8.5"
  }
 },
 "nbformat": 4,
 "nbformat_minor": 5
}
