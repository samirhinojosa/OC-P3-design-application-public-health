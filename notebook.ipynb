{
 "cells": [
  {
   "cell_type": "markdown",
   "id": "949a46fd-439c-48b5-af32-70bff8dbb6e7",
   "metadata": {},
   "source": [
    "<div style=\"display: flex; background-color: #3F579F;\">\n",
    "    <h1 style=\"margin: auto; padding: 30px 30px 0px 30px;\">Design an application for public health - Project 3</h1>\n",
    "</div>\n",
    "<div style=\"display: flex; background-color: #3F579F; margin: auto; padding: 5px 30px 0px 30px;\">\n",
    "    <span style=\"width: 100%; text-align: center; font-size:20px; font-weight: bold; float: left;\">| Cleaning notebook |</span>\n",
    "</div>\n",
    "<div style=\"display: flex; background-color: #3F579F; margin: auto; padding: 10px 30px 30px 30px;\">\n",
    "    <span style=\"width: 100%; text-align: center; font-size:26px; float: left;\">Data Scientist course - OpenClassrooms</span>\n",
    "</div>"
   ]
  },
  {
   "cell_type": "markdown",
   "id": "32bcdfc7-1edc-4d6b-87c7-27db867138fd",
   "metadata": {
    "tags": []
   },
   "source": [
    "<div style=\"background-color: #506AB9;\" >\n",
    "    <h2 style=\"margin: auto; padding: 20px; color:#fff; \">1. Libraries and functions</h2>\n",
    "</div>"
   ]
  },
  {
   "cell_type": "markdown",
   "id": "85059765-112e-4e32-9a3d-cb71f92a2903",
   "metadata": {},
   "source": [
    "<div style=\"background-color: #6D83C5;\" >\n",
    "    <h3 style=\"margin: auto; padding: 20px; color:#fff; \">1.1. Libraries and functions</h3>\n",
    "</div>"
   ]
  },
  {
   "cell_type": "code",
   "execution_count": null,
   "id": "0aa2b908-ffd2-42a1-9c55-9e8720f6f66a",
   "metadata": {},
   "outputs": [],
   "source": [
    "import io\n",
    "import gc\n",
    "from math import prod\n",
    "import time as time\n",
    "import pandas as pd\n",
    "import numpy as np"
   ]
  },
  {
   "cell_type": "markdown",
   "id": "c0fd554a-1b14-406d-b996-2bbf30c5611c",
   "metadata": {},
   "source": [
    "<div class=\"alert alert-block alert-info\">\n",
    "Due to size of the dataset, it is necessary to show all columns to work on it\n",
    "</div>"
   ]
  },
  {
   "cell_type": "code",
   "execution_count": null,
   "id": "24552fc8-fa0c-4dec-90f4-21fd000e36fa",
   "metadata": {},
   "outputs": [],
   "source": [
    "pd.set_option(\"display.max_columns\", None) # show max of cols\n",
    "pd.set_option(\"max_colwidth\", None) # show full width of cols"
   ]
  },
  {
   "cell_type": "markdown",
   "id": "029ee2d4-c3e7-435d-bbac-e0b019d63721",
   "metadata": {},
   "source": [
    "<div style=\"background-color: #6D83C5;\" >\n",
    "    <h3 style=\"margin: auto; padding: 20px; color:#fff; \">1.2. Functions declaration</h3>\n",
    "</div>"
   ]
  },
  {
   "cell_type": "code",
   "execution_count": null,
   "id": "9e829866-3d62-4ab4-a2c9-101f956082ae",
   "metadata": {
    "tags": []
   },
   "outputs": [],
   "source": [
    "def df_initial_analysis(df, name_df):\n",
    "    \"\"\"\n",
    "    Initial analysis on the DataFrame.\n",
    "\n",
    "    Args:\n",
    "        df (pandas.DataFrame): DataFrame to analyze.\n",
    "        name_df (str): DataFrame name.\n",
    "\n",
    "    Returns:\n",
    "        None. \n",
    "        Print the initial analysis on the DataFrame. \n",
    "    \"\"\"\n",
    "    \n",
    "    # Calculating the memory usage based on dataframe.info()\n",
    "    buf = io.StringIO()\n",
    "    df.info(buf=buf)\n",
    "    memory_usage = buf.getvalue().split('\\n')[-2]\n",
    "    \n",
    "    if df.empty:\n",
    "        print(\"The\", name_df, \"dataset is empty. Please verify the file.\")\n",
    "    else:\n",
    "        empty_cols = [col for col in df.columns if df[col].isna().all()] # identifying empty columns\n",
    "        df_rows_duplicates = df[df.duplicated()] #identifying full duplicates rows\n",
    "        \n",
    "        # Creating a dataset based on Type object and records by columns\n",
    "        type_cols = df.dtypes.apply(lambda x: x.name).to_dict() \n",
    "        df_resume = pd.DataFrame(list(type_cols.items()), columns = [\"Name\", \"Type\"])\n",
    "        df_resume[\"Records\"] = list(df.count())\n",
    "        df_resume[\"# NaN\"] = list(df.isnull().sum())\n",
    "        df_resume[\"% NaN\"] = list(((df.isnull().sum() / len(df.index))*100).round(2))\n",
    "        \n",
    "        print(\"\\nInitial Analysis of\", name_df, \"dataset\")\n",
    "        print(\"-----------------------------------------------------------------------\")\n",
    "        print(\"- Dataset shape:                 \", df.shape[0], \"rows and\", df.shape[1], \"columns\")\n",
    "        print(\"- Total of NaN values:           \", df.isna().sum().sum())\n",
    "        print(\"- Percentage of NaN:             \", round((df.isna().sum().sum() / prod(df.shape)) * 100, 2), \"%\")\n",
    "        print(\"- Total of full duplicates rows: \", df_rows_duplicates.shape[0])\n",
    "        print(\"- Total of empty rows:           \", df.shape[0] - df.dropna(axis=\"rows\", how=\"all\").shape[0]) if df.dropna(axis=\"rows\", how=\"all\").shape[0] < df.shape[0] else \\\n",
    "                    print(\"- Total of empty rows:            0\")\n",
    "        print(\"- Total of empty columns:        \", len(empty_cols))\n",
    "        print(\"  + The empty column is:         \", empty_cols) if len(empty_cols) == 1 else \\\n",
    "                    print(\"  + The empty column are:         \", empty_cols) if len(empty_cols) >= 1 else None\n",
    "        \n",
    "        pd.set_option(\"display.max_rows\", None) # show full of showing rows\n",
    "        pd.set_option(\"display.max_columns\", None) # show full of showing cols\n",
    "        pd.set_option(\"max_colwidth\", None) # show full width of showing cols\n",
    "        \n",
    "        print(\"\\n- Type object and records by columns        (\",memory_usage,\")\")\n",
    "        print(\"-----------------------------------------------------------------------\")\n",
    "        display(df_resume.sort_values(\"Records\", ascending=False))\n",
    "        \n",
    "        pd.reset_option(\"display.max_rows\") # reset max of showing rows\n",
    "        pd.reset_option(\"display.max_columns\") # reset max of showing cols\n",
    "        pd.reset_option(\"display.max_colwidth\") # reset width of showing cols\n",
    "        \n",
    "        # deleting dataframe to free memory\n",
    "        del [df_resume]\n",
    "        gc.collect()\n",
    "        df_resume = pd.DataFrame()\n"
   ]
  },
  {
   "cell_type": "markdown",
   "id": "dc50dd5a-afde-40b6-b9cd-433d4eaefd70",
   "metadata": {
    "tags": []
   },
   "source": [
    "<div style=\"background-color: #506AB9;\" >\n",
    "    <h2 style=\"margin: auto; padding: 20px; color:#fff; \">2. Importing files</h2>\n",
    "</div>"
   ]
  },
  {
   "cell_type": "markdown",
   "id": "8e767c18-991b-4411-85bf-2e0b2a3f3c94",
   "metadata": {},
   "source": [
    "<div style=\"background-color: #6D83C5;\" >\n",
    "    <h3 style=\"margin: auto; padding: 20px; color:#fff; \">2.1. Importing and preparing files</h3>\n",
    "</div>"
   ]
  },
  {
   "cell_type": "markdown",
   "id": "4cb837e8-4759-486d-b2b3-84a612ab075f",
   "metadata": {},
   "source": [
    "<div class=\"alert alert-block alert-info\">\n",
    "Reading data in <b>chunks of 1 million rows</b> at a time\n",
    "</div>"
   ]
  },
  {
   "cell_type": "code",
   "execution_count": null,
   "id": "c9f695f9-ee6f-48ce-bf42-353f5fe4a59b",
   "metadata": {},
   "outputs": [],
   "source": [
    "start = time.time()\n",
    "chunk = pd.read_csv(\"datasets/en.openfoodfacts.org.products.csv\", chunksize=1000000, sep=\"\\t\", encoding=\"UTF-8\")\n",
    "data = pd.concat(chunk)\n",
    "end = time.time()\n",
    "print(\"Read csv with chunks: \",(end-start),\"sec\")"
   ]
  },
  {
   "cell_type": "markdown",
   "id": "a8b400f8-6342-4ae0-860b-f1404b86ea8a",
   "metadata": {},
   "source": [
    "<div class=\"alert alert-block alert-info\">\n",
    "Making <b>the initial analysis</b>\n",
    "</div>"
   ]
  },
  {
   "cell_type": "markdown",
   "id": "2dff4fe4-089a-4de7-96b2-f43a1b4556a7",
   "metadata": {},
   "source": [
    "<div class=\"alert alert-block alert-warning\">\n",
    "After analyzed the dataset, we can conclude the following:\n",
    "<ol>\n",
    "    <li>Almost 80% of the data present in data set are missing-values</li>\n",
    "    <li>There are 5 empty columns that we can delete</li>\n",
    "    <li>There is a lot of memory usage with this dataset</li>\n",
    "</ol>\n",
    "</div>"
   ]
  },
  {
   "cell_type": "code",
   "execution_count": null,
   "id": "66252073-34b0-4582-a9fa-2f5e0116e3c2",
   "metadata": {
    "tags": []
   },
   "outputs": [],
   "source": [
    "df_initial_analysis(data, \"data\")"
   ]
  },
  {
   "cell_type": "markdown",
   "id": "03fc7760-2c2f-4f73-97fe-3432a8841c47",
   "metadata": {
    "tags": []
   },
   "source": [
    "<div style=\"background-color: #506AB9;\" >\n",
    "    <h2 style=\"margin: auto; padding: 20px; color:#fff; \">2. Cleaning dataset</h2>\n",
    "</div>"
   ]
  },
  {
   "cell_type": "markdown",
   "id": "0479149d-8cb0-4aea-ad30-1a9fd8766241",
   "metadata": {
    "tags": []
   },
   "source": [
    "<div style=\"background-color: #6D83C5;\" >\n",
    "    <h3 style=\"margin: auto; padding: 20px; color:#fff; \">2.1. Deleting NaN columns and rows, and duplicated rows</h3>\n",
    "</div>"
   ]
  },
  {
   "cell_type": "code",
   "execution_count": null,
   "id": "bcd5d2c1-7ee5-4883-b613-ef63ae3a26b8",
   "metadata": {},
   "outputs": [],
   "source": [
    "data = data.dropna(axis=\"columns\", how=\"all\").dropna(axis=\"rows\", how=\"all\")"
   ]
  },
  {
   "cell_type": "code",
   "execution_count": null,
   "id": "2d3d26f2-ac31-4357-9312-d68628a6ae9e",
   "metadata": {},
   "outputs": [],
   "source": [
    "data = data.drop_duplicates()"
   ]
  },
  {
   "cell_type": "code",
   "execution_count": null,
   "id": "f47f7ca8-0fb4-4b73-b61b-8f87c4321682",
   "metadata": {
    "tags": []
   },
   "outputs": [],
   "source": [
    "df_initial_analysis(data, \"data\")"
   ]
  },
  {
   "cell_type": "markdown",
   "id": "7950d746-a34a-4a9a-b1bb-f4dd681caa04",
   "metadata": {
    "tags": []
   },
   "source": [
    "<div style=\"background-color: #6D83C5;\" >\n",
    "    <h3 style=\"margin: auto; padding: 20px; color:#fff; \">2.2. Fixing the columns types</h3>\n",
    "</div>"
   ]
  },
  {
   "cell_type": "markdown",
   "id": "70c7afbf-5081-4600-a3bb-de974493ab02",
   "metadata": {
    "tags": []
   },
   "source": [
    "<div class=\"alert alert-block alert-warning\">\n",
    "There are some columns with column type wrong. We can see this information based on:\n",
    "<ul style=\"list-style-type: square;\">\n",
    "    <li>Open Food Facts data-fileds: <b>https://world.openfoodfacts.org/data/data-fields.txt</b></li>\n",
    "    <li>At the momento to <b>import the *.csv</b></li>\n",
    "    <li>As a result of the function <b>df_initial_analysis</b></li>\n",
    "</ul>\n",
    "\n",
    "Due to that, we are going to proceed to fix them. \n",
    "</div>"
   ]
  },
  {
   "cell_type": "markdown",
   "id": "a72a5de5-789a-42d8-899e-d3b4eae1a4d9",
   "metadata": {},
   "source": [
    "<div class=\"alert alert-block alert-info\">\n",
    "<b>Fixing column types float64</b><br>\n",
    "Based on Open Food Facts data-fileds: <b>https://world.openfoodfacts.org/data/data-fields.txt</b>, we know the following\n",
    "<ul style=\"list-style-type: square;\">\n",
    "    <li>fields that end with <b>_100g</b> correspond to <b>the amount of a nutriment</b> (in g, or kJ for energy) for <b>100 g</b> or <b>100 ml</b> of product</li>\n",
    "    <li>fields that end with <b>_serving</b> correspond to <b>the amount of a nutriment</b> (in g, or kJ for energy) for <b>1</b> serving of the product</li>\n",
    "</ul>\n",
    "\n",
    "Finally, we are going to make the <b>downcast</b> from <b>float64</b> to <b>float32</b> \n",
    "</div><b>"
   ]
  },
  {
   "cell_type": "code",
   "execution_count": null,
   "id": "4a2bd6ac-1424-4a8f-b270-dd89c9622ded",
   "metadata": {},
   "outputs": [],
   "source": [
    "for col in data.columns:\n",
    "    if (col.endswith(\"_100g\") or col.endswith(\"_serving\")) and data[col].dtypes != \"float64\":\n",
    "        print(\"Column to update the column type:\", col, data[col].dtypes)\n",
    "        data[col] = data[col].astype(\"float64\")"
   ]
  },
  {
   "cell_type": "code",
   "execution_count": null,
   "id": "d3c06d69-63ee-448d-b63e-6f5ff3276e8f",
   "metadata": {},
   "outputs": [],
   "source": [
    "for col in data.columns:\n",
    "    if data[col].dtypes == \"float64\":\n",
    "        data[col] = data[col].astype(\"float32\")"
   ]
  },
  {
   "cell_type": "markdown",
   "id": "5d8cf2b5-48f1-4cde-83cd-be3c4e9df653",
   "metadata": {},
   "source": [
    "<div class=\"alert alert-block alert-info\">\n",
    "<b>Fixing column types datetime</b><br>\n",
    "Based on Open Food Facts data-fileds: <b>https://world.openfoodfacts.org/data/data-fields.txt</b>, we know the following:\n",
    "<ul style=\"list-style-type: square;\">\n",
    "    <li>fields that end with <b>_t</b> are dates in <b>the UNIX timestamp format</b> (number of seconds since Jan 1st 1970)</b></li>\n",
    "    <li>fields that end with <b>_datetime</b> are dates in <b>the iso8601 format: yyyy-mm-ddThh:mn:ssZ</b></li>\n",
    "</ul>\n",
    "\n",
    "In this case, both group of columns have the same amount of data. Due to that, we will only keep the columns ended by <b>_datetime</b>\n",
    "</div>"
   ]
  },
  {
   "cell_type": "code",
   "execution_count": null,
   "id": "11b94273-1ee2-49be-9452-64450b46a61d",
   "metadata": {},
   "outputs": [],
   "source": [
    "for col in data.columns:\n",
    "    if col.endswith(\"_datetime\") and data[col].dtypes != \"datetime64\":\n",
    "        print(\"Column to update the column type:\", col, data[col].dtypes)\n",
    "        data[col] = data[col].astype(\"datetime64\")"
   ]
  },
  {
   "cell_type": "code",
   "execution_count": null,
   "id": "60336a4b-8445-4fa4-9297-120d4f485501",
   "metadata": {},
   "outputs": [],
   "source": [
    "for col in data.columns:\n",
    "    if col.endswith(\"_t\"):\n",
    "        print(\"Column to delete:\", col, data[col].dtypes)\n",
    "        data = data.drop(col, axis=1)  "
   ]
  },
  {
   "cell_type": "markdown",
   "id": "cdbdae39-81aa-402d-8eec-86fe5e9b604b",
   "metadata": {},
   "source": [
    "<div class=\"alert alert-block alert-info\">\n",
    "Checking the usage of memory\n",
    "</div>"
   ]
  },
  {
   "cell_type": "code",
   "execution_count": null,
   "id": "3a65d14c-27bc-4773-8fbe-f85022a4424e",
   "metadata": {},
   "outputs": [],
   "source": [
    "data.info(memory_usage=\"deep\")"
   ]
  },
  {
   "cell_type": "markdown",
   "id": "3e19b066-5d5a-47e9-b928-dadb2227a668",
   "metadata": {},
   "source": [
    "<div class=\"alert alert-block alert-info\">\n",
    "If the number of unique values in a specific column is less than the half numbers of rows in the same column, we are going to change the type from <b>object</b> to <b>category</b> to improve the usage of memory\n",
    "</div>"
   ]
  },
  {
   "cell_type": "code",
   "execution_count": null,
   "id": "6fb6cea1-d794-4664-88b8-0a2b3bc58774",
   "metadata": {},
   "outputs": [],
   "source": [
    "for col in data.columns:\n",
    "    if data[col].dtypes == \"object\":\n",
    "        if len(data[col].unique()) / len(data[col]) < 0.5:\n",
    "            data[col] = data[col].astype(\"category\")\n",
    "        else:\n",
    "            data[col] = data[col].astype(\"object\")"
   ]
  },
  {
   "cell_type": "markdown",
   "id": "6ed77c70-ed1b-4f7a-bd80-d37b94a166c5",
   "metadata": {},
   "source": [
    "<div class=\"alert alert-block alert-info\">\n",
    "Checking the usage of memory\n",
    "</div>"
   ]
  },
  {
   "cell_type": "code",
   "execution_count": null,
   "id": "f19d30cc-caee-4837-a4bc-014526d39085",
   "metadata": {},
   "outputs": [],
   "source": [
    "data.info(memory_usage=\"deep\")"
   ]
  },
  {
   "cell_type": "code",
   "execution_count": null,
   "id": "c2a898e9-62ed-4d19-8816-af0f2a7426d2",
   "metadata": {
    "tags": []
   },
   "outputs": [],
   "source": [
    "df_initial_analysis(data, \"data\")"
   ]
  },
  {
   "cell_type": "markdown",
   "id": "a50f31a4-d58f-49d8-a018-98bed3b55abb",
   "metadata": {
    "tags": []
   },
   "source": [
    "<div style=\"background-color: #506AB9;\" >\n",
    "    <h2 style=\"margin: auto; padding: 20px; color:#fff; \">3. Filtering information</h2>\n",
    "</div>"
   ]
  },
  {
   "cell_type": "markdown",
   "id": "e5190bdf-2754-40af-91f9-b478b0630958",
   "metadata": {
    "tags": []
   },
   "source": [
    "<div style=\"background-color: #6D83C5;\" >\n",
    "    <h3 style=\"margin: auto; padding: 20px; color:#fff; \">3.1. Filtering information by country <b>France</b></h3>\n",
    "</div>"
   ]
  },
  {
   "cell_type": "markdown",
   "id": "05ef9557-5b89-43c9-9ec8-63b2e83c55b3",
   "metadata": {},
   "source": [
    "<div class=\"alert alert-block alert-info\">\n",
    "<b>Countries where the product is sold</b><br>\n",
    "Based on Open Food Facts data-fileds: <b>https://world.openfoodfacts.org/data/data-fields.txt</b>, we know the following\n",
    "<ul style=\"list-style-type: square;\">\n",
    "    <li> There are three fields about countries where the product is sold</li>\n",
    "        <ul style=\"list-style-type: disc;\">\n",
    "            <li>countries</li>\n",
    "            <li>countries_en</li>\n",
    "            <li>countries_tags</li>\n",
    "        </ul>\n",
    "</ul>\n",
    "\n",
    "After analyzing the columns, we have decided to used the columns called <b>countries</b>.<br>\n",
    "We are going to filter considering only France and its overseas department\n",
    "</div>"
   ]
  },
  {
   "cell_type": "code",
   "execution_count": null,
   "id": "f15d8f67-03ee-43eb-83f0-8deebd1e7081",
   "metadata": {},
   "outputs": [],
   "source": [
    "FILTERING_BY_FRANCE = [\n",
    "    \"France\", \"fr\", \"Francia\", \"French\", \"Frankreich\", \"Nouvelle-Calédonie\", \"Martinique\", \"Guadeloupe\", \"Polynésie Française\", \"Mayotte\"\n",
    "]"
   ]
  },
  {
   "cell_type": "markdown",
   "id": "85eac5c9-ddd4-4a9a-bf7b-fbec31e924b9",
   "metadata": {},
   "source": [
    "<div class=\"alert alert-block alert-success\">\n",
    "At this point, we have reduced the amount of data in the dataset filtering by country France\n",
    "</div>"
   ]
  },
  {
   "cell_type": "code",
   "execution_count": null,
   "id": "7e700509-42c8-4c78-8b0e-76d0f2c31192",
   "metadata": {},
   "outputs": [],
   "source": [
    "data = pd.DataFrame(data[data[\"countries\"].str.contains(\"|\".join(FILTERING_BY_FRANCE), case = False, na=False).any(level=0)])"
   ]
  },
  {
   "cell_type": "code",
   "execution_count": null,
   "id": "d8c980f9-4abd-4b2e-8d58-bdea0e9530f7",
   "metadata": {},
   "outputs": [],
   "source": [
    "data.info(memory_usage=\"deep\")"
   ]
  },
  {
   "cell_type": "code",
   "execution_count": null,
   "id": "30588fe4-3a62-4608-a0d2-4d1d5290d1a4",
   "metadata": {},
   "outputs": [],
   "source": [
    "df_initial_analysis(data, \"data\")"
   ]
  },
  {
   "cell_type": "code",
   "execution_count": null,
   "id": "54ff3757-5d61-413a-9828-280b72ac3418",
   "metadata": {},
   "outputs": [],
   "source": [
    "data = data.dropna(axis=\"columns\", how=\"all\").dropna(axis=\"rows\", how=\"all\")"
   ]
  },
  {
   "cell_type": "code",
   "execution_count": null,
   "id": "185acd29-b514-4e68-8a46-57cf684517d4",
   "metadata": {
    "tags": []
   },
   "outputs": [],
   "source": [
    "#df_temp = data.copy()"
   ]
  },
  {
   "cell_type": "markdown",
   "id": "69f7c1f0-fc95-4074-8df3-d983c2515465",
   "metadata": {},
   "source": [
    "<div class=\"alert alert-block alert-danger\">\n",
    "<b>Position Flag</b>\n",
    "</div>"
   ]
  },
  {
   "cell_type": "code",
   "execution_count": null,
   "id": "0cc76763-b6f6-40d4-a17d-9bc2f4432e98",
   "metadata": {},
   "outputs": [],
   "source": []
  },
  {
   "cell_type": "code",
   "execution_count": null,
   "id": "2cd98a13-77fb-467d-95b1-ac9d8497c58a",
   "metadata": {},
   "outputs": [],
   "source": []
  },
  {
   "cell_type": "code",
   "execution_count": null,
   "id": "77bb6a54-8f5d-42fe-acfa-da4c6a12729f",
   "metadata": {},
   "outputs": [],
   "source": []
  },
  {
   "cell_type": "code",
   "execution_count": null,
   "id": "7b7e9c53-0282-4cc3-83a2-52264b43888a",
   "metadata": {},
   "outputs": [],
   "source": []
  },
  {
   "cell_type": "code",
   "execution_count": null,
   "id": "bb364b2a-bcdf-41c6-887c-1e8423c0a8fe",
   "metadata": {},
   "outputs": [],
   "source": []
  },
  {
   "cell_type": "code",
   "execution_count": null,
   "id": "1dc334e7-e8de-479b-a389-b4776595b086",
   "metadata": {},
   "outputs": [],
   "source": []
  },
  {
   "cell_type": "code",
   "execution_count": null,
   "id": "3251f2ec-472b-4580-b19f-0279ead1132a",
   "metadata": {},
   "outputs": [],
   "source": [
    "pd.set_option(\"display.max_rows\", None) # show full of showing rows\n",
    "pd.set_option(\"display.max_columns\", None) # show full of showing cols\n",
    "pd.set_option(\"max_colwidth\", None) # show full width of showing cols\n",
    "\n",
    "data.describe()\n",
    "\n",
    "pd.reset_option(\"display.max_rows\") # reset max of showing rows\n",
    "pd.reset_option(\"display.max_columns\") # reset max of showing cols\n",
    "pd.reset_option(\"display.max_colwidth\") # reset width of showing cols"
   ]
  },
  {
   "cell_type": "code",
   "execution_count": null,
   "id": "5ebc1207-1a38-4fcc-973b-7d3c8b407b3b",
   "metadata": {},
   "outputs": [],
   "source": []
  },
  {
   "cell_type": "code",
   "execution_count": null,
   "id": "e872e372-cd71-41d3-9bf5-051136ba53e4",
   "metadata": {},
   "outputs": [],
   "source": []
  },
  {
   "cell_type": "code",
   "execution_count": null,
   "id": "8716e06b-80d1-42f0-b8d6-ee7e7280f30d",
   "metadata": {},
   "outputs": [],
   "source": [
    "#df = pd.DataFrame()"
   ]
  },
  {
   "cell_type": "code",
   "execution_count": null,
   "id": "80dce3f9-cb40-452d-9496-c5c078e6f613",
   "metadata": {},
   "outputs": [],
   "source": [
    "#df = data.loc[:, data.isnull().mean() > .8]"
   ]
  },
  {
   "cell_type": "code",
   "execution_count": null,
   "id": "68808964-8e4d-41d4-ab2a-87d9f9da2f3d",
   "metadata": {},
   "outputs": [],
   "source": [
    "#df.columns"
   ]
  },
  {
   "cell_type": "code",
   "execution_count": null,
   "id": "e8db028f-6557-4aac-91c3-960032e9568a",
   "metadata": {},
   "outputs": [],
   "source": []
  },
  {
   "cell_type": "code",
   "execution_count": null,
   "id": "1652d747-530f-44bb-a9f0-3ff49d39e089",
   "metadata": {},
   "outputs": [],
   "source": []
  },
  {
   "cell_type": "code",
   "execution_count": null,
   "id": "226bca25-b784-43d0-88a2-e7573225864b",
   "metadata": {},
   "outputs": [],
   "source": []
  },
  {
   "cell_type": "code",
   "execution_count": null,
   "id": "9cb44968-d7c7-44ae-a030-a52a576ca758",
   "metadata": {},
   "outputs": [],
   "source": []
  },
  {
   "cell_type": "code",
   "execution_count": null,
   "id": "face7dd1-1631-46d3-849d-5ea4fe222347",
   "metadata": {},
   "outputs": [],
   "source": []
  },
  {
   "cell_type": "code",
   "execution_count": null,
   "id": "6cdc8c35-acc9-479b-b6be-a4668188596b",
   "metadata": {},
   "outputs": [],
   "source": []
  },
  {
   "cell_type": "code",
   "execution_count": null,
   "id": "9f552b1e-f939-4352-af98-e04dcacdbb1f",
   "metadata": {},
   "outputs": [],
   "source": []
  },
  {
   "cell_type": "code",
   "execution_count": null,
   "id": "9e21e890-cc58-4376-afd2-a99287257f72",
   "metadata": {},
   "outputs": [],
   "source": []
  },
  {
   "cell_type": "code",
   "execution_count": null,
   "id": "85dc9863-cff6-49a4-b6cf-be3e169b26e6",
   "metadata": {},
   "outputs": [],
   "source": []
  },
  {
   "cell_type": "code",
   "execution_count": null,
   "id": "750c8896-ef92-4957-86f4-3790963714b7",
   "metadata": {},
   "outputs": [],
   "source": []
  },
  {
   "cell_type": "code",
   "execution_count": null,
   "id": "9dad6744-c256-4153-a988-e08395127f01",
   "metadata": {},
   "outputs": [],
   "source": [
    "#data.describe()"
   ]
  },
  {
   "cell_type": "code",
   "execution_count": null,
   "id": "601a785f-a134-4f6f-a010-ac3f41298667",
   "metadata": {},
   "outputs": [],
   "source": [
    "# nb_not_null = pd.DataFrame((~data.isna()).sum(axis =0), columns=['nb'])\n",
    "# nb_not_null.sort_values(by=['nb'], axis=0, ascending=True, inplace=True)\n",
    "# nb_not_null.T.head(150)"
   ]
  },
  {
   "cell_type": "code",
   "execution_count": null,
   "id": "90494722-f9b6-4a23-bf5e-43cb83a4f409",
   "metadata": {},
   "outputs": [],
   "source": [
    "# del [data]\n",
    "# gc.collect()\n",
    "# data = pd.DataFrame()\n",
    "# del [data]"
   ]
  },
  {
   "cell_type": "markdown",
   "id": "da35619c-0568-45ac-be50-dbec389672a2",
   "metadata": {},
   "source": [
    "<div class=\"alert alert-block alert-danger\">\n",
    "<b>I am here</b>\n",
    "</div>"
   ]
  },
  {
   "cell_type": "markdown",
   "id": "7d2197ba-e343-4c09-bcb4-6dd7afff4106",
   "metadata": {},
   "source": [
    "<div class=\"alert alert-block alert-info\">\n",
    "<b>Nutri-Score data:</b>\n",
    "    <ul>\n",
    "      <li>Coffee</li>\n",
    "      <li>Tea</li>\n",
    "      <li>Milk</li>\n",
    "    </ul>    \n",
    "</div>"
   ]
  },
  {
   "cell_type": "markdown",
   "id": "9659ffd0-299c-459b-8703-fd6f44d85c2e",
   "metadata": {},
   "source": [
    "<div class=\"alert alert-block alert-warning\">\n",
    "<b>Example:</b> read data in chunks of 1 million rows at a time\n",
    "</div>"
   ]
  },
  {
   "cell_type": "markdown",
   "id": "b08c7e8a-31f7-4511-910c-351b1c7cce33",
   "metadata": {},
   "source": [
    "<div class=\"alert alert-block alert-success\">\n",
    "<b>Up to you:</b> Use green boxes sparingly, and only for some specific \n",
    "purpose that the other boxes can't cover. For example, if you have a lot \n",
    "of related content to link to, maybe you decide to use green boxes for \n",
    "related links from each section of a notebook.\n",
    "</div>"
   ]
  }
 ],
 "metadata": {
  "kernelspec": {
   "display_name": "Python 3",
   "language": "python",
   "name": "python3"
  },
  "language_info": {
   "codemirror_mode": {
    "name": "ipython",
    "version": 3
   },
   "file_extension": ".py",
   "mimetype": "text/x-python",
   "name": "python",
   "nbconvert_exporter": "python",
   "pygments_lexer": "ipython3",
   "version": "3.8.5"
  }
 },
 "nbformat": 4,
 "nbformat_minor": 5
}
