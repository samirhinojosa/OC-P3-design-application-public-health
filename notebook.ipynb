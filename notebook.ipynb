{
 "cells": [
  {
   "cell_type": "markdown",
   "id": "949a46fd-439c-48b5-af32-70bff8dbb6e7",
   "metadata": {},
   "source": [
    "<div style=\"display: flex; background-color: #3F579F;\">\n",
    "    <h1 style=\"margin: auto; padding: 30px 30px 0px 30px;\">Design an application for public health - Project 3</h1>\n",
    "</div>\n",
    "<div style=\"display: flex; background-color: #3F579F; margin: auto; padding: 5px 30px 0px 30px;\">\n",
    "    <span style=\"width: 100%; text-align: center; font-size:20px; font-weight: bold; float: left;\">| Cleaning notebook |</span>\n",
    "</div>\n",
    "<div style=\"display: flex; background-color: #3F579F; margin: auto; padding: 10px 30px 30px 30px;\">\n",
    "    <span style=\"width: 100%; text-align: center; font-size:26px; float: left;\">Data Scientist course - OpenClassrooms</span>\n",
    "</div>"
   ]
  },
  {
   "cell_type": "markdown",
   "id": "32bcdfc7-1edc-4d6b-87c7-27db867138fd",
   "metadata": {
    "tags": []
   },
   "source": [
    "<div style=\"background-color: #506AB9;\" >\n",
    "    <h2 style=\"margin: auto; padding: 20px; color:#fff; \">1. Libraries and functions</h2>\n",
    "</div>"
   ]
  },
  {
   "cell_type": "markdown",
   "id": "85059765-112e-4e32-9a3d-cb71f92a2903",
   "metadata": {},
   "source": [
    "<div style=\"background-color: #6D83C5;\" >\n",
    "    <h3 style=\"margin: auto; padding: 20px; color:#fff; \">1.1. Libraries and functions</h3>\n",
    "</div>"
   ]
  },
  {
   "cell_type": "code",
   "execution_count": 1,
   "id": "0aa2b908-ffd2-42a1-9c55-9e8720f6f66a",
   "metadata": {},
   "outputs": [],
   "source": [
    "import io\n",
    "import gc\n",
    "from math import prod\n",
    "import time as time\n",
    "import pandas as pd"
   ]
  },
  {
   "cell_type": "markdown",
   "id": "c0fd554a-1b14-406d-b996-2bbf30c5611c",
   "metadata": {},
   "source": [
    "<div class=\"alert alert-block alert-info\">\n",
    "Due to size of the dataset, it is necessary to show all columns to work on it\n",
    "</div>"
   ]
  },
  {
   "cell_type": "code",
   "execution_count": 2,
   "id": "24552fc8-fa0c-4dec-90f4-21fd000e36fa",
   "metadata": {},
   "outputs": [],
   "source": [
    "pd.set_option(\"display.max_columns\", None) # show max of cols\n",
    "pd.set_option(\"max_colwidth\", None) # show full width of cols"
   ]
  },
  {
   "cell_type": "markdown",
   "id": "029ee2d4-c3e7-435d-bbac-e0b019d63721",
   "metadata": {},
   "source": [
    "<div style=\"background-color: #6D83C5;\" >\n",
    "    <h3 style=\"margin: auto; padding: 20px; color:#fff; \">1.2. Functions declaration</h3>\n",
    "</div>"
   ]
  },
  {
   "cell_type": "code",
   "execution_count": 3,
   "id": "9e829866-3d62-4ab4-a2c9-101f956082ae",
   "metadata": {
    "tags": []
   },
   "outputs": [],
   "source": [
    "def df_initial_analysis(df, name_df):\n",
    "    \"\"\"\n",
    "    Initial analysis on the DataFrame.\n",
    "\n",
    "    Args:\n",
    "        df (pandas.DataFrame): DataFrame to analyze.\n",
    "        name_df (str): DataFrame name.\n",
    "\n",
    "    Returns:\n",
    "        None. \n",
    "        Print the initial analysis on the DataFrame. \n",
    "    \"\"\"\n",
    "    \n",
    "    # Calculating the memory usage based on dataframe.info()\n",
    "    buf = io.StringIO()\n",
    "    df.info(buf=buf)\n",
    "    memory_usage = buf.getvalue().split('\\n')[-2]\n",
    "  \n",
    "    if df.empty:\n",
    "        print(\"The\", name_df, \"dataset is empty. Please verify the file.\")\n",
    "    else:\n",
    "        empty_cols = [col for col in df.columns if df[col].isna().all()] # identifying empty columns\n",
    "        df_rows_duplicates = df[df.duplicated()] #identifying full duplicates rows\n",
    "        \n",
    "        # Creating a dataset based on Type object and records by columns\n",
    "        type_cols = df.dtypes.apply(lambda x: x.name).to_dict() \n",
    "        df_resume = pd.DataFrame(list(type_cols.items()), columns = [\"Name\", \"Type\"])\n",
    "        df_resume[\"Records\"] = list(df.count())\n",
    "        \n",
    "        print(\"\\nInitial Analysis of\", name_df, \"dataset\")\n",
    "        print(\"--------------------------------------------------------------------------\")\n",
    "        print(\"- Dataset shape:                 \", df.shape[0], \"rows and\", df.shape[1], \"columns\")\n",
    "        print(\"- Total of NaN values:           \", df.isna().sum().sum())\n",
    "        print(\"- Percentage of NaN:             \", round((df.isna().sum().sum() / prod(df.shape)) * 100, 2), \"%\")\n",
    "        print(\"- Total of full duplicates rows: \", df_rows_duplicates.shape[0])\n",
    "        print(\"- Total of empty rows:           \", df.shape[0] - df.dropna(axis=\"rows\", how=\"all\").shape[0]) if df.dropna(axis=\"rows\", how=\"all\").shape[0] < df.shape[0] else \\\n",
    "                    print(\"- Total of empty rows:            0\")\n",
    "        print(\"- Total of empty columns:        \", len(empty_cols))\n",
    "        print(\"  + The empty column is:         \", empty_cols) if len(empty_cols) == 1 else \\\n",
    "                    print(\"  + The empty column are:         \", empty_cols) if len(empty_cols) >= 1 else None\n",
    "        \n",
    "        print(\"\\n- Type object and records by columns         (\",memory_usage,\")\")\n",
    "        print(\"--------------------------------------------------------------------------\")\n",
    "        print(df_resume.sort_values(\"Records\", ascending=False))  \n",
    "        \n",
    "        # deleting dataframe to free memory\n",
    "        del [df_resume]\n",
    "        gc.collect()\n",
    "        df_resume = pd.DataFrame()\n",
    "    "
   ]
  },
  {
   "cell_type": "markdown",
   "id": "dc50dd5a-afde-40b6-b9cd-433d4eaefd70",
   "metadata": {
    "tags": []
   },
   "source": [
    "<div style=\"background-color: #506AB9;\" >\n",
    "    <h2 style=\"margin: auto; padding: 20px; color:#fff; \">2. Importing files</h2>\n",
    "</div>"
   ]
  },
  {
   "cell_type": "markdown",
   "id": "8e767c18-991b-4411-85bf-2e0b2a3f3c94",
   "metadata": {},
   "source": [
    "<div style=\"background-color: #6D83C5;\" >\n",
    "    <h3 style=\"margin: auto; padding: 20px; color:#fff; \">2.1. Importing and preparing files</h3>\n",
    "</div>"
   ]
  },
  {
   "cell_type": "markdown",
   "id": "4cb837e8-4759-486d-b2b3-84a612ab075f",
   "metadata": {},
   "source": [
    "<div class=\"alert alert-block alert-info\">\n",
    "Reading data in <b>chunks of 1 million rows</b> at a time\n",
    "</div>"
   ]
  },
  {
   "cell_type": "code",
   "execution_count": 4,
   "id": "c9f695f9-ee6f-48ce-bf42-353f5fe4a59b",
   "metadata": {},
   "outputs": [
    {
     "name": "stderr",
     "output_type": "stream",
     "text": [
      "C:\\Users\\Samir\\anaconda3\\lib\\site-packages\\IPython\\core\\interactiveshell.py:3437: DtypeWarning: Columns (0,8,13,27,28,29,31,47,52,55,64) have mixed types.Specify dtype option on import or set low_memory=False.\n",
      "  exec(code_obj, self.user_global_ns, self.user_ns)\n",
      "C:\\Users\\Samir\\anaconda3\\lib\\site-packages\\IPython\\core\\interactiveshell.py:3437: DtypeWarning: Columns (0,8,13,29,31,47,52,64,81,84) have mixed types.Specify dtype option on import or set low_memory=False.\n",
      "  exec(code_obj, self.user_global_ns, self.user_ns)\n"
     ]
    },
    {
     "name": "stdout",
     "output_type": "stream",
     "text": [
      "Read csv with chunks:  103.49306273460388 sec\n"
     ]
    }
   ],
   "source": [
    "start = time.time()\n",
    "chunk = pd.read_csv(\"datasets/en.openfoodfacts.org.products.csv\", chunksize=1000000, sep=\"\\t\", encoding=\"UTF-8\")\n",
    "data = pd.concat(chunk)\n",
    "end = time.time()\n",
    "print(\"Read csv with chunks: \",(end-start),\"sec\")"
   ]
  },
  {
   "cell_type": "markdown",
   "id": "a8b400f8-6342-4ae0-860b-f1404b86ea8a",
   "metadata": {},
   "source": [
    "<div class=\"alert alert-block alert-info\">\n",
    "Making <b>the initial analysis</b>\n",
    "</div>"
   ]
  },
  {
   "cell_type": "markdown",
   "id": "2dff4fe4-089a-4de7-96b2-f43a1b4556a7",
   "metadata": {},
   "source": [
    "<div class=\"alert alert-block alert-warning\">\n",
    "After analyzed the dataset, we can conclude the following:\n",
    "<ol>\n",
    "    <li>Almost 80% of the data present in data set are missing-values</li>\n",
    "    <li>There are 5 empty columns that we can delete</li>\n",
    "    <li>There is a lot of memory usage with this dataset</li>\n",
    "</ol>\n",
    "</div>"
   ]
  },
  {
   "cell_type": "code",
   "execution_count": 5,
   "id": "66252073-34b0-4582-a9fa-2f5e0116e3c2",
   "metadata": {
    "tags": []
   },
   "outputs": [
    {
     "name": "stdout",
     "output_type": "stream",
     "text": [
      "\n",
      "Initial Analysis of data dataset\n",
      "--------------------------------------------------------------------------\n",
      "- Dataset shape:                  1760097 rows and 186 columns\n",
      "- Total of NaN values:            260478039\n",
      "- Percentage of NaN:              79.56 %\n",
      "- Total of full duplicates rows:  1\n",
      "- Total of empty rows:            0\n",
      "- Total of empty columns:         5\n",
      "  + The empty column are:          ['cities', 'allergens_en', 'no_nutriments', 'ingredients_from_palm_oil', 'ingredients_that_may_be_from_palm_oil']\n",
      "\n",
      "- Type object and records by columns         ( memory usage: 2.4+ GB )\n",
      "--------------------------------------------------------------------------\n",
      "                                           Name     Type  Records\n",
      "0                                          code   object  1760097\n",
      "6                        last_modified_datetime   object  1760097\n",
      "63                                    states_en   object  1760097\n",
      "62                                  states_tags   object  1760097\n",
      "61                                       states   object  1760097\n",
      "1                                           url   object  1760097\n",
      "5                               last_modified_t    int64  1760097\n",
      "4                              created_datetime   object  1760097\n",
      "3                                     created_t    int64  1760097\n",
      "2                                       creator   object  1760093\n",
      "60                                pnns_groups_2   object  1759730\n",
      "34                                    countries   object  1754604\n",
      "36                                 countries_en   object  1754600\n",
      "35                               countries_tags   object  1754600\n",
      "59                                pnns_groups_1   object  1743530\n",
      "7                                  product_name   object  1682674\n",
      "77                                  energy_100g  float64  1397732\n",
      "128                               proteins_100g  float64  1390642\n",
      "79                                     fat_100g  float64  1389669\n",
      "115                          carbohydrates_100g  float64  1389200\n",
      "116                                 sugars_100g  float64  1372059\n",
      "80                           saturated-fat_100g  float64  1346364\n",
      "76                             energy-kcal_100g  float64  1343908\n",
      "132                                   salt_100g  float64  1341585\n",
      "133                                 sodium_100g  float64  1341581\n",
      "70                              image_small_url   object  1315404\n",
      "69                                    image_url   object  1315404\n",
      "14                                       brands   object   918867\n",
      "15                                  brands_tags   object   918811\n",
      "74                    image_nutrition_small_url   object   858019\n",
      "73                          image_nutrition_url   object   858019\n",
      "16                                   categories   object   841867\n",
      "17                              categories_tags   object   841866\n",
      "68                             main_category_en   object   841866\n",
      "18                                categories_en   object   841866\n",
      "67                                main_category   object   841866\n",
      "53      ingredients_that_may_be_from_palm_oil_n  float64   687715\n",
      "46                                  additives_n  float64   687715\n",
      "50                  ingredients_from_palm_oil_n  float64   687715\n",
      "37                             ingredients_text   object   687713\n",
      "72                  image_ingredients_small_url   object   675186\n",
      "71                        image_ingredients_url   object   675186\n",
      "177                     nutrition-score-fr_100g  float64   655006\n",
      "57                             nutriscore_grade   object   655001\n",
      "56                             nutriscore_score  float64   655001\n",
      "58                                   nova_group  float64   601437\n",
      "43                                 serving_size   object   468298\n",
      "125                                  fiber_100g  float64   467580\n",
      "44                             serving_quantity  float64   463383\n",
      "10                                     quantity   object   455823\n",
      "65                            ecoscore_score_fr  float64   421369\n",
      "66                            ecoscore_grade_fr   object   421369\n",
      "49                                 additives_en   object   398474\n",
      "48                               additives_tags   object   398474\n",
      "25                                  labels_tags   object   388140\n",
      "26                                    labels_en   object   388140\n",
      "24                                       labels   object   388121\n",
      "64                                  brand_owner   object   289516\n",
      "11                                    packaging   object   282863\n",
      "12                               packaging_tags   object   282838\n",
      "154                                calcium_100g  float64   269712\n",
      "114                            cholesterol_100g  float64   268350\n",
      "113                              trans-fat_100g  float64   264553\n",
      "156                                   iron_100g  float64   264442\n",
      "140                              vitamin-c_100g  float64   219778\n",
      "33                                       stores   object   218680\n",
      "135                              vitamin-a_100g  float64   212152\n",
      "38                                    allergens   object   181644\n",
      "32                              purchase_places   object   151112\n",
      "75                               energy-kj_100g  float64   127411\n",
      "42                                    traces_en   object   116895\n",
      "41                                  traces_tags   object   116895\n",
      "9                                  generic_name   object   113378\n",
      "27                                    emb_codes   object   112942\n",
      "28                               emb_codes_tags   object   112911\n",
      "22                         manufacturing_places   object   112742\n",
      "23                    manufacturing_places_tags   object   112691\n",
      "40                                       traces   object    94000\n",
      "152                              potassium_100g  float64    91844\n",
      "19                                      origins   object    76304\n",
      "21                                   origins_en   object    76186\n",
      "20                                 origins_tags   object    76186\n",
      "31                                  cities_tags   object    74984\n",
      "29                     first_packaging_code_geo   object    69575\n",
      "96                     polyunsaturated-fat_100g  float64    47404\n",
      "95                     monounsaturated-fat_100g  float64    47404\n",
      "55   ingredients_that_may_be_from_palm_oil_tags   object    40211\n",
      "143                             vitamin-pp_100g  float64    23569\n",
      "141                             vitamin-b1_100g  float64    23387\n",
      "142                             vitamin-b2_100g  float64    22483\n",
      "134                                alcohol_100g  float64    19593\n",
      "144                             vitamin-b6_100g  float64    15823\n",
      "157                              magnesium_100g  float64    14579\n",
      "52               ingredients_from_palm_oil_tags   object    13994\n",
      "155                             phosphorus_100g  float64    13664\n",
      "147                            vitamin-b12_100g  float64    12571\n",
      "171        fruits-vegetables-nuts-estimate_100g  float64    11748\n",
      "176     carbon-footprint-from-meat-or-fish_100g  float64    11632\n",
      "158                                   zinc_100g  float64    10096\n",
      "145                             vitamin-b9_100g  float64    10095\n",
      "137                              vitamin-d_100g  float64     9532\n",
      "169                 fruits-vegetables-nuts_100g  float64     8792\n",
      "146                                folates_100g  float64     8447\n",
      "149                       pantothenic-acid_100g  float64     5988\n",
      "173                                  cocoa_100g  float64     5904\n",
      "159                                 copper_100g  float64     4237\n",
      "160                              manganese_100g  float64     4002\n",
      "13                               packaging_text   object     3722\n",
      "126                         -soluble-fiber_100g  float64     3607\n",
      "124                                polyols_100g  float64     3567\n",
      "8                      abbreviated_product_name   object     3339\n",
      "127                       -insoluble-fiber_100g  float64     3337\n",
      "138                              vitamin-e_100g  float64     3324\n",
      "162                               selenium_100g  float64     2441\n",
      "165                                 iodine_100g  float64     2094\n",
      "97                             omega-3-fat_100g  float64     1981\n",
      "182                          phylloquinone_100g  float64     1712\n",
      "139                              vitamin-k_100g  float64     1103\n",
      "148                                 biotin_100g  float64     1034\n",
      "78                         energy-from-fat_100g  float64      975\n",
      "120                               -lactose_100g  float64      769\n",
      "153                               chloride_100g  float64      685\n",
      "101                            omega-6-fat_100g  float64      508\n",
      "123                                 starch_100g  float64      499\n",
      "98                   -alpha-linolenic-acid_100g  float64      474\n",
      "175                       carbon-footprint_100g  float64      455\n",
      "166                               caffeine_100g  float64      425\n",
      "151                            bicarbonate_100g  float64      378\n",
      "170           fruits-vegetables-nuts-dried_100g  float64      348\n",
      "161                               fluoride_100g  float64      321\n",
      "172            collagen-meat-protein-ratio_100g  float64      309\n",
      "164                             molybdenum_100g  float64      273\n",
      "102                         -linoleic-acid_100g  float64      236\n",
      "168                                     ph_100g  float64      187\n",
      "163                               chromium_100g  float64      184\n",
      "100                  -docosahexaenoic-acid_100g  float64      167\n",
      "167                                taurine_100g  float64      160\n",
      "117                               -sucrose_100g  float64      139\n",
      "150                                 silica_100g  float64      118\n",
      "99                  -eicosapentaenoic-acid_100g  float64      117\n",
      "106                            omega-9-fat_100g  float64       90\n",
      "122                         -maltodextrins_100g  float64       89\n",
      "136                          beta-carotene_100g  float64       82\n",
      "119                              -fructose_100g  float64       79\n",
      "89                         -arachidic-acid_100g  float64       78\n",
      "118                               -glucose_100g  float64       77\n",
      "103                      -arachidonic-acid_100g  float64       73\n",
      "107                            -oleic-acid_100g  float64       53\n",
      "130                         serum-proteins_100g  float64       49\n",
      "184                               inositol_100g  float64       46\n",
      "129                                 casein_100g  float64       43\n",
      "181                                choline_100g  float64       41\n",
      "121                               -maltose_100g  float64       36\n",
      "183                            beta-glucan_100g  float64       32\n",
      "90                           -behenic-acid_100g  float64       29\n",
      "131                            nucleotides_100g  float64       23\n",
      "185                              carnitine_100g  float64       20\n",
      "87                          -palmitic-acid_100g  float64       20\n",
      "93                          -montanic-acid_100g  float64       15\n",
      "109                          -gondoic-acid_100g  float64       15\n",
      "85                            -lauric-acid_100g  float64       15\n",
      "81                           -butyric-acid_100g   object       14\n",
      "94                          -melissic-acid_100g  float64       10\n",
      "84                            -capric-acid_100g   object       10\n",
      "104                  -gamma-linolenic-acid_100g  float64       10\n",
      "178                     nutrition-score-uk_100g  float64        9\n",
      "92                           -cerotic-acid_100g  float64        8\n",
      "110                             -mead-acid_100g  float64        8\n",
      "112                         -nervonic-acid_100g  float64        8\n",
      "86                          -myristic-acid_100g  float64        7\n",
      "88                           -stearic-acid_100g  float64        7\n",
      "174                             chlorophyl_100g  float64        5\n",
      "105           -dihomo-gamma-linolenic-acid_100g  float64        5\n",
      "111                           -erucic-acid_100g  float64        5\n",
      "179                         glycemic-index_100g  float64        4\n",
      "47                                    additives   object        4\n",
      "82                           -caproic-acid_100g  float64        3\n",
      "83                          -caprylic-acid_100g  float64        3\n",
      "91                        -lignoceric-acid_100g  float64        3\n",
      "108                          -elaidic-acid_100g  float64        2\n",
      "180                         water-hardness_100g  float64        1\n",
      "54        ingredients_that_may_be_from_palm_oil  float64        0\n",
      "45                                no_nutriments  float64        0\n",
      "39                                 allergens_en  float64        0\n",
      "30                                       cities  float64        0\n",
      "51                    ingredients_from_palm_oil  float64        0\n"
     ]
    }
   ],
   "source": [
    "pd.set_option(\"display.max_rows\", None) # Show full of rows\n",
    "df_initial_analysis(data, \"data\")"
   ]
  },
  {
   "cell_type": "code",
   "execution_count": 6,
   "id": "cd083bf6-03e6-4494-b4f1-60f06a7581bb",
   "metadata": {
    "tags": []
   },
   "outputs": [],
   "source": [
    "pd.set_option(\"display.max_rows\", None) # reset max of showing rows"
   ]
  },
  {
   "cell_type": "markdown",
   "id": "03fc7760-2c2f-4f73-97fe-3432a8841c47",
   "metadata": {
    "tags": []
   },
   "source": [
    "<div style=\"background-color: #506AB9;\" >\n",
    "    <h2 style=\"margin: auto; padding: 20px; color:#fff; \">2. Cleaning dataset</h2>\n",
    "</div>"
   ]
  },
  {
   "cell_type": "markdown",
   "id": "0479149d-8cb0-4aea-ad30-1a9fd8766241",
   "metadata": {
    "tags": []
   },
   "source": [
    "<div style=\"background-color: #6D83C5;\" >\n",
    "    <h3 style=\"margin: auto; padding: 20px; color:#fff; \">2.1. Deleting NaN columns and rows, and duplicated rows</h3>\n",
    "</div>"
   ]
  },
  {
   "cell_type": "code",
   "execution_count": 7,
   "id": "bcd5d2c1-7ee5-4883-b613-ef63ae3a26b8",
   "metadata": {},
   "outputs": [],
   "source": [
    "data = data.dropna(axis=\"columns\", how=\"all\").dropna(axis=\"rows\", how=\"all\")"
   ]
  },
  {
   "cell_type": "code",
   "execution_count": 8,
   "id": "2d3d26f2-ac31-4357-9312-d68628a6ae9e",
   "metadata": {},
   "outputs": [],
   "source": [
    "data = data.drop_duplicates()"
   ]
  },
  {
   "cell_type": "code",
   "execution_count": 9,
   "id": "f47f7ca8-0fb4-4b73-b61b-8f87c4321682",
   "metadata": {
    "tags": []
   },
   "outputs": [
    {
     "name": "stdout",
     "output_type": "stream",
     "text": [
      "\n",
      "Initial Analysis of data dataset\n",
      "--------------------------------------------------------------------------\n",
      "- Dataset shape:                  1760096 rows and 181 columns\n",
      "- Total of NaN values:            251677390\n",
      "- Percentage of NaN:              79.0 %\n",
      "- Total of full duplicates rows:  0\n",
      "- Total of empty rows:            0\n",
      "- Total of empty columns:         0\n",
      "\n",
      "- Type object and records by columns         ( memory usage: 2.4+ GB )\n",
      "--------------------------------------------------------------------------\n",
      "                                           Name     Type  Records\n",
      "0                                          code   object  1760096\n",
      "58                                    states_en   object  1760096\n",
      "3                                     created_t    int64  1760096\n",
      "4                              created_datetime   object  1760096\n",
      "5                               last_modified_t    int64  1760096\n",
      "6                        last_modified_datetime   object  1760096\n",
      "57                                  states_tags   object  1760096\n",
      "1                                           url   object  1760096\n",
      "56                                       states   object  1760096\n",
      "2                                       creator   object  1760092\n",
      "55                                pnns_groups_2   object  1759729\n",
      "33                                    countries   object  1754603\n",
      "35                                 countries_en   object  1754599\n",
      "34                               countries_tags   object  1754599\n",
      "54                                pnns_groups_1   object  1743529\n",
      "7                                  product_name   object  1682674\n",
      "72                                  energy_100g  float64  1397732\n",
      "123                               proteins_100g  float64  1390642\n",
      "74                                     fat_100g  float64  1389669\n",
      "110                          carbohydrates_100g  float64  1389200\n",
      "111                                 sugars_100g  float64  1372059\n",
      "75                           saturated-fat_100g  float64  1346364\n",
      "71                             energy-kcal_100g  float64  1343908\n",
      "127                                   salt_100g  float64  1341585\n",
      "128                                 sodium_100g  float64  1341581\n",
      "65                              image_small_url   object  1315403\n",
      "64                                    image_url   object  1315403\n",
      "14                                       brands   object   918867\n",
      "15                                  brands_tags   object   918811\n",
      "69                    image_nutrition_small_url   object   858019\n",
      "68                          image_nutrition_url   object   858019\n",
      "16                                   categories   object   841867\n",
      "18                                categories_en   object   841866\n",
      "62                                main_category   object   841866\n",
      "17                              categories_tags   object   841866\n",
      "63                             main_category_en   object   841866\n",
      "49      ingredients_that_may_be_from_palm_oil_n  float64   687715\n",
      "43                                  additives_n  float64   687715\n",
      "47                  ingredients_from_palm_oil_n  float64   687715\n",
      "36                             ingredients_text   object   687713\n",
      "67                  image_ingredients_small_url   object   675186\n",
      "66                        image_ingredients_url   object   675186\n",
      "172                     nutrition-score-fr_100g  float64   655006\n",
      "52                             nutriscore_grade   object   655001\n",
      "51                             nutriscore_score  float64   655001\n",
      "53                                   nova_group  float64   601437\n",
      "41                                 serving_size   object   468298\n",
      "120                                  fiber_100g  float64   467580\n",
      "42                             serving_quantity  float64   463383\n",
      "10                                     quantity   object   455823\n",
      "60                            ecoscore_score_fr  float64   421369\n",
      "61                            ecoscore_grade_fr   object   421369\n",
      "46                                 additives_en   object   398474\n",
      "45                               additives_tags   object   398474\n",
      "26                                    labels_en   object   388140\n",
      "25                                  labels_tags   object   388140\n",
      "24                                       labels   object   388121\n",
      "59                                  brand_owner   object   289516\n",
      "11                                    packaging   object   282863\n",
      "12                               packaging_tags   object   282838\n",
      "149                                calcium_100g  float64   269712\n",
      "109                            cholesterol_100g  float64   268350\n",
      "108                              trans-fat_100g  float64   264553\n",
      "151                                   iron_100g  float64   264442\n",
      "135                              vitamin-c_100g  float64   219778\n",
      "32                                       stores   object   218680\n",
      "130                              vitamin-a_100g  float64   212152\n",
      "37                                    allergens   object   181644\n",
      "31                              purchase_places   object   151112\n",
      "70                               energy-kj_100g  float64   127411\n",
      "39                                  traces_tags   object   116895\n",
      "40                                    traces_en   object   116895\n",
      "9                                  generic_name   object   113378\n",
      "27                                    emb_codes   object   112942\n",
      "28                               emb_codes_tags   object   112911\n",
      "22                         manufacturing_places   object   112742\n",
      "23                    manufacturing_places_tags   object   112691\n",
      "38                                       traces   object    94000\n",
      "147                              potassium_100g  float64    91844\n",
      "19                                      origins   object    76304\n",
      "20                                 origins_tags   object    76186\n",
      "21                                   origins_en   object    76186\n",
      "30                                  cities_tags   object    74984\n",
      "29                     first_packaging_code_geo   object    69575\n",
      "91                     polyunsaturated-fat_100g  float64    47404\n",
      "90                     monounsaturated-fat_100g  float64    47404\n",
      "50   ingredients_that_may_be_from_palm_oil_tags   object    40211\n",
      "138                             vitamin-pp_100g  float64    23569\n",
      "136                             vitamin-b1_100g  float64    23387\n",
      "137                             vitamin-b2_100g  float64    22483\n",
      "129                                alcohol_100g  float64    19593\n",
      "139                             vitamin-b6_100g  float64    15823\n",
      "152                              magnesium_100g  float64    14579\n",
      "48               ingredients_from_palm_oil_tags   object    13994\n",
      "150                             phosphorus_100g  float64    13664\n",
      "142                            vitamin-b12_100g  float64    12571\n",
      "166        fruits-vegetables-nuts-estimate_100g  float64    11748\n",
      "171     carbon-footprint-from-meat-or-fish_100g  float64    11632\n",
      "153                                   zinc_100g  float64    10096\n",
      "140                             vitamin-b9_100g  float64    10095\n",
      "132                              vitamin-d_100g  float64     9532\n",
      "164                 fruits-vegetables-nuts_100g  float64     8792\n",
      "141                                folates_100g  float64     8447\n",
      "144                       pantothenic-acid_100g  float64     5988\n",
      "168                                  cocoa_100g  float64     5904\n",
      "154                                 copper_100g  float64     4237\n",
      "155                              manganese_100g  float64     4002\n",
      "13                               packaging_text   object     3722\n",
      "121                         -soluble-fiber_100g  float64     3607\n",
      "119                                polyols_100g  float64     3567\n",
      "8                      abbreviated_product_name   object     3339\n",
      "122                       -insoluble-fiber_100g  float64     3337\n",
      "133                              vitamin-e_100g  float64     3324\n",
      "157                               selenium_100g  float64     2441\n",
      "160                                 iodine_100g  float64     2094\n",
      "92                             omega-3-fat_100g  float64     1981\n",
      "177                          phylloquinone_100g  float64     1712\n",
      "134                              vitamin-k_100g  float64     1103\n",
      "143                                 biotin_100g  float64     1034\n",
      "73                         energy-from-fat_100g  float64      975\n",
      "115                               -lactose_100g  float64      769\n",
      "148                               chloride_100g  float64      685\n",
      "96                             omega-6-fat_100g  float64      508\n",
      "118                                 starch_100g  float64      499\n",
      "93                   -alpha-linolenic-acid_100g  float64      474\n",
      "170                       carbon-footprint_100g  float64      455\n",
      "161                               caffeine_100g  float64      425\n",
      "146                            bicarbonate_100g  float64      378\n",
      "165           fruits-vegetables-nuts-dried_100g  float64      348\n",
      "156                               fluoride_100g  float64      321\n",
      "167            collagen-meat-protein-ratio_100g  float64      309\n",
      "159                             molybdenum_100g  float64      273\n",
      "97                          -linoleic-acid_100g  float64      236\n",
      "163                                     ph_100g  float64      187\n",
      "158                               chromium_100g  float64      184\n",
      "95                   -docosahexaenoic-acid_100g  float64      167\n",
      "162                                taurine_100g  float64      160\n",
      "112                               -sucrose_100g  float64      139\n",
      "145                                 silica_100g  float64      118\n",
      "94                  -eicosapentaenoic-acid_100g  float64      117\n",
      "101                            omega-9-fat_100g  float64       90\n",
      "117                         -maltodextrins_100g  float64       89\n",
      "131                          beta-carotene_100g  float64       82\n",
      "114                              -fructose_100g  float64       79\n",
      "84                         -arachidic-acid_100g  float64       78\n",
      "113                               -glucose_100g  float64       77\n",
      "98                       -arachidonic-acid_100g  float64       73\n",
      "102                            -oleic-acid_100g  float64       53\n",
      "125                         serum-proteins_100g  float64       49\n",
      "179                               inositol_100g  float64       46\n",
      "124                                 casein_100g  float64       43\n",
      "176                                choline_100g  float64       41\n",
      "116                               -maltose_100g  float64       36\n",
      "178                            beta-glucan_100g  float64       32\n",
      "85                           -behenic-acid_100g  float64       29\n",
      "126                            nucleotides_100g  float64       23\n",
      "180                              carnitine_100g  float64       20\n",
      "82                          -palmitic-acid_100g  float64       20\n",
      "104                          -gondoic-acid_100g  float64       15\n",
      "88                          -montanic-acid_100g  float64       15\n",
      "80                            -lauric-acid_100g  float64       15\n",
      "76                           -butyric-acid_100g   object       14\n",
      "89                          -melissic-acid_100g  float64       10\n",
      "79                            -capric-acid_100g   object       10\n",
      "99                   -gamma-linolenic-acid_100g  float64       10\n",
      "173                     nutrition-score-uk_100g  float64        9\n",
      "107                         -nervonic-acid_100g  float64        8\n",
      "87                           -cerotic-acid_100g  float64        8\n",
      "105                             -mead-acid_100g  float64        8\n",
      "83                           -stearic-acid_100g  float64        7\n",
      "81                          -myristic-acid_100g  float64        7\n",
      "106                           -erucic-acid_100g  float64        5\n",
      "100           -dihomo-gamma-linolenic-acid_100g  float64        5\n",
      "169                             chlorophyl_100g  float64        5\n",
      "44                                    additives   object        4\n",
      "174                         glycemic-index_100g  float64        4\n",
      "78                          -caprylic-acid_100g  float64        3\n",
      "77                           -caproic-acid_100g  float64        3\n",
      "86                        -lignoceric-acid_100g  float64        3\n",
      "103                          -elaidic-acid_100g  float64        2\n",
      "175                         water-hardness_100g  float64        1\n"
     ]
    }
   ],
   "source": [
    "pd.set_option(\"display.max_rows\", None) # Show full of rows\n",
    "df_initial_analysis(data, \"data\")"
   ]
  },
  {
   "cell_type": "code",
   "execution_count": 10,
   "id": "713b6140-e26b-495f-9aef-e32e771d2adf",
   "metadata": {
    "tags": []
   },
   "outputs": [],
   "source": [
    "pd.set_option(\"display.max_rows\", None) # reset max of showing rows"
   ]
  },
  {
   "cell_type": "markdown",
   "id": "7950d746-a34a-4a9a-b1bb-f4dd681caa04",
   "metadata": {
    "tags": []
   },
   "source": [
    "<div style=\"background-color: #6D83C5;\" >\n",
    "    <h3 style=\"margin: auto; padding: 20px; color:#fff; \">2.2. Fixing the columns types</h3>\n",
    "</div>"
   ]
  },
  {
   "cell_type": "markdown",
   "id": "70c7afbf-5081-4600-a3bb-de974493ab02",
   "metadata": {
    "tags": []
   },
   "source": [
    "<div class=\"alert alert-block alert-warning\">\n",
    "There are some columns with column type wrong. We can see this information based on:\n",
    "<ul style=\"list-style-type: square;\">\n",
    "    <li>Open Food Facts data-fileds: <b>https://world.openfoodfacts.org/data/data-fields.txt</b></li>\n",
    "    <li>At the momento to <b>import the *.csv</b></li>\n",
    "    <li>As a result of the function <b>df_initial_analysis</b></li>\n",
    "</ul>\n",
    "\n",
    "Due to that, we are going to proceed to fix them. \n",
    "</div>"
   ]
  },
  {
   "cell_type": "markdown",
   "id": "707c9029-ad1e-4e16-8e26-cd2a5b79c1a3",
   "metadata": {},
   "source": [
    "<div class=\"alert alert-block alert-info\">\n",
    "<b>Fixing column types float64</b><br>\n",
    "Based on Open Food Facts data-fileds: <b>https://world.openfoodfacts.org/data/data-fields.txt</b>, we know the following:\n",
    "<ul style=\"list-style-type: square;\">\n",
    "    <li>fields that end with <b>_100g</b> correspond to <b>the amount of a nutriment</b> (in g, or kJ for energy) for <b>100 g</b> or <b>100 ml</b> of product</li>\n",
    "    <li>fields that end with <b>_serving</b> correspond to <b>the amount of a nutriment</b> (in g, or kJ for energy) for <b>1</b> serving of the product</li>\n",
    "</ul>\n",
    "\n",
    "Finally, we are going to make the <b>downcast</b> from <b>float64</b> to <b>float32</b> \n",
    "</div><b>"
   ]
  },
  {
   "cell_type": "code",
   "execution_count": 12,
   "id": "4a2bd6ac-1424-4a8f-b270-dd89c9622ded",
   "metadata": {},
   "outputs": [],
   "source": [
    "for col in data.columns:\n",
    "    if (col.endswith(\"_100g\") or col.endswith(\"_serving\")) and data[col].dtypes != \"float64\":\n",
    "        print(\"Column to update the column type:\", col, data[col].dtypes)\n",
    "        data[col] = data[col].astype(\"float64\")"
   ]
  },
  {
   "cell_type": "code",
   "execution_count": 17,
   "id": "d3c06d69-63ee-448d-b63e-6f5ff3276e8f",
   "metadata": {},
   "outputs": [],
   "source": [
    "for col in data.columns:\n",
    "    if data[col].dtypes == \"float64\":\n",
    "        data[col] = data[col].astype(\"float32\")"
   ]
  },
  {
   "cell_type": "markdown",
   "id": "03e647e0-d205-40d0-b279-809a2a8a182e",
   "metadata": {},
   "source": [
    "<div class=\"alert alert-block alert-info\">\n",
    "<b>Fixing column types datetime</b><br>\n",
    "Based on Open Food Facts data-fileds: <b>https://world.openfoodfacts.org/data/data-fields.txt</b>, we know the following:\n",
    "<ul style=\"list-style-type: square;\">\n",
    "    <li>fields that end with <b>_t</b> are dates in <b>the UNIX timestamp format</b> (number of seconds since Jan 1st 1970)</b></li>\n",
    "    <li>fields that end with <b>_datetime</b> are dates in <b>the iso8601 format: yyyy-mm-ddThh:mn:ssZ</b></li>\n",
    "</ul>\n",
    "\n",
    "In this case, both group of columns have the same amount of data. Due to that, we will only keep the columns ended by <b>_datetime</b>\n",
    "</div>"
   ]
  },
  {
   "cell_type": "code",
   "execution_count": 13,
   "id": "11b94273-1ee2-49be-9452-64450b46a61d",
   "metadata": {},
   "outputs": [
    {
     "name": "stdout",
     "output_type": "stream",
     "text": [
      "Column to update the column type: created_datetime object\n",
      "Column to update the column type: last_modified_datetime object\n"
     ]
    }
   ],
   "source": [
    "for col in data.columns:\n",
    "    if col.endswith(\"_datetime\") and data[col].dtypes != \"datetime64\":\n",
    "        print(\"Column to update the column type:\", col, data[col].dtypes)\n",
    "        data[col] = data[col].astype(\"datetime64\")"
   ]
  },
  {
   "cell_type": "code",
   "execution_count": 14,
   "id": "60336a4b-8445-4fa4-9297-120d4f485501",
   "metadata": {},
   "outputs": [
    {
     "name": "stdout",
     "output_type": "stream",
     "text": [
      "Column to delete: created_t int64\n",
      "Column to delete: last_modified_t int64\n"
     ]
    }
   ],
   "source": [
    "for col in data.columns:\n",
    "    if col.endswith(\"_t\"):\n",
    "        print(\"Column to delete:\", col, data[col].dtypes)\n",
    "        data = data.drop(col, axis=1)  "
   ]
  },
  {
   "cell_type": "markdown",
   "id": "cdbdae39-81aa-402d-8eec-86fe5e9b604b",
   "metadata": {},
   "source": [
    "<div class=\"alert alert-block alert-info\">\n",
    "Checking the usage of memory\n",
    "</div>"
   ]
  },
  {
   "cell_type": "code",
   "execution_count": 16,
   "id": "3a65d14c-27bc-4773-8fbe-f85022a4424e",
   "metadata": {},
   "outputs": [
    {
     "name": "stdout",
     "output_type": "stream",
     "text": [
      "<class 'pandas.core.frame.DataFrame'>\n",
      "Int64Index: 1760096 entries, 0 to 1760096\n",
      "Columns: 179 entries, code to carnitine_100g\n",
      "dtypes: datetime64[ns](2), float64(118), object(59)\n",
      "memory usage: 8.8 GB\n"
     ]
    }
   ],
   "source": [
    "data.info(memory_usage=\"deep\")"
   ]
  },
  {
   "cell_type": "markdown",
   "id": "3e19b066-5d5a-47e9-b928-dadb2227a668",
   "metadata": {},
   "source": [
    "<div class=\"alert alert-block alert-info\">\n",
    "If the number of unique values in a specific column is less than the half numbers of rows in the same column, we are going to change the type from <b>object</b> to <b>category</b> to improve the usage of memory\n",
    "</div>"
   ]
  },
  {
   "cell_type": "code",
   "execution_count": 25,
   "id": "dac3e969-f5a5-40d9-aa13-cc3857876fb3",
   "metadata": {},
   "outputs": [],
   "source": [
    "for col in data.columns:\n",
    "    if data[col].dtypes == \"object\":\n",
    "        if len(data[col].unique()) / len(data[col]) < 0.5:\n",
    "            data[col] = data[col].astype(\"category\")\n",
    "        else:\n",
    "            data[col] = data[col].astype(\"object\")"
   ]
  },
  {
   "cell_type": "markdown",
   "id": "6ed77c70-ed1b-4f7a-bd80-d37b94a166c5",
   "metadata": {},
   "source": [
    "<div class=\"alert alert-block alert-info\">\n",
    "Checking the usage of memory\n",
    "</div>"
   ]
  },
  {
   "cell_type": "code",
   "execution_count": 16,
   "id": "ea376e10-697d-4c29-933d-0597117713fe",
   "metadata": {},
   "outputs": [
    {
     "name": "stdout",
     "output_type": "stream",
     "text": [
      "<class 'pandas.core.frame.DataFrame'>\n",
      "Int64Index: 1760096 entries, 0 to 1760096\n",
      "Columns: 179 entries, code to carnitine_100g\n",
      "dtypes: datetime64[ns](2), float64(118), object(59)\n",
      "memory usage: 8.8 GB\n"
     ]
    }
   ],
   "source": [
    "data.info(memory_usage=\"deep\")"
   ]
  },
  {
   "cell_type": "markdown",
   "id": "69f7c1f0-fc95-4074-8df3-d983c2515465",
   "metadata": {},
   "source": [
    "<div class=\"alert alert-block alert-danger\">\n",
    "<b>Position Flag</b>\n",
    "</div>"
   ]
  },
  {
   "cell_type": "code",
   "execution_count": null,
   "id": "f145f5fd-9211-4e76-8d49-9796a31c41bb",
   "metadata": {},
   "outputs": [],
   "source": []
  },
  {
   "cell_type": "code",
   "execution_count": null,
   "id": "4a181157-85b8-4cef-90cc-41e046b58603",
   "metadata": {},
   "outputs": [],
   "source": []
  },
  {
   "cell_type": "code",
   "execution_count": null,
   "id": "13ec862a-4082-4e4e-b441-9ad3329a030c",
   "metadata": {},
   "outputs": [],
   "source": []
  },
  {
   "cell_type": "code",
   "execution_count": null,
   "id": "40b5be47-c217-4656-92a3-0f1b6d2d791f",
   "metadata": {},
   "outputs": [],
   "source": []
  },
  {
   "cell_type": "code",
   "execution_count": null,
   "id": "52f5db6f-6a18-4763-a5da-3463696583b8",
   "metadata": {},
   "outputs": [],
   "source": []
  },
  {
   "cell_type": "code",
   "execution_count": null,
   "id": "ff3afd98-8e09-4723-90a5-61454784cd2d",
   "metadata": {},
   "outputs": [],
   "source": []
  },
  {
   "cell_type": "code",
   "execution_count": null,
   "id": "927162e0-e346-4ed2-8544-d743125d9642",
   "metadata": {},
   "outputs": [],
   "source": []
  },
  {
   "cell_type": "code",
   "execution_count": null,
   "id": "6cdc8c35-acc9-479b-b6be-a4668188596b",
   "metadata": {},
   "outputs": [],
   "source": []
  },
  {
   "cell_type": "code",
   "execution_count": null,
   "id": "9f552b1e-f939-4352-af98-e04dcacdbb1f",
   "metadata": {},
   "outputs": [],
   "source": []
  },
  {
   "cell_type": "code",
   "execution_count": null,
   "id": "9e21e890-cc58-4376-afd2-a99287257f72",
   "metadata": {},
   "outputs": [],
   "source": []
  },
  {
   "cell_type": "code",
   "execution_count": null,
   "id": "85dc9863-cff6-49a4-b6cf-be3e169b26e6",
   "metadata": {},
   "outputs": [],
   "source": []
  },
  {
   "cell_type": "code",
   "execution_count": null,
   "id": "750c8896-ef92-4957-86f4-3790963714b7",
   "metadata": {},
   "outputs": [],
   "source": []
  },
  {
   "cell_type": "code",
   "execution_count": 32,
   "id": "9dad6744-c256-4153-a988-e08395127f01",
   "metadata": {},
   "outputs": [],
   "source": [
    "#data.describe()"
   ]
  },
  {
   "cell_type": "code",
   "execution_count": 30,
   "id": "601a785f-a134-4f6f-a010-ac3f41298667",
   "metadata": {},
   "outputs": [],
   "source": [
    "# nb_not_null = pd.DataFrame((~data.isna()).sum(axis =0), columns=['nb'])\n",
    "# nb_not_null.sort_values(by=['nb'], axis=0, ascending=True, inplace=True)\n",
    "# nb_not_null.T.head(150)"
   ]
  },
  {
   "cell_type": "code",
   "execution_count": 31,
   "id": "90494722-f9b6-4a23-bf5e-43cb83a4f409",
   "metadata": {},
   "outputs": [],
   "source": [
    "# del [data]\n",
    "# gc.collect()\n",
    "# data = pd.DataFrame()\n",
    "# del [data]"
   ]
  },
  {
   "cell_type": "markdown",
   "id": "da35619c-0568-45ac-be50-dbec389672a2",
   "metadata": {},
   "source": [
    "<div class=\"alert alert-block alert-danger\">\n",
    "<b>I am here</b>\n",
    "</div>"
   ]
  },
  {
   "cell_type": "markdown",
   "id": "7d2197ba-e343-4c09-bcb4-6dd7afff4106",
   "metadata": {},
   "source": [
    "<div class=\"alert alert-block alert-info\">\n",
    "<b>Nutri-Score data:</b>\n",
    "    <ul>\n",
    "      <li>Coffee</li>\n",
    "      <li>Tea</li>\n",
    "      <li>Milk</li>\n",
    "    </ul>    \n",
    "</div>"
   ]
  },
  {
   "cell_type": "markdown",
   "id": "9659ffd0-299c-459b-8703-fd6f44d85c2e",
   "metadata": {},
   "source": [
    "<div class=\"alert alert-block alert-warning\">\n",
    "<b>Example:</b> read data in chunks of 1 million rows at a time\n",
    "</div>"
   ]
  },
  {
   "cell_type": "markdown",
   "id": "b08c7e8a-31f7-4511-910c-351b1c7cce33",
   "metadata": {},
   "source": [
    "<div class=\"alert alert-block alert-success\">\n",
    "<b>Up to you:</b> Use green boxes sparingly, and only for some specific \n",
    "purpose that the other boxes can't cover. For example, if you have a lot \n",
    "of related content to link to, maybe you decide to use green boxes for \n",
    "related links from each section of a notebook.\n",
    "</div>"
   ]
  }
 ],
 "metadata": {
  "kernelspec": {
   "display_name": "Python 3",
   "language": "python",
   "name": "python3"
  },
  "language_info": {
   "codemirror_mode": {
    "name": "ipython",
    "version": 3
   },
   "file_extension": ".py",
   "mimetype": "text/x-python",
   "name": "python",
   "nbconvert_exporter": "python",
   "pygments_lexer": "ipython3",
   "version": "3.8.5"
  }
 },
 "nbformat": 4,
 "nbformat_minor": 5
}
