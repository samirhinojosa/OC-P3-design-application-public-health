{
 "cells": [
  {
   "cell_type": "markdown",
   "id": "949a46fd-439c-48b5-af32-70bff8dbb6e7",
   "metadata": {},
   "source": [
    "<div style=\"display: flex; background-color: #3F579F;\">\n",
    "    <h1 style=\"margin: auto; padding: 30px 30px 0px 30px;\">Design an application for public health - Project 3</h1>\n",
    "</div>\n",
    "<div style=\"display: flex; background-color: #3F579F; margin: auto; padding: 5px 30px 0px 30px;\">\n",
    "    <span style=\"width: 100%; text-align: center; font-size:20px; font-weight: bold; float: left;\">| Cleaning notebook |</span>\n",
    "</div>\n",
    "<div style=\"display: flex; background-color: #3F579F; margin: auto; padding: 10px 30px 30px 30px;\">\n",
    "    <span style=\"width: 100%; text-align: center; font-size:26px; float: left;\">Data Scientist course - OpenClassrooms</span>\n",
    "</div>"
   ]
  },
  {
   "cell_type": "markdown",
   "id": "32bcdfc7-1edc-4d6b-87c7-27db867138fd",
   "metadata": {
    "tags": []
   },
   "source": [
    "<div style=\"background-color: #506AB9;\" >\n",
    "    <h2 style=\"margin: auto; padding: 20px; color:#fff; \">1. Libraries and functions</h2>\n",
    "</div>"
   ]
  },
  {
   "cell_type": "markdown",
   "id": "85059765-112e-4e32-9a3d-cb71f92a2903",
   "metadata": {},
   "source": [
    "<div style=\"background-color: #6D83C5;\" >\n",
    "    <h3 style=\"margin: auto; padding: 20px; color:#fff; \">1.1. Libraries and functions</h3>\n",
    "</div>"
   ]
  },
  {
   "cell_type": "code",
   "execution_count": 30,
   "id": "0aa2b908-ffd2-42a1-9c55-9e8720f6f66a",
   "metadata": {},
   "outputs": [],
   "source": [
    "import io\n",
    "import gc\n",
    "from math import prod\n",
    "import time as time\n",
    "import pandas as pd\n",
    "import numpy as np"
   ]
  },
  {
   "cell_type": "markdown",
   "id": "c0fd554a-1b14-406d-b996-2bbf30c5611c",
   "metadata": {},
   "source": [
    "<div class=\"alert alert-block alert-info\">\n",
    "Due to size of the dataset, it is necessary to show all columns to work on it\n",
    "</div>"
   ]
  },
  {
   "cell_type": "code",
   "execution_count": 31,
   "id": "24552fc8-fa0c-4dec-90f4-21fd000e36fa",
   "metadata": {},
   "outputs": [],
   "source": [
    "pd.set_option(\"display.max_columns\", None) # show max of cols\n",
    "pd.set_option(\"max_colwidth\", None) # show full width of cols"
   ]
  },
  {
   "cell_type": "markdown",
   "id": "029ee2d4-c3e7-435d-bbac-e0b019d63721",
   "metadata": {},
   "source": [
    "<div style=\"background-color: #6D83C5;\" >\n",
    "    <h3 style=\"margin: auto; padding: 20px; color:#fff; \">1.2. Functions declaration</h3>\n",
    "</div>"
   ]
  },
  {
   "cell_type": "code",
   "execution_count": 32,
   "id": "9e829866-3d62-4ab4-a2c9-101f956082ae",
   "metadata": {
    "tags": []
   },
   "outputs": [],
   "source": [
    "def df_initial_analysis(df, name_df):\n",
    "    \"\"\"\n",
    "    Initial analysis on the DataFrame.\n",
    "\n",
    "    Args:\n",
    "        df (pandas.DataFrame): DataFrame to analyze.\n",
    "        name_df (str): DataFrame name.\n",
    "\n",
    "    Returns:\n",
    "        None. \n",
    "        Print the initial analysis on the DataFrame. \n",
    "    \"\"\"\n",
    "    \n",
    "    # Calculating the memory usage based on dataframe.info()\n",
    "    buf = io.StringIO()\n",
    "    df.info(buf=buf)\n",
    "    memory_usage = buf.getvalue().split('\\n')[-2]\n",
    "  \n",
    "    if df.empty:\n",
    "        print(\"The\", name_df, \"dataset is empty. Please verify the file.\")\n",
    "    else:\n",
    "        empty_cols = [col for col in df.columns if df[col].isna().all()] # identifying empty columns\n",
    "        df_rows_duplicates = df[df.duplicated()] #identifying full duplicates rows\n",
    "        \n",
    "        # Creating a dataset based on Type object and records by columns\n",
    "        type_cols = df.dtypes.apply(lambda x: x.name).to_dict() \n",
    "        df_resume = pd.DataFrame(list(type_cols.items()), columns = [\"Name\", \"Type\"])\n",
    "        df_resume[\"Records\"] = list(df.count())\n",
    "        \n",
    "        print(\"\\nInitial Analysis of\", name_df, \"dataset\")\n",
    "        print(\"--------------------------------------------------------------------------\")\n",
    "        print(\"- Dataset shape:                 \", df.shape[0], \"rows and\", df.shape[1], \"columns\")\n",
    "        print(\"- Total of NaN values:           \", df.isna().sum().sum())\n",
    "        print(\"- Percentage of NaN:             \", round((df.isna().sum().sum() / prod(df.shape)) * 100, 2), \"%\")\n",
    "        print(\"- Total of full duplicates rows: \", df_rows_duplicates.shape[0])\n",
    "        print(\"- Total of empty rows:           \", df.shape[0] - df.dropna(axis=\"rows\", how=\"all\").shape[0]) if df.dropna(axis=\"rows\", how=\"all\").shape[0] < df.shape[0] else \\\n",
    "                    print(\"- Total of empty rows:            0\")\n",
    "        print(\"- Total of empty columns:        \", len(empty_cols))\n",
    "        print(\"  + The empty column is:         \", empty_cols) if len(empty_cols) == 1 else \\\n",
    "                    print(\"  + The empty column are:         \", empty_cols) if len(empty_cols) >= 1 else None\n",
    "        \n",
    "        pd.set_option(\"display.max_rows\", None) \n",
    "        \n",
    "        print(\"\\n- Type object and records by columns         (\",memory_usage,\")\")\n",
    "        print(\"--------------------------------------------------------------------------\")\n",
    "        print(df_resume.sort_values(\"Records\", ascending=False)) \n",
    "        \n",
    "        pd.set_option(\"display.max_rows\", None) # reset max of showing rows\n",
    "        \n",
    "        # deleting dataframe to free memory\n",
    "        del [df_resume]\n",
    "        gc.collect()\n",
    "        df_resume = pd.DataFrame()\n",
    "    "
   ]
  },
  {
   "cell_type": "markdown",
   "id": "dc50dd5a-afde-40b6-b9cd-433d4eaefd70",
   "metadata": {
    "tags": []
   },
   "source": [
    "<div style=\"background-color: #506AB9;\" >\n",
    "    <h2 style=\"margin: auto; padding: 20px; color:#fff; \">2. Importing files</h2>\n",
    "</div>"
   ]
  },
  {
   "cell_type": "markdown",
   "id": "8e767c18-991b-4411-85bf-2e0b2a3f3c94",
   "metadata": {},
   "source": [
    "<div style=\"background-color: #6D83C5;\" >\n",
    "    <h3 style=\"margin: auto; padding: 20px; color:#fff; \">2.1. Importing and preparing files</h3>\n",
    "</div>"
   ]
  },
  {
   "cell_type": "markdown",
   "id": "4cb837e8-4759-486d-b2b3-84a612ab075f",
   "metadata": {},
   "source": [
    "<div class=\"alert alert-block alert-info\">\n",
    "Reading data in <b>chunks of 1 million rows</b> at a time\n",
    "</div>"
   ]
  },
  {
   "cell_type": "code",
   "execution_count": 33,
   "id": "c9f695f9-ee6f-48ce-bf42-353f5fe4a59b",
   "metadata": {},
   "outputs": [
    {
     "name": "stderr",
     "output_type": "stream",
     "text": [
      "C:\\Users\\Samir\\anaconda3\\lib\\site-packages\\IPython\\core\\interactiveshell.py:3437: DtypeWarning: Columns (0,8,13,27,28,29,31,47,52,55,64) have mixed types.Specify dtype option on import or set low_memory=False.\n",
      "  exec(code_obj, self.user_global_ns, self.user_ns)\n",
      "C:\\Users\\Samir\\anaconda3\\lib\\site-packages\\IPython\\core\\interactiveshell.py:3437: DtypeWarning: Columns (0,8,13,29,31,47,52,64,81,84) have mixed types.Specify dtype option on import or set low_memory=False.\n",
      "  exec(code_obj, self.user_global_ns, self.user_ns)\n"
     ]
    },
    {
     "name": "stdout",
     "output_type": "stream",
     "text": [
      "Read csv with chunks:  126.81075024604797 sec\n"
     ]
    }
   ],
   "source": [
    "start = time.time()\n",
    "chunk = pd.read_csv(\"datasets/en.openfoodfacts.org.products.csv\", chunksize=1000000, sep=\"\\t\", encoding=\"UTF-8\")\n",
    "data = pd.concat(chunk)\n",
    "end = time.time()\n",
    "print(\"Read csv with chunks: \",(end-start),\"sec\")"
   ]
  },
  {
   "cell_type": "markdown",
   "id": "a8b400f8-6342-4ae0-860b-f1404b86ea8a",
   "metadata": {},
   "source": [
    "<div class=\"alert alert-block alert-info\">\n",
    "Making <b>the initial analysis</b>\n",
    "</div>"
   ]
  },
  {
   "cell_type": "markdown",
   "id": "2dff4fe4-089a-4de7-96b2-f43a1b4556a7",
   "metadata": {},
   "source": [
    "<div class=\"alert alert-block alert-warning\">\n",
    "After analyzed the dataset, we can conclude the following:\n",
    "<ol>\n",
    "    <li>Almost 80% of the data present in data set are missing-values</li>\n",
    "    <li>There are 5 empty columns that we can delete</li>\n",
    "    <li>There is a lot of memory usage with this dataset</li>\n",
    "</ol>\n",
    "</div>"
   ]
  },
  {
   "cell_type": "code",
   "execution_count": 34,
   "id": "66252073-34b0-4582-a9fa-2f5e0116e3c2",
   "metadata": {
    "tags": []
   },
   "outputs": [
    {
     "name": "stdout",
     "output_type": "stream",
     "text": [
      "\n",
      "Initial Analysis of data dataset\n",
      "--------------------------------------------------------------------------\n",
      "- Dataset shape:                  1760097 rows and 186 columns\n",
      "- Total of NaN values:            260478039\n",
      "- Percentage of NaN:              79.56 %\n",
      "- Total of full duplicates rows:  1\n",
      "- Total of empty rows:            0\n",
      "- Total of empty columns:         5\n",
      "  + The empty column are:          ['cities', 'allergens_en', 'no_nutriments', 'ingredients_from_palm_oil', 'ingredients_that_may_be_from_palm_oil']\n",
      "\n",
      "- Type object and records by columns         ( memory usage: 2.4+ GB )\n",
      "--------------------------------------------------------------------------\n",
      "                                           Name     Type  Records\n",
      "0                                          code   object  1760097\n",
      "6                        last_modified_datetime   object  1760097\n",
      "63                                    states_en   object  1760097\n",
      "62                                  states_tags   object  1760097\n",
      "61                                       states   object  1760097\n",
      "1                                           url   object  1760097\n",
      "5                               last_modified_t    int64  1760097\n",
      "4                              created_datetime   object  1760097\n",
      "3                                     created_t    int64  1760097\n",
      "2                                       creator   object  1760093\n",
      "60                                pnns_groups_2   object  1759730\n",
      "34                                    countries   object  1754604\n",
      "36                                 countries_en   object  1754600\n",
      "35                               countries_tags   object  1754600\n",
      "59                                pnns_groups_1   object  1743530\n",
      "7                                  product_name   object  1682674\n",
      "77                                  energy_100g  float64  1397732\n",
      "128                               proteins_100g  float64  1390642\n",
      "79                                     fat_100g  float64  1389669\n",
      "115                          carbohydrates_100g  float64  1389200\n",
      "116                                 sugars_100g  float64  1372059\n",
      "80                           saturated-fat_100g  float64  1346364\n",
      "76                             energy-kcal_100g  float64  1343908\n",
      "132                                   salt_100g  float64  1341585\n",
      "133                                 sodium_100g  float64  1341581\n",
      "70                              image_small_url   object  1315404\n",
      "69                                    image_url   object  1315404\n",
      "14                                       brands   object   918867\n",
      "15                                  brands_tags   object   918811\n",
      "74                    image_nutrition_small_url   object   858019\n",
      "73                          image_nutrition_url   object   858019\n",
      "16                                   categories   object   841867\n",
      "17                              categories_tags   object   841866\n",
      "68                             main_category_en   object   841866\n",
      "18                                categories_en   object   841866\n",
      "67                                main_category   object   841866\n",
      "53      ingredients_that_may_be_from_palm_oil_n  float64   687715\n",
      "46                                  additives_n  float64   687715\n",
      "50                  ingredients_from_palm_oil_n  float64   687715\n",
      "37                             ingredients_text   object   687713\n",
      "72                  image_ingredients_small_url   object   675186\n",
      "71                        image_ingredients_url   object   675186\n",
      "177                     nutrition-score-fr_100g  float64   655006\n",
      "57                             nutriscore_grade   object   655001\n",
      "56                             nutriscore_score  float64   655001\n",
      "58                                   nova_group  float64   601437\n",
      "43                                 serving_size   object   468298\n",
      "125                                  fiber_100g  float64   467580\n",
      "44                             serving_quantity  float64   463383\n",
      "10                                     quantity   object   455823\n",
      "65                            ecoscore_score_fr  float64   421369\n",
      "66                            ecoscore_grade_fr   object   421369\n",
      "49                                 additives_en   object   398474\n",
      "48                               additives_tags   object   398474\n",
      "25                                  labels_tags   object   388140\n",
      "26                                    labels_en   object   388140\n",
      "24                                       labels   object   388121\n",
      "64                                  brand_owner   object   289516\n",
      "11                                    packaging   object   282863\n",
      "12                               packaging_tags   object   282838\n",
      "154                                calcium_100g  float64   269712\n",
      "114                            cholesterol_100g  float64   268350\n",
      "113                              trans-fat_100g  float64   264553\n",
      "156                                   iron_100g  float64   264442\n",
      "140                              vitamin-c_100g  float64   219778\n",
      "33                                       stores   object   218680\n",
      "135                              vitamin-a_100g  float64   212152\n",
      "38                                    allergens   object   181644\n",
      "32                              purchase_places   object   151112\n",
      "75                               energy-kj_100g  float64   127411\n",
      "42                                    traces_en   object   116895\n",
      "41                                  traces_tags   object   116895\n",
      "9                                  generic_name   object   113378\n",
      "27                                    emb_codes   object   112942\n",
      "28                               emb_codes_tags   object   112911\n",
      "22                         manufacturing_places   object   112742\n",
      "23                    manufacturing_places_tags   object   112691\n",
      "40                                       traces   object    94000\n",
      "152                              potassium_100g  float64    91844\n",
      "19                                      origins   object    76304\n",
      "21                                   origins_en   object    76186\n",
      "20                                 origins_tags   object    76186\n",
      "31                                  cities_tags   object    74984\n",
      "29                     first_packaging_code_geo   object    69575\n",
      "96                     polyunsaturated-fat_100g  float64    47404\n",
      "95                     monounsaturated-fat_100g  float64    47404\n",
      "55   ingredients_that_may_be_from_palm_oil_tags   object    40211\n",
      "143                             vitamin-pp_100g  float64    23569\n",
      "141                             vitamin-b1_100g  float64    23387\n",
      "142                             vitamin-b2_100g  float64    22483\n",
      "134                                alcohol_100g  float64    19593\n",
      "144                             vitamin-b6_100g  float64    15823\n",
      "157                              magnesium_100g  float64    14579\n",
      "52               ingredients_from_palm_oil_tags   object    13994\n",
      "155                             phosphorus_100g  float64    13664\n",
      "147                            vitamin-b12_100g  float64    12571\n",
      "171        fruits-vegetables-nuts-estimate_100g  float64    11748\n",
      "176     carbon-footprint-from-meat-or-fish_100g  float64    11632\n",
      "158                                   zinc_100g  float64    10096\n",
      "145                             vitamin-b9_100g  float64    10095\n",
      "137                              vitamin-d_100g  float64     9532\n",
      "169                 fruits-vegetables-nuts_100g  float64     8792\n",
      "146                                folates_100g  float64     8447\n",
      "149                       pantothenic-acid_100g  float64     5988\n",
      "173                                  cocoa_100g  float64     5904\n",
      "159                                 copper_100g  float64     4237\n",
      "160                              manganese_100g  float64     4002\n",
      "13                               packaging_text   object     3722\n",
      "126                         -soluble-fiber_100g  float64     3607\n",
      "124                                polyols_100g  float64     3567\n",
      "8                      abbreviated_product_name   object     3339\n",
      "127                       -insoluble-fiber_100g  float64     3337\n",
      "138                              vitamin-e_100g  float64     3324\n",
      "162                               selenium_100g  float64     2441\n",
      "165                                 iodine_100g  float64     2094\n",
      "97                             omega-3-fat_100g  float64     1981\n",
      "182                          phylloquinone_100g  float64     1712\n",
      "139                              vitamin-k_100g  float64     1103\n",
      "148                                 biotin_100g  float64     1034\n",
      "78                         energy-from-fat_100g  float64      975\n",
      "120                               -lactose_100g  float64      769\n",
      "153                               chloride_100g  float64      685\n",
      "101                            omega-6-fat_100g  float64      508\n",
      "123                                 starch_100g  float64      499\n",
      "98                   -alpha-linolenic-acid_100g  float64      474\n",
      "175                       carbon-footprint_100g  float64      455\n",
      "166                               caffeine_100g  float64      425\n",
      "151                            bicarbonate_100g  float64      378\n",
      "170           fruits-vegetables-nuts-dried_100g  float64      348\n",
      "161                               fluoride_100g  float64      321\n",
      "172            collagen-meat-protein-ratio_100g  float64      309\n",
      "164                             molybdenum_100g  float64      273\n",
      "102                         -linoleic-acid_100g  float64      236\n",
      "168                                     ph_100g  float64      187\n",
      "163                               chromium_100g  float64      184\n",
      "100                  -docosahexaenoic-acid_100g  float64      167\n",
      "167                                taurine_100g  float64      160\n",
      "117                               -sucrose_100g  float64      139\n",
      "150                                 silica_100g  float64      118\n",
      "99                  -eicosapentaenoic-acid_100g  float64      117\n",
      "106                            omega-9-fat_100g  float64       90\n",
      "122                         -maltodextrins_100g  float64       89\n",
      "136                          beta-carotene_100g  float64       82\n",
      "119                              -fructose_100g  float64       79\n",
      "89                         -arachidic-acid_100g  float64       78\n",
      "118                               -glucose_100g  float64       77\n",
      "103                      -arachidonic-acid_100g  float64       73\n",
      "107                            -oleic-acid_100g  float64       53\n",
      "130                         serum-proteins_100g  float64       49\n",
      "184                               inositol_100g  float64       46\n",
      "129                                 casein_100g  float64       43\n",
      "181                                choline_100g  float64       41\n",
      "121                               -maltose_100g  float64       36\n",
      "183                            beta-glucan_100g  float64       32\n",
      "90                           -behenic-acid_100g  float64       29\n",
      "131                            nucleotides_100g  float64       23\n",
      "185                              carnitine_100g  float64       20\n",
      "87                          -palmitic-acid_100g  float64       20\n",
      "93                          -montanic-acid_100g  float64       15\n",
      "109                          -gondoic-acid_100g  float64       15\n",
      "85                            -lauric-acid_100g  float64       15\n",
      "81                           -butyric-acid_100g   object       14\n",
      "94                          -melissic-acid_100g  float64       10\n",
      "84                            -capric-acid_100g   object       10\n",
      "104                  -gamma-linolenic-acid_100g  float64       10\n",
      "178                     nutrition-score-uk_100g  float64        9\n",
      "92                           -cerotic-acid_100g  float64        8\n",
      "110                             -mead-acid_100g  float64        8\n",
      "112                         -nervonic-acid_100g  float64        8\n",
      "86                          -myristic-acid_100g  float64        7\n",
      "88                           -stearic-acid_100g  float64        7\n",
      "174                             chlorophyl_100g  float64        5\n",
      "105           -dihomo-gamma-linolenic-acid_100g  float64        5\n",
      "111                           -erucic-acid_100g  float64        5\n",
      "179                         glycemic-index_100g  float64        4\n",
      "47                                    additives   object        4\n",
      "82                           -caproic-acid_100g  float64        3\n",
      "83                          -caprylic-acid_100g  float64        3\n",
      "91                        -lignoceric-acid_100g  float64        3\n",
      "108                          -elaidic-acid_100g  float64        2\n",
      "180                         water-hardness_100g  float64        1\n",
      "54        ingredients_that_may_be_from_palm_oil  float64        0\n",
      "45                                no_nutriments  float64        0\n",
      "39                                 allergens_en  float64        0\n",
      "30                                       cities  float64        0\n",
      "51                    ingredients_from_palm_oil  float64        0\n"
     ]
    }
   ],
   "source": [
    "df_initial_analysis(data, \"data\")"
   ]
  },
  {
   "cell_type": "markdown",
   "id": "03fc7760-2c2f-4f73-97fe-3432a8841c47",
   "metadata": {
    "tags": []
   },
   "source": [
    "<div style=\"background-color: #506AB9;\" >\n",
    "    <h2 style=\"margin: auto; padding: 20px; color:#fff; \">2. Cleaning dataset</h2>\n",
    "</div>"
   ]
  },
  {
   "cell_type": "markdown",
   "id": "0479149d-8cb0-4aea-ad30-1a9fd8766241",
   "metadata": {
    "tags": []
   },
   "source": [
    "<div style=\"background-color: #6D83C5;\" >\n",
    "    <h3 style=\"margin: auto; padding: 20px; color:#fff; \">2.1. Deleting NaN columns and rows, and duplicated rows</h3>\n",
    "</div>"
   ]
  },
  {
   "cell_type": "code",
   "execution_count": 35,
   "id": "bcd5d2c1-7ee5-4883-b613-ef63ae3a26b8",
   "metadata": {},
   "outputs": [],
   "source": [
    "data = data.dropna(axis=\"columns\", how=\"all\").dropna(axis=\"rows\", how=\"all\")"
   ]
  },
  {
   "cell_type": "code",
   "execution_count": 36,
   "id": "2d3d26f2-ac31-4357-9312-d68628a6ae9e",
   "metadata": {},
   "outputs": [],
   "source": [
    "data = data.drop_duplicates()"
   ]
  },
  {
   "cell_type": "code",
   "execution_count": 37,
   "id": "f47f7ca8-0fb4-4b73-b61b-8f87c4321682",
   "metadata": {
    "tags": []
   },
   "outputs": [
    {
     "name": "stdout",
     "output_type": "stream",
     "text": [
      "\n",
      "Initial Analysis of data dataset\n",
      "--------------------------------------------------------------------------\n",
      "- Dataset shape:                  1760096 rows and 181 columns\n",
      "- Total of NaN values:            251677390\n",
      "- Percentage of NaN:              79.0 %\n",
      "- Total of full duplicates rows:  0\n",
      "- Total of empty rows:            0\n",
      "- Total of empty columns:         0\n",
      "\n",
      "- Type object and records by columns         ( memory usage: 2.4+ GB )\n",
      "--------------------------------------------------------------------------\n",
      "                                           Name     Type  Records\n",
      "0                                          code   object  1760096\n",
      "58                                    states_en   object  1760096\n",
      "3                                     created_t    int64  1760096\n",
      "4                              created_datetime   object  1760096\n",
      "5                               last_modified_t    int64  1760096\n",
      "6                        last_modified_datetime   object  1760096\n",
      "57                                  states_tags   object  1760096\n",
      "1                                           url   object  1760096\n",
      "56                                       states   object  1760096\n",
      "2                                       creator   object  1760092\n",
      "55                                pnns_groups_2   object  1759729\n",
      "33                                    countries   object  1754603\n",
      "35                                 countries_en   object  1754599\n",
      "34                               countries_tags   object  1754599\n",
      "54                                pnns_groups_1   object  1743529\n",
      "7                                  product_name   object  1682674\n",
      "72                                  energy_100g  float64  1397732\n",
      "123                               proteins_100g  float64  1390642\n",
      "74                                     fat_100g  float64  1389669\n",
      "110                          carbohydrates_100g  float64  1389200\n",
      "111                                 sugars_100g  float64  1372059\n",
      "75                           saturated-fat_100g  float64  1346364\n",
      "71                             energy-kcal_100g  float64  1343908\n",
      "127                                   salt_100g  float64  1341585\n",
      "128                                 sodium_100g  float64  1341581\n",
      "65                              image_small_url   object  1315403\n",
      "64                                    image_url   object  1315403\n",
      "14                                       brands   object   918867\n",
      "15                                  brands_tags   object   918811\n",
      "69                    image_nutrition_small_url   object   858019\n",
      "68                          image_nutrition_url   object   858019\n",
      "16                                   categories   object   841867\n",
      "18                                categories_en   object   841866\n",
      "62                                main_category   object   841866\n",
      "17                              categories_tags   object   841866\n",
      "63                             main_category_en   object   841866\n",
      "49      ingredients_that_may_be_from_palm_oil_n  float64   687715\n",
      "43                                  additives_n  float64   687715\n",
      "47                  ingredients_from_palm_oil_n  float64   687715\n",
      "36                             ingredients_text   object   687713\n",
      "67                  image_ingredients_small_url   object   675186\n",
      "66                        image_ingredients_url   object   675186\n",
      "172                     nutrition-score-fr_100g  float64   655006\n",
      "52                             nutriscore_grade   object   655001\n",
      "51                             nutriscore_score  float64   655001\n",
      "53                                   nova_group  float64   601437\n",
      "41                                 serving_size   object   468298\n",
      "120                                  fiber_100g  float64   467580\n",
      "42                             serving_quantity  float64   463383\n",
      "10                                     quantity   object   455823\n",
      "60                            ecoscore_score_fr  float64   421369\n",
      "61                            ecoscore_grade_fr   object   421369\n",
      "46                                 additives_en   object   398474\n",
      "45                               additives_tags   object   398474\n",
      "26                                    labels_en   object   388140\n",
      "25                                  labels_tags   object   388140\n",
      "24                                       labels   object   388121\n",
      "59                                  brand_owner   object   289516\n",
      "11                                    packaging   object   282863\n",
      "12                               packaging_tags   object   282838\n",
      "149                                calcium_100g  float64   269712\n",
      "109                            cholesterol_100g  float64   268350\n",
      "108                              trans-fat_100g  float64   264553\n",
      "151                                   iron_100g  float64   264442\n",
      "135                              vitamin-c_100g  float64   219778\n",
      "32                                       stores   object   218680\n",
      "130                              vitamin-a_100g  float64   212152\n",
      "37                                    allergens   object   181644\n",
      "31                              purchase_places   object   151112\n",
      "70                               energy-kj_100g  float64   127411\n",
      "39                                  traces_tags   object   116895\n",
      "40                                    traces_en   object   116895\n",
      "9                                  generic_name   object   113378\n",
      "27                                    emb_codes   object   112942\n",
      "28                               emb_codes_tags   object   112911\n",
      "22                         manufacturing_places   object   112742\n",
      "23                    manufacturing_places_tags   object   112691\n",
      "38                                       traces   object    94000\n",
      "147                              potassium_100g  float64    91844\n",
      "19                                      origins   object    76304\n",
      "20                                 origins_tags   object    76186\n",
      "21                                   origins_en   object    76186\n",
      "30                                  cities_tags   object    74984\n",
      "29                     first_packaging_code_geo   object    69575\n",
      "91                     polyunsaturated-fat_100g  float64    47404\n",
      "90                     monounsaturated-fat_100g  float64    47404\n",
      "50   ingredients_that_may_be_from_palm_oil_tags   object    40211\n",
      "138                             vitamin-pp_100g  float64    23569\n",
      "136                             vitamin-b1_100g  float64    23387\n",
      "137                             vitamin-b2_100g  float64    22483\n",
      "129                                alcohol_100g  float64    19593\n",
      "139                             vitamin-b6_100g  float64    15823\n",
      "152                              magnesium_100g  float64    14579\n",
      "48               ingredients_from_palm_oil_tags   object    13994\n",
      "150                             phosphorus_100g  float64    13664\n",
      "142                            vitamin-b12_100g  float64    12571\n",
      "166        fruits-vegetables-nuts-estimate_100g  float64    11748\n",
      "171     carbon-footprint-from-meat-or-fish_100g  float64    11632\n",
      "153                                   zinc_100g  float64    10096\n",
      "140                             vitamin-b9_100g  float64    10095\n",
      "132                              vitamin-d_100g  float64     9532\n",
      "164                 fruits-vegetables-nuts_100g  float64     8792\n",
      "141                                folates_100g  float64     8447\n",
      "144                       pantothenic-acid_100g  float64     5988\n",
      "168                                  cocoa_100g  float64     5904\n",
      "154                                 copper_100g  float64     4237\n",
      "155                              manganese_100g  float64     4002\n",
      "13                               packaging_text   object     3722\n",
      "121                         -soluble-fiber_100g  float64     3607\n",
      "119                                polyols_100g  float64     3567\n",
      "8                      abbreviated_product_name   object     3339\n",
      "122                       -insoluble-fiber_100g  float64     3337\n",
      "133                              vitamin-e_100g  float64     3324\n",
      "157                               selenium_100g  float64     2441\n",
      "160                                 iodine_100g  float64     2094\n",
      "92                             omega-3-fat_100g  float64     1981\n",
      "177                          phylloquinone_100g  float64     1712\n",
      "134                              vitamin-k_100g  float64     1103\n",
      "143                                 biotin_100g  float64     1034\n",
      "73                         energy-from-fat_100g  float64      975\n",
      "115                               -lactose_100g  float64      769\n",
      "148                               chloride_100g  float64      685\n",
      "96                             omega-6-fat_100g  float64      508\n",
      "118                                 starch_100g  float64      499\n",
      "93                   -alpha-linolenic-acid_100g  float64      474\n",
      "170                       carbon-footprint_100g  float64      455\n",
      "161                               caffeine_100g  float64      425\n",
      "146                            bicarbonate_100g  float64      378\n",
      "165           fruits-vegetables-nuts-dried_100g  float64      348\n",
      "156                               fluoride_100g  float64      321\n",
      "167            collagen-meat-protein-ratio_100g  float64      309\n",
      "159                             molybdenum_100g  float64      273\n",
      "97                          -linoleic-acid_100g  float64      236\n",
      "163                                     ph_100g  float64      187\n",
      "158                               chromium_100g  float64      184\n",
      "95                   -docosahexaenoic-acid_100g  float64      167\n",
      "162                                taurine_100g  float64      160\n",
      "112                               -sucrose_100g  float64      139\n",
      "145                                 silica_100g  float64      118\n",
      "94                  -eicosapentaenoic-acid_100g  float64      117\n",
      "101                            omega-9-fat_100g  float64       90\n",
      "117                         -maltodextrins_100g  float64       89\n",
      "131                          beta-carotene_100g  float64       82\n",
      "114                              -fructose_100g  float64       79\n",
      "84                         -arachidic-acid_100g  float64       78\n",
      "113                               -glucose_100g  float64       77\n",
      "98                       -arachidonic-acid_100g  float64       73\n",
      "102                            -oleic-acid_100g  float64       53\n",
      "125                         serum-proteins_100g  float64       49\n",
      "179                               inositol_100g  float64       46\n",
      "124                                 casein_100g  float64       43\n",
      "176                                choline_100g  float64       41\n",
      "116                               -maltose_100g  float64       36\n",
      "178                            beta-glucan_100g  float64       32\n",
      "85                           -behenic-acid_100g  float64       29\n",
      "126                            nucleotides_100g  float64       23\n",
      "180                              carnitine_100g  float64       20\n",
      "82                          -palmitic-acid_100g  float64       20\n",
      "104                          -gondoic-acid_100g  float64       15\n",
      "88                          -montanic-acid_100g  float64       15\n",
      "80                            -lauric-acid_100g  float64       15\n",
      "76                           -butyric-acid_100g   object       14\n",
      "89                          -melissic-acid_100g  float64       10\n",
      "79                            -capric-acid_100g   object       10\n",
      "99                   -gamma-linolenic-acid_100g  float64       10\n",
      "173                     nutrition-score-uk_100g  float64        9\n",
      "107                         -nervonic-acid_100g  float64        8\n",
      "87                           -cerotic-acid_100g  float64        8\n",
      "105                             -mead-acid_100g  float64        8\n",
      "83                           -stearic-acid_100g  float64        7\n",
      "81                          -myristic-acid_100g  float64        7\n",
      "106                           -erucic-acid_100g  float64        5\n",
      "100           -dihomo-gamma-linolenic-acid_100g  float64        5\n",
      "169                             chlorophyl_100g  float64        5\n",
      "44                                    additives   object        4\n",
      "174                         glycemic-index_100g  float64        4\n",
      "78                          -caprylic-acid_100g  float64        3\n",
      "77                           -caproic-acid_100g  float64        3\n",
      "86                        -lignoceric-acid_100g  float64        3\n",
      "103                          -elaidic-acid_100g  float64        2\n",
      "175                         water-hardness_100g  float64        1\n"
     ]
    }
   ],
   "source": [
    "df_initial_analysis(data, \"data\")"
   ]
  },
  {
   "cell_type": "markdown",
   "id": "7950d746-a34a-4a9a-b1bb-f4dd681caa04",
   "metadata": {
    "tags": []
   },
   "source": [
    "<div style=\"background-color: #6D83C5;\" >\n",
    "    <h3 style=\"margin: auto; padding: 20px; color:#fff; \">2.2. Fixing the columns types</h3>\n",
    "</div>"
   ]
  },
  {
   "cell_type": "markdown",
   "id": "70c7afbf-5081-4600-a3bb-de974493ab02",
   "metadata": {
    "tags": []
   },
   "source": [
    "<div class=\"alert alert-block alert-warning\">\n",
    "There are some columns with column type wrong. We can see this information based on:\n",
    "<ul style=\"list-style-type: square;\">\n",
    "    <li>Open Food Facts data-fileds: <b>https://world.openfoodfacts.org/data/data-fields.txt</b></li>\n",
    "    <li>At the momento to <b>import the *.csv</b></li>\n",
    "    <li>As a result of the function <b>df_initial_analysis</b></li>\n",
    "</ul>\n",
    "\n",
    "Due to that, we are going to proceed to fix them. \n",
    "</div>"
   ]
  },
  {
   "cell_type": "markdown",
   "id": "a72a5de5-789a-42d8-899e-d3b4eae1a4d9",
   "metadata": {},
   "source": [
    "<div class=\"alert alert-block alert-info\">\n",
    "<b>Fixing column types float64</b><br>\n",
    "Based on Open Food Facts data-fileds: <b>https://world.openfoodfacts.org/data/data-fields.txt</b>, we know the following\n",
    "<ul style=\"list-style-type: square;\">\n",
    "    <li>fields that end with <b>_100g</b> correspond to <b>the amount of a nutriment</b> (in g, or kJ for energy) for <b>100 g</b> or <b>100 ml</b> of product</li>\n",
    "    <li>fields that end with <b>_serving</b> correspond to <b>the amount of a nutriment</b> (in g, or kJ for energy) for <b>1</b> serving of the product</li>\n",
    "</ul>\n",
    "\n",
    "Finally, we are going to make the <b>downcast</b> from <b>float64</b> to <b>float32</b> \n",
    "</div><b>"
   ]
  },
  {
   "cell_type": "code",
   "execution_count": 38,
   "id": "4a2bd6ac-1424-4a8f-b270-dd89c9622ded",
   "metadata": {},
   "outputs": [
    {
     "name": "stdout",
     "output_type": "stream",
     "text": [
      "Column to update the column type: -butyric-acid_100g object\n",
      "Column to update the column type: -capric-acid_100g object\n"
     ]
    }
   ],
   "source": [
    "for col in data.columns:\n",
    "    if (col.endswith(\"_100g\") or col.endswith(\"_serving\")) and data[col].dtypes != \"float64\":\n",
    "        print(\"Column to update the column type:\", col, data[col].dtypes)\n",
    "        data[col] = data[col].astype(\"float64\")"
   ]
  },
  {
   "cell_type": "code",
   "execution_count": 39,
   "id": "d3c06d69-63ee-448d-b63e-6f5ff3276e8f",
   "metadata": {},
   "outputs": [],
   "source": [
    "for col in data.columns:\n",
    "    if data[col].dtypes == \"float64\":\n",
    "        data[col] = data[col].astype(\"float32\")"
   ]
  },
  {
   "cell_type": "markdown",
   "id": "5d8cf2b5-48f1-4cde-83cd-be3c4e9df653",
   "metadata": {},
   "source": [
    "<div class=\"alert alert-block alert-info\">\n",
    "<b>Fixing column types datetime</b><br>\n",
    "Based on Open Food Facts data-fileds: <b>https://world.openfoodfacts.org/data/data-fields.txt</b>, we know the following:\n",
    "<ul style=\"list-style-type: square;\">\n",
    "    <li>fields that end with <b>_t</b> are dates in <b>the UNIX timestamp format</b> (number of seconds since Jan 1st 1970)</b></li>\n",
    "    <li>fields that end with <b>_datetime</b> are dates in <b>the iso8601 format: yyyy-mm-ddThh:mn:ssZ</b></li>\n",
    "</ul>\n",
    "\n",
    "In this case, both group of columns have the same amount of data. Due to that, we will only keep the columns ended by <b>_datetime</b>\n",
    "</div>"
   ]
  },
  {
   "cell_type": "code",
   "execution_count": 40,
   "id": "11b94273-1ee2-49be-9452-64450b46a61d",
   "metadata": {},
   "outputs": [
    {
     "name": "stdout",
     "output_type": "stream",
     "text": [
      "Column to update the column type: created_datetime object\n",
      "Column to update the column type: last_modified_datetime object\n"
     ]
    }
   ],
   "source": [
    "for col in data.columns:\n",
    "    if col.endswith(\"_datetime\") and data[col].dtypes != \"datetime64\":\n",
    "        print(\"Column to update the column type:\", col, data[col].dtypes)\n",
    "        data[col] = data[col].astype(\"datetime64\")"
   ]
  },
  {
   "cell_type": "code",
   "execution_count": 41,
   "id": "60336a4b-8445-4fa4-9297-120d4f485501",
   "metadata": {},
   "outputs": [
    {
     "name": "stdout",
     "output_type": "stream",
     "text": [
      "Column to delete: created_t int64\n",
      "Column to delete: last_modified_t int64\n"
     ]
    }
   ],
   "source": [
    "for col in data.columns:\n",
    "    if col.endswith(\"_t\"):\n",
    "        print(\"Column to delete:\", col, data[col].dtypes)\n",
    "        data = data.drop(col, axis=1)  "
   ]
  },
  {
   "cell_type": "markdown",
   "id": "cdbdae39-81aa-402d-8eec-86fe5e9b604b",
   "metadata": {},
   "source": [
    "<div class=\"alert alert-block alert-info\">\n",
    "Checking the usage of memory\n",
    "</div>"
   ]
  },
  {
   "cell_type": "code",
   "execution_count": 42,
   "id": "3a65d14c-27bc-4773-8fbe-f85022a4424e",
   "metadata": {},
   "outputs": [
    {
     "name": "stdout",
     "output_type": "stream",
     "text": [
      "<class 'pandas.core.frame.DataFrame'>\n",
      "Int64Index: 1760096 entries, 0 to 1760096\n",
      "Columns: 179 entries, code to carnitine_100g\n",
      "dtypes: datetime64[ns](2), float32(118), object(59)\n",
      "memory usage: 8.1 GB\n"
     ]
    }
   ],
   "source": [
    "data.info(memory_usage=\"deep\")"
   ]
  },
  {
   "cell_type": "markdown",
   "id": "3e19b066-5d5a-47e9-b928-dadb2227a668",
   "metadata": {},
   "source": [
    "<div class=\"alert alert-block alert-info\">\n",
    "If the number of unique values in a specific column is less than the half numbers of rows in the same column, we are going to change the type from <b>object</b> to <b>category</b> to improve the usage of memory\n",
    "</div>"
   ]
  },
  {
   "cell_type": "code",
   "execution_count": 50,
   "id": "6fb6cea1-d794-4664-88b8-0a2b3bc58774",
   "metadata": {},
   "outputs": [],
   "source": [
    "for col in data.columns:\n",
    "    if data[col].dtypes == \"object\":\n",
    "        if len(data[col].unique()) / len(data[col]) < 0.5:\n",
    "            data[col] = data[col].astype(\"category\")\n",
    "        else:\n",
    "            data[col] = data[col].astype(\"object\")"
   ]
  },
  {
   "cell_type": "markdown",
   "id": "6ed77c70-ed1b-4f7a-bd80-d37b94a166c5",
   "metadata": {},
   "source": [
    "<div class=\"alert alert-block alert-info\">\n",
    "Checking the usage of memory\n",
    "</div>"
   ]
  },
  {
   "cell_type": "code",
   "execution_count": 51,
   "id": "f19d30cc-caee-4837-a4bc-014526d39085",
   "metadata": {},
   "outputs": [
    {
     "name": "stdout",
     "output_type": "stream",
     "text": [
      "<class 'pandas.core.frame.DataFrame'>\n",
      "Int64Index: 1760096 entries, 0 to 1760096\n",
      "Columns: 179 entries, code to carnitine_100g\n",
      "dtypes: category(54), datetime64[ns](2), float32(118), object(5)\n",
      "memory usage: 2.8 GB\n"
     ]
    }
   ],
   "source": [
    "data.info(memory_usage=\"deep\")"
   ]
  },
  {
   "cell_type": "code",
   "execution_count": 52,
   "id": "c2a898e9-62ed-4d19-8816-af0f2a7426d2",
   "metadata": {
    "tags": []
   },
   "outputs": [
    {
     "name": "stdout",
     "output_type": "stream",
     "text": [
      "\n",
      "Initial Analysis of data dataset\n",
      "--------------------------------------------------------------------------\n",
      "- Dataset shape:                  1760096 rows and 179 columns\n",
      "- Total of NaN values:            251677390\n",
      "- Percentage of NaN:              79.88 %\n",
      "- Total of full duplicates rows:  0\n",
      "- Total of empty rows:            0\n",
      "- Total of empty columns:         0\n",
      "\n",
      "- Type object and records by columns         ( memory usage: 1.3+ GB )\n",
      "--------------------------------------------------------------------------\n",
      "                                           Name            Type  Records\n",
      "0                                          code          object  1760096\n",
      "54                                       states        category  1760096\n",
      "56                                    states_en        category  1760096\n",
      "55                                  states_tags        category  1760096\n",
      "1                                           url          object  1760096\n",
      "4                        last_modified_datetime  datetime64[ns]  1760096\n",
      "3                              created_datetime  datetime64[ns]  1760096\n",
      "2                                       creator        category  1760092\n",
      "53                                pnns_groups_2        category  1759729\n",
      "31                                    countries        category  1754603\n",
      "33                                 countries_en        category  1754599\n",
      "32                               countries_tags        category  1754599\n",
      "52                                pnns_groups_1        category  1743529\n",
      "5                                  product_name          object  1682674\n",
      "70                                  energy_100g         float32  1397732\n",
      "121                               proteins_100g         float32  1390642\n",
      "72                                     fat_100g         float32  1389669\n",
      "108                          carbohydrates_100g         float32  1389200\n",
      "109                                 sugars_100g         float32  1372059\n",
      "73                           saturated-fat_100g         float32  1346364\n",
      "69                             energy-kcal_100g         float32  1343908\n",
      "125                                   salt_100g         float32  1341585\n",
      "126                                 sodium_100g         float32  1341581\n",
      "63                              image_small_url          object  1315403\n",
      "62                                    image_url          object  1315403\n",
      "12                                       brands        category   918867\n",
      "13                                  brands_tags        category   918811\n",
      "67                    image_nutrition_small_url        category   858019\n",
      "66                          image_nutrition_url        category   858019\n",
      "14                                   categories        category   841867\n",
      "61                             main_category_en        category   841866\n",
      "60                                main_category        category   841866\n",
      "16                                categories_en        category   841866\n",
      "15                              categories_tags        category   841866\n",
      "45                  ingredients_from_palm_oil_n         float32   687715\n",
      "47      ingredients_that_may_be_from_palm_oil_n         float32   687715\n",
      "41                                  additives_n         float32   687715\n",
      "34                             ingredients_text        category   687713\n",
      "65                  image_ingredients_small_url        category   675186\n",
      "64                        image_ingredients_url        category   675186\n",
      "170                     nutrition-score-fr_100g         float32   655006\n",
      "50                             nutriscore_grade        category   655001\n",
      "49                             nutriscore_score         float32   655001\n",
      "51                                   nova_group         float32   601437\n",
      "39                                 serving_size        category   468298\n",
      "118                                  fiber_100g         float32   467580\n",
      "40                             serving_quantity         float32   463383\n",
      "8                                      quantity        category   455823\n",
      "59                            ecoscore_grade_fr        category   421369\n",
      "58                            ecoscore_score_fr         float32   421369\n",
      "44                                 additives_en        category   398474\n",
      "43                               additives_tags        category   398474\n",
      "24                                    labels_en        category   388140\n",
      "23                                  labels_tags        category   388140\n",
      "22                                       labels        category   388121\n",
      "57                                  brand_owner        category   289516\n",
      "9                                     packaging        category   282863\n",
      "10                               packaging_tags        category   282838\n",
      "147                                calcium_100g         float32   269712\n",
      "107                            cholesterol_100g         float32   268350\n",
      "106                              trans-fat_100g         float32   264553\n",
      "149                                   iron_100g         float32   264442\n",
      "133                              vitamin-c_100g         float32   219778\n",
      "30                                       stores        category   218680\n",
      "128                              vitamin-a_100g         float32   212152\n",
      "35                                    allergens        category   181644\n",
      "29                              purchase_places        category   151112\n",
      "68                               energy-kj_100g         float32   127411\n",
      "37                                  traces_tags        category   116895\n",
      "38                                    traces_en        category   116895\n",
      "7                                  generic_name        category   113378\n",
      "25                                    emb_codes        category   112942\n",
      "26                               emb_codes_tags        category   112911\n",
      "20                         manufacturing_places        category   112742\n",
      "21                    manufacturing_places_tags        category   112691\n",
      "36                                       traces        category    94000\n",
      "145                              potassium_100g         float32    91844\n",
      "17                                      origins        category    76304\n",
      "19                                   origins_en        category    76186\n",
      "18                                 origins_tags        category    76186\n",
      "28                                  cities_tags        category    74984\n",
      "27                     first_packaging_code_geo        category    69575\n",
      "88                     monounsaturated-fat_100g         float32    47404\n",
      "89                     polyunsaturated-fat_100g         float32    47404\n",
      "48   ingredients_that_may_be_from_palm_oil_tags        category    40211\n",
      "136                             vitamin-pp_100g         float32    23569\n",
      "134                             vitamin-b1_100g         float32    23387\n",
      "135                             vitamin-b2_100g         float32    22483\n",
      "127                                alcohol_100g         float32    19593\n",
      "137                             vitamin-b6_100g         float32    15823\n",
      "150                              magnesium_100g         float32    14579\n",
      "46               ingredients_from_palm_oil_tags        category    13994\n",
      "148                             phosphorus_100g         float32    13664\n",
      "140                            vitamin-b12_100g         float32    12571\n",
      "164        fruits-vegetables-nuts-estimate_100g         float32    11748\n",
      "169     carbon-footprint-from-meat-or-fish_100g         float32    11632\n",
      "151                                   zinc_100g         float32    10096\n",
      "138                             vitamin-b9_100g         float32    10095\n",
      "130                              vitamin-d_100g         float32     9532\n",
      "162                 fruits-vegetables-nuts_100g         float32     8792\n",
      "139                                folates_100g         float32     8447\n",
      "142                       pantothenic-acid_100g         float32     5988\n",
      "166                                  cocoa_100g         float32     5904\n",
      "152                                 copper_100g         float32     4237\n",
      "153                              manganese_100g         float32     4002\n",
      "11                               packaging_text        category     3722\n",
      "119                         -soluble-fiber_100g         float32     3607\n",
      "117                                polyols_100g         float32     3567\n",
      "6                      abbreviated_product_name        category     3339\n",
      "120                       -insoluble-fiber_100g         float32     3337\n",
      "131                              vitamin-e_100g         float32     3324\n",
      "155                               selenium_100g         float32     2441\n",
      "158                                 iodine_100g         float32     2094\n",
      "90                             omega-3-fat_100g         float32     1981\n",
      "175                          phylloquinone_100g         float32     1712\n",
      "132                              vitamin-k_100g         float32     1103\n",
      "141                                 biotin_100g         float32     1034\n",
      "71                         energy-from-fat_100g         float32      975\n",
      "113                               -lactose_100g         float32      769\n",
      "146                               chloride_100g         float32      685\n",
      "94                             omega-6-fat_100g         float32      508\n",
      "116                                 starch_100g         float32      499\n",
      "91                   -alpha-linolenic-acid_100g         float32      474\n",
      "168                       carbon-footprint_100g         float32      455\n",
      "159                               caffeine_100g         float32      425\n",
      "144                            bicarbonate_100g         float32      378\n",
      "163           fruits-vegetables-nuts-dried_100g         float32      348\n",
      "154                               fluoride_100g         float32      321\n",
      "165            collagen-meat-protein-ratio_100g         float32      309\n",
      "157                             molybdenum_100g         float32      273\n",
      "95                          -linoleic-acid_100g         float32      236\n",
      "161                                     ph_100g         float32      187\n",
      "156                               chromium_100g         float32      184\n",
      "93                   -docosahexaenoic-acid_100g         float32      167\n",
      "160                                taurine_100g         float32      160\n",
      "110                               -sucrose_100g         float32      139\n",
      "143                                 silica_100g         float32      118\n",
      "92                  -eicosapentaenoic-acid_100g         float32      117\n",
      "99                             omega-9-fat_100g         float32       90\n",
      "115                         -maltodextrins_100g         float32       89\n",
      "129                          beta-carotene_100g         float32       82\n",
      "112                              -fructose_100g         float32       79\n",
      "82                         -arachidic-acid_100g         float32       78\n",
      "111                               -glucose_100g         float32       77\n",
      "96                       -arachidonic-acid_100g         float32       73\n",
      "100                            -oleic-acid_100g         float32       53\n",
      "123                         serum-proteins_100g         float32       49\n",
      "177                               inositol_100g         float32       46\n",
      "122                                 casein_100g         float32       43\n",
      "174                                choline_100g         float32       41\n",
      "114                               -maltose_100g         float32       36\n",
      "176                            beta-glucan_100g         float32       32\n",
      "83                           -behenic-acid_100g         float32       29\n",
      "124                            nucleotides_100g         float32       23\n",
      "178                              carnitine_100g         float32       20\n",
      "80                          -palmitic-acid_100g         float32       20\n",
      "102                          -gondoic-acid_100g         float32       15\n",
      "86                          -montanic-acid_100g         float32       15\n",
      "78                            -lauric-acid_100g         float32       15\n",
      "74                           -butyric-acid_100g         float32       14\n",
      "87                          -melissic-acid_100g         float32       10\n",
      "77                            -capric-acid_100g         float32       10\n",
      "97                   -gamma-linolenic-acid_100g         float32       10\n",
      "171                     nutrition-score-uk_100g         float32        9\n",
      "105                         -nervonic-acid_100g         float32        8\n",
      "85                           -cerotic-acid_100g         float32        8\n",
      "103                             -mead-acid_100g         float32        8\n",
      "81                           -stearic-acid_100g         float32        7\n",
      "79                          -myristic-acid_100g         float32        7\n",
      "104                           -erucic-acid_100g         float32        5\n",
      "98            -dihomo-gamma-linolenic-acid_100g         float32        5\n",
      "167                             chlorophyl_100g         float32        5\n",
      "42                                    additives        category        4\n",
      "172                         glycemic-index_100g         float32        4\n",
      "76                          -caprylic-acid_100g         float32        3\n",
      "75                           -caproic-acid_100g         float32        3\n",
      "84                        -lignoceric-acid_100g         float32        3\n",
      "101                          -elaidic-acid_100g         float32        2\n",
      "173                         water-hardness_100g         float32        1\n"
     ]
    }
   ],
   "source": [
    "df_initial_analysis(data, \"data\")"
   ]
  },
  {
   "cell_type": "markdown",
   "id": "a50f31a4-d58f-49d8-a018-98bed3b55abb",
   "metadata": {
    "tags": []
   },
   "source": [
    "<div style=\"background-color: #506AB9;\" >\n",
    "    <h2 style=\"margin: auto; padding: 20px; color:#fff; \">3. Filtering information</h2>\n",
    "</div>"
   ]
  },
  {
   "cell_type": "markdown",
   "id": "e5190bdf-2754-40af-91f9-b478b0630958",
   "metadata": {
    "tags": []
   },
   "source": [
    "<div style=\"background-color: #6D83C5;\" >\n",
    "    <h3 style=\"margin: auto; padding: 20px; color:#fff; \">3.1. Filtering information by country <b>France</b></h3>\n",
    "</div>"
   ]
  },
  {
   "cell_type": "markdown",
   "id": "05ef9557-5b89-43c9-9ec8-63b2e83c55b3",
   "metadata": {},
   "source": [
    "<div class=\"alert alert-block alert-info\">\n",
    "<b>Countries where the product is sold</b><br>\n",
    "Based on Open Food Facts data-fileds: <b>https://world.openfoodfacts.org/data/data-fields.txt</b>, we know the following\n",
    "<ul style=\"list-style-type: square;\">\n",
    "    <li> There are three fields about countries where the product is sold</li>\n",
    "        <ul style=\"list-style-type: disc;\">\n",
    "            <li>countries</li>\n",
    "            <li>countries_en</li>\n",
    "            <li>countries_tags</li>\n",
    "        </ul>\n",
    "</ul>\n",
    "\n",
    "After analyzing the columns, we have decided to used the columns called <b>countries</b>.<br>\n",
    "We are going to filter considering only France and its overseas department\n",
    "</div>"
   ]
  },
  {
   "cell_type": "code",
   "execution_count": 57,
   "id": "f15d8f67-03ee-43eb-83f0-8deebd1e7081",
   "metadata": {},
   "outputs": [],
   "source": [
    "FILTERING_BY_FRANCE = [\n",
    "    \"France\", \"fr\", \"Francia\", \"French\", \"Frankreich\", \"Nouvelle-Calédonie\", \"Martinique\", \"Guadeloupe\", \"Polynésie Française\", \"Mayotte\"\n",
    "]"
   ]
  },
  {
   "cell_type": "markdown",
   "id": "85eac5c9-ddd4-4a9a-bf7b-fbec31e924b9",
   "metadata": {},
   "source": [
    "<div class=\"alert alert-block alert-success\">\n",
    "At this point, we have reduced the amount of data in the dataset filtering by country France\n",
    "</div>"
   ]
  },
  {
   "cell_type": "code",
   "execution_count": 63,
   "id": "7e700509-42c8-4c78-8b0e-76d0f2c31192",
   "metadata": {},
   "outputs": [],
   "source": [
    "data = pd.DataFrame(data[data[\"countries\"].str.contains(\"|\".join(FILTERING_BY_FRANCE), case = False, na=False).any(level=0)])"
   ]
  },
  {
   "cell_type": "code",
   "execution_count": 65,
   "id": "d8c980f9-4abd-4b2e-8d58-bdea0e9530f7",
   "metadata": {},
   "outputs": [
    {
     "name": "stdout",
     "output_type": "stream",
     "text": [
      "<class 'pandas.core.frame.DataFrame'>\n",
      "Int64Index: 798009 entries, 0 to 1760096\n",
      "Columns: 179 entries, code to carnitine_100g\n",
      "dtypes: category(54), datetime64[ns](2), float32(118), object(5)\n",
      "memory usage: 1.8 GB\n"
     ]
    }
   ],
   "source": [
    "data.info(memory_usage=\"deep\")"
   ]
  },
  {
   "cell_type": "code",
   "execution_count": 64,
   "id": "30588fe4-3a62-4608-a0d2-4d1d5290d1a4",
   "metadata": {},
   "outputs": [
    {
     "name": "stdout",
     "output_type": "stream",
     "text": [
      "\n",
      "Initial Analysis of data dataset\n",
      "--------------------------------------------------------------------------\n",
      "- Dataset shape:                  798009 rows and 179 columns\n",
      "- Total of NaN values:            114437088\n",
      "- Percentage of NaN:              80.11 %\n",
      "- Total of full duplicates rows:  0\n",
      "- Total of empty rows:            0\n",
      "- Total of empty columns:         4\n",
      "  + The empty column are:          ['-lignoceric-acid_100g', '-dihomo-gamma-linolenic-acid_100g', '-elaidic-acid_100g', 'water-hardness_100g']\n",
      "\n",
      "- Type object and records by columns         ( memory usage: 710.3+ MB )\n",
      "--------------------------------------------------------------------------\n",
      "                                           Name            Type  Records\n",
      "0                                          code          object   798009\n",
      "54                                       states        category   798009\n",
      "3                              created_datetime  datetime64[ns]   798009\n",
      "4                        last_modified_datetime  datetime64[ns]   798009\n",
      "55                                  states_tags        category   798009\n",
      "56                                    states_en        category   798009\n",
      "1                                           url          object   798009\n",
      "33                                 countries_en        category   798009\n",
      "32                               countries_tags        category   798009\n",
      "31                                    countries        category   798009\n",
      "2                                       creator        category   798008\n",
      "53                                pnns_groups_2        category   797916\n",
      "52                                pnns_groups_1        category   786824\n",
      "5                                  product_name          object   775020\n",
      "62                                    image_url          object   720228\n",
      "63                              image_small_url          object   720228\n",
      "70                                  energy_100g         float32   623090\n",
      "73                           saturated-fat_100g         float32   620073\n",
      "109                                 sugars_100g         float32   619338\n",
      "121                               proteins_100g         float32   618992\n",
      "72                                     fat_100g         float32   617113\n",
      "108                          carbohydrates_100g         float32   617058\n",
      "125                                   salt_100g         float32   603563\n",
      "126                                 sodium_100g         float32   603562\n",
      "69                             energy-kcal_100g         float32   595516\n",
      "65                  image_ingredients_small_url        category   495539\n",
      "64                        image_ingredients_url        category   495539\n",
      "12                                       brands        category   423294\n",
      "13                                  brands_tags        category   423258\n",
      "67                    image_nutrition_small_url        category   393568\n",
      "66                          image_nutrition_url        category   393568\n",
      "61                             main_category_en        category   359436\n",
      "14                                   categories        category   359436\n",
      "15                              categories_tags        category   359436\n",
      "16                                categories_en        category   359436\n",
      "60                                main_category        category   359436\n",
      "170                     nutrition-score-fr_100g         float32   278984\n",
      "50                             nutriscore_grade        category   278981\n",
      "49                             nutriscore_score         float32   278981\n",
      "8                                      quantity        category   261144\n",
      "59                            ecoscore_grade_fr        category   255512\n",
      "58                            ecoscore_score_fr         float32   255512\n",
      "23                                  labels_tags        category   247663\n",
      "24                                    labels_en        category   247663\n",
      "22                                       labels        category   247638\n",
      "45                  ingredients_from_palm_oil_n         float32   243846\n",
      "47      ingredients_that_may_be_from_palm_oil_n         float32   243846\n",
      "41                                  additives_n         float32   243846\n",
      "34                             ingredients_text        category   243844\n",
      "51                                   nova_group         float32   204621\n",
      "9                                     packaging        category   175751\n",
      "10                               packaging_tags        category   175742\n",
      "118                                  fiber_100g         float32   139641\n",
      "30                                       stores        category   139622\n",
      "44                                 additives_en        category   129144\n",
      "43                               additives_tags        category   129144\n",
      "29                              purchase_places        category    95703\n",
      "35                                    allergens        category    87325\n",
      "25                                    emb_codes        category    87196\n",
      "26                               emb_codes_tags        category    87176\n",
      "39                                 serving_size        category    84884\n",
      "40                             serving_quantity         float32    79357\n",
      "38                                    traces_en        category    77490\n",
      "37                                  traces_tags        category    77490\n",
      "7                                  generic_name        category    75815\n",
      "28                                  cities_tags        category    73435\n",
      "68                               energy-kj_100g         float32    71905\n",
      "20                         manufacturing_places        category    70228\n",
      "21                    manufacturing_places_tags        category    70189\n",
      "27                     first_packaging_code_geo        category    68229\n",
      "36                                       traces        category    61184\n",
      "17                                      origins        category    48757\n",
      "18                                 origins_tags        category    48692\n",
      "19                                   origins_en        category    48692\n",
      "48   ingredients_that_may_be_from_palm_oil_tags        category    22038\n",
      "46               ingredients_from_palm_oil_tags        category    11762\n",
      "169     carbon-footprint-from-meat-or-fish_100g         float32    11632\n",
      "164        fruits-vegetables-nuts-estimate_100g         float32    10488\n",
      "127                                alcohol_100g         float32     9209\n",
      "147                                calcium_100g         float32     8408\n",
      "162                 fruits-vegetables-nuts_100g         float32     6300\n",
      "149                                   iron_100g         float32     5291\n",
      "133                              vitamin-c_100g         float32     4833\n",
      "166                                  cocoa_100g         float32     4409\n",
      "57                                  brand_owner        category     4058\n",
      "107                            cholesterol_100g         float32     3677\n",
      "106                              trans-fat_100g         float32     3647\n",
      "128                              vitamin-a_100g         float32     3396\n",
      "6                      abbreviated_product_name        category     3337\n",
      "89                     polyunsaturated-fat_100g         float32     3157\n",
      "88                     monounsaturated-fat_100g         float32     3134\n",
      "145                              potassium_100g         float32     2683\n",
      "150                              magnesium_100g         float32     2472\n",
      "11                               packaging_text        category     2275\n",
      "134                             vitamin-b1_100g         float32     2188\n",
      "137                             vitamin-b6_100g         float32     1978\n",
      "135                             vitamin-b2_100g         float32     1798\n",
      "136                             vitamin-pp_100g         float32     1786\n",
      "131                              vitamin-e_100g         float32     1785\n",
      "148                             phosphorus_100g         float32     1618\n",
      "130                              vitamin-d_100g         float32     1611\n",
      "140                            vitamin-b12_100g         float32     1597\n",
      "138                             vitamin-b9_100g         float32     1462\n",
      "90                             omega-3-fat_100g         float32     1348\n",
      "151                                   zinc_100g         float32      930\n",
      "142                       pantothenic-acid_100g         float32      928\n",
      "117                                polyols_100g         float32      765\n",
      "146                               chloride_100g         float32      424\n",
      "141                                 biotin_100g         float32      403\n",
      "153                              manganese_100g         float32      392\n",
      "152                                 copper_100g         float32      372\n",
      "158                                 iodine_100g         float32      343\n",
      "91                   -alpha-linolenic-acid_100g         float32      340\n",
      "168                       carbon-footprint_100g         float32      319\n",
      "163           fruits-vegetables-nuts-dried_100g         float32      307\n",
      "165            collagen-meat-protein-ratio_100g         float32      296\n",
      "94                             omega-6-fat_100g         float32      292\n",
      "116                                 starch_100g         float32      290\n",
      "155                               selenium_100g         float32      281\n",
      "139                                folates_100g         float32      238\n",
      "144                            bicarbonate_100g         float32      231\n",
      "113                               -lactose_100g         float32      228\n",
      "95                          -linoleic-acid_100g         float32      203\n",
      "154                               fluoride_100g         float32      197\n",
      "119                         -soluble-fiber_100g         float32      188\n",
      "120                       -insoluble-fiber_100g         float32      181\n",
      "132                              vitamin-k_100g         float32      178\n",
      "71                         energy-from-fat_100g         float32      131\n",
      "161                                     ph_100g         float32      130\n",
      "159                               caffeine_100g         float32      111\n",
      "93                   -docosahexaenoic-acid_100g         float32       99\n",
      "143                                 silica_100g         float32       77\n",
      "92                  -eicosapentaenoic-acid_100g         float32       63\n",
      "160                                taurine_100g         float32       57\n",
      "115                         -maltodextrins_100g         float32       57\n",
      "112                              -fructose_100g         float32       53\n",
      "99                             omega-9-fat_100g         float32       49\n",
      "129                          beta-carotene_100g         float32       49\n",
      "156                               chromium_100g         float32       47\n",
      "157                             molybdenum_100g         float32       45\n",
      "122                                 casein_100g         float32       39\n",
      "174                                choline_100g         float32       31\n",
      "96                       -arachidonic-acid_100g         float32       31\n",
      "123                         serum-proteins_100g         float32       31\n",
      "175                          phylloquinone_100g         float32       29\n",
      "82                         -arachidic-acid_100g         float32       29\n",
      "111                               -glucose_100g         float32       29\n",
      "110                               -sucrose_100g         float32       24\n",
      "177                               inositol_100g         float32       24\n",
      "100                            -oleic-acid_100g         float32       21\n",
      "176                            beta-glucan_100g         float32       18\n",
      "124                            nucleotides_100g         float32       15\n",
      "178                              carnitine_100g         float32       14\n",
      "114                               -maltose_100g         float32       13\n",
      "83                           -behenic-acid_100g         float32       12\n",
      "78                            -lauric-acid_100g         float32        7\n",
      "171                     nutrition-score-uk_100g         float32        5\n",
      "87                          -melissic-acid_100g         float32        4\n",
      "97                   -gamma-linolenic-acid_100g         float32        4\n",
      "172                         glycemic-index_100g         float32        4\n",
      "80                          -palmitic-acid_100g         float32        4\n",
      "167                             chlorophyl_100g         float32        3\n",
      "102                          -gondoic-acid_100g         float32        3\n",
      "74                           -butyric-acid_100g         float32        3\n",
      "86                          -montanic-acid_100g         float32        2\n",
      "42                                    additives        category        2\n",
      "104                           -erucic-acid_100g         float32        2\n",
      "77                            -capric-acid_100g         float32        2\n",
      "81                           -stearic-acid_100g         float32        2\n",
      "75                           -caproic-acid_100g         float32        2\n",
      "105                         -nervonic-acid_100g         float32        2\n",
      "79                          -myristic-acid_100g         float32        1\n",
      "85                           -cerotic-acid_100g         float32        1\n",
      "103                             -mead-acid_100g         float32        1\n",
      "76                          -caprylic-acid_100g         float32        1\n",
      "84                        -lignoceric-acid_100g         float32        0\n",
      "101                          -elaidic-acid_100g         float32        0\n",
      "173                         water-hardness_100g         float32        0\n",
      "98            -dihomo-gamma-linolenic-acid_100g         float32        0\n"
     ]
    }
   ],
   "source": [
    "df_initial_analysis(data, \"data\")"
   ]
  },
  {
   "cell_type": "code",
   "execution_count": 66,
   "id": "54ff3757-5d61-413a-9828-280b72ac3418",
   "metadata": {},
   "outputs": [],
   "source": [
    "data = data.dropna(axis=\"columns\", how=\"all\").dropna(axis=\"rows\", how=\"all\")"
   ]
  },
  {
   "cell_type": "code",
   "execution_count": null,
   "id": "185acd29-b514-4e68-8a46-57cf684517d4",
   "metadata": {},
   "outputs": [],
   "source": []
  },
  {
   "cell_type": "markdown",
   "id": "69f7c1f0-fc95-4074-8df3-d983c2515465",
   "metadata": {},
   "source": [
    "<div class=\"alert alert-block alert-danger\">\n",
    "<b>Position Flag</b>\n",
    "</div>"
   ]
  },
  {
   "cell_type": "code",
   "execution_count": null,
   "id": "331cba7c-e4c6-4bad-b432-de134c28b299",
   "metadata": {},
   "outputs": [],
   "source": []
  },
  {
   "cell_type": "code",
   "execution_count": null,
   "id": "b6da4097-cf32-4406-92f7-cd07ce27aa9e",
   "metadata": {},
   "outputs": [],
   "source": []
  },
  {
   "cell_type": "code",
   "execution_count": null,
   "id": "7460be7b-39dd-4657-9d38-553a3b62ed84",
   "metadata": {},
   "outputs": [],
   "source": []
  },
  {
   "cell_type": "code",
   "execution_count": null,
   "id": "9d9fe579-b9bf-4c27-951e-1940664ca32c",
   "metadata": {},
   "outputs": [],
   "source": []
  },
  {
   "cell_type": "code",
   "execution_count": null,
   "id": "a345b840-c4d0-4b04-859f-a7d5cc392459",
   "metadata": {},
   "outputs": [],
   "source": []
  },
  {
   "cell_type": "code",
   "execution_count": null,
   "id": "f622ca35-7965-4309-82a5-a0e466ef15a8",
   "metadata": {},
   "outputs": [],
   "source": []
  },
  {
   "cell_type": "code",
   "execution_count": null,
   "id": "226bca25-b784-43d0-88a2-e7573225864b",
   "metadata": {},
   "outputs": [],
   "source": []
  },
  {
   "cell_type": "code",
   "execution_count": null,
   "id": "9cb44968-d7c7-44ae-a030-a52a576ca758",
   "metadata": {},
   "outputs": [],
   "source": []
  },
  {
   "cell_type": "code",
   "execution_count": null,
   "id": "face7dd1-1631-46d3-849d-5ea4fe222347",
   "metadata": {},
   "outputs": [],
   "source": []
  },
  {
   "cell_type": "code",
   "execution_count": null,
   "id": "6cdc8c35-acc9-479b-b6be-a4668188596b",
   "metadata": {},
   "outputs": [],
   "source": []
  },
  {
   "cell_type": "code",
   "execution_count": null,
   "id": "9f552b1e-f939-4352-af98-e04dcacdbb1f",
   "metadata": {},
   "outputs": [],
   "source": []
  },
  {
   "cell_type": "code",
   "execution_count": null,
   "id": "9e21e890-cc58-4376-afd2-a99287257f72",
   "metadata": {},
   "outputs": [],
   "source": []
  },
  {
   "cell_type": "code",
   "execution_count": null,
   "id": "85dc9863-cff6-49a4-b6cf-be3e169b26e6",
   "metadata": {},
   "outputs": [],
   "source": []
  },
  {
   "cell_type": "code",
   "execution_count": null,
   "id": "750c8896-ef92-4957-86f4-3790963714b7",
   "metadata": {},
   "outputs": [],
   "source": []
  },
  {
   "cell_type": "code",
   "execution_count": 17,
   "id": "9dad6744-c256-4153-a988-e08395127f01",
   "metadata": {},
   "outputs": [],
   "source": [
    "#data.describe()"
   ]
  },
  {
   "cell_type": "code",
   "execution_count": 18,
   "id": "601a785f-a134-4f6f-a010-ac3f41298667",
   "metadata": {},
   "outputs": [],
   "source": [
    "# nb_not_null = pd.DataFrame((~data.isna()).sum(axis =0), columns=['nb'])\n",
    "# nb_not_null.sort_values(by=['nb'], axis=0, ascending=True, inplace=True)\n",
    "# nb_not_null.T.head(150)"
   ]
  },
  {
   "cell_type": "code",
   "execution_count": 19,
   "id": "90494722-f9b6-4a23-bf5e-43cb83a4f409",
   "metadata": {},
   "outputs": [],
   "source": [
    "# del [data]\n",
    "# gc.collect()\n",
    "# data = pd.DataFrame()\n",
    "# del [data]"
   ]
  },
  {
   "cell_type": "markdown",
   "id": "da35619c-0568-45ac-be50-dbec389672a2",
   "metadata": {},
   "source": [
    "<div class=\"alert alert-block alert-danger\">\n",
    "<b>I am here</b>\n",
    "</div>"
   ]
  },
  {
   "cell_type": "markdown",
   "id": "7d2197ba-e343-4c09-bcb4-6dd7afff4106",
   "metadata": {},
   "source": [
    "<div class=\"alert alert-block alert-info\">\n",
    "<b>Nutri-Score data:</b>\n",
    "    <ul>\n",
    "      <li>Coffee</li>\n",
    "      <li>Tea</li>\n",
    "      <li>Milk</li>\n",
    "    </ul>    \n",
    "</div>"
   ]
  },
  {
   "cell_type": "markdown",
   "id": "9659ffd0-299c-459b-8703-fd6f44d85c2e",
   "metadata": {},
   "source": [
    "<div class=\"alert alert-block alert-warning\">\n",
    "<b>Example:</b> read data in chunks of 1 million rows at a time\n",
    "</div>"
   ]
  },
  {
   "cell_type": "markdown",
   "id": "b08c7e8a-31f7-4511-910c-351b1c7cce33",
   "metadata": {},
   "source": [
    "<div class=\"alert alert-block alert-success\">\n",
    "<b>Up to you:</b> Use green boxes sparingly, and only for some specific \n",
    "purpose that the other boxes can't cover. For example, if you have a lot \n",
    "of related content to link to, maybe you decide to use green boxes for \n",
    "related links from each section of a notebook.\n",
    "</div>"
   ]
  }
 ],
 "metadata": {
  "kernelspec": {
   "display_name": "Python 3",
   "language": "python",
   "name": "python3"
  },
  "language_info": {
   "codemirror_mode": {
    "name": "ipython",
    "version": 3
   },
   "file_extension": ".py",
   "mimetype": "text/x-python",
   "name": "python",
   "nbconvert_exporter": "python",
   "pygments_lexer": "ipython3",
   "version": "3.8.5"
  }
 },
 "nbformat": 4,
 "nbformat_minor": 5
}
