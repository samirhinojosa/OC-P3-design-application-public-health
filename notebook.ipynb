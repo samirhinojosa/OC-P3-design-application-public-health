{
 "cells": [
  {
   "cell_type": "markdown",
   "id": "fe487362-6783-4cb0-81c0-c21081e8bed2",
   "metadata": {},
   "source": [
    "<div style=\"display: flex; background-color: RGB(87, 100, 144);\">\n",
    "    <h1 style=\"margin: auto; padding: 30px 30px 10px 30px;\">Design an application for public health - Project 3</h1>\n",
    "</div>\n",
    "<div style=\"display: flex; background-color: RGB(87, 100, 144); margin: auto; padding: 10px 30px 30px 30px;\">\n",
    "    <span style=\"width: 100%; text-align: center; font-size:24px;\">Data Scientist course</span>\n",
    "</div>"
   ]
  },
  {
   "cell_type": "markdown",
   "id": "45dfceb4-7be1-4eb4-8fd0-32855b60842d",
   "metadata": {
    "tags": []
   },
   "source": [
    "<div style=\"background-color: RGB(119, 150, 203);\" >\n",
    "    <h2 style=\"margin: auto; padding: 20px; color:#fff; \">1. Libraries and functions</h2>\n",
    "</div>"
   ]
  },
  {
   "cell_type": "markdown",
   "id": "563f4a03-d4d6-4781-b93f-3b989794cb25",
   "metadata": {},
   "source": [
    "<div style=\"border: 1px solid RGB(119, 150, 203);\" >\n",
    "    <h3 style=\"margin: auto; padding: 20px; color: RGB(119, 150, 203); \">1.1. Importing libraries</h3>\n",
    "</div>"
   ]
  },
  {
   "cell_type": "code",
   "execution_count": 1,
   "id": "0aa2b908-ffd2-42a1-9c55-9e8720f6f66a",
   "metadata": {},
   "outputs": [],
   "source": [
    "import io\n",
    "from math import prod\n",
    "import pandas as pd\n",
    "import time as time"
   ]
  },
  {
   "cell_type": "markdown",
   "id": "189e8f26-6bb7-4984-bffd-4910855f6283",
   "metadata": {},
   "source": [
    "<div style=\"border: 1px solid RGB(119, 150, 203);\" >\n",
    "    <h3 style=\"margin: auto; padding: 20px; color: RGB(119, 150, 203); \">1.2. Functions declaration</h3>\n",
    "</div>"
   ]
  },
  {
   "cell_type": "code",
   "execution_count": 2,
   "id": "9e829866-3d62-4ab4-a2c9-101f956082ae",
   "metadata": {
    "tags": []
   },
   "outputs": [],
   "source": [
    "def df_initial_analysis(df, name_df):\n",
    "    \"\"\"\n",
    "    Initial analysis on the DataFrame.\n",
    "\n",
    "    Args:\n",
    "        df (pandas.DataFrame): DataFrame to analyze.\n",
    "        name_df (str): DataFrame name.\n",
    "\n",
    "    Returns:\n",
    "        None. \n",
    "        Print the initial analysis on the DataFrame. \n",
    "    \"\"\"\n",
    "    \n",
    "    # Calculating the memory usage based on dataframe.info()\n",
    "    buf = io.StringIO()\n",
    "    df.info(buf=buf)\n",
    "    memory_usage = buf.getvalue().split('\\n')[-2]\n",
    "  \n",
    "    if df.empty:\n",
    "        print(\"The\", name_df, \"dataset is empty. Please verify the file.\")\n",
    "    else:\n",
    "        empty_cols = [col for col in df.columns if df[col].isna().all()] # identifying empty columns\n",
    "        df_rows_duplicates = df[df.duplicated()] #identifying full duplicates rows\n",
    "        \n",
    "        # Creating a dataset based on Type object and records by columns\n",
    "        type_cols = df.dtypes.apply(lambda x: x.name).to_dict() \n",
    "        df_resume = pd.DataFrame(list(type_cols.items()), columns = [\"Name\", \"Type\"])\n",
    "        df_resume[\"Records\"] = list(df.count())\n",
    "        \n",
    "        print(\"\\nInitial Analysis of\", name_df, \"dataset\")\n",
    "        print(\"--------------------------------------------------------------------------\")\n",
    "        print(\"- Dataset shape:                 \", df.shape[0], \"rows and\", df.shape[1], \"columns\")\n",
    "        print(\"- Total of NaN values:           \", df.isna().sum().sum())\n",
    "        print(\"- Percentage of NaN:             \", round((df.isna().sum().sum() / prod(df.shape)) * 100, 2), \"%\")\n",
    "        print(\"- Total of full duplicates rows: \", df_rows_duplicates.shape[0])\n",
    "        print(\"- Total of empty rows:           \", df.shape[0] - df.dropna(axis=\"rows\", how=\"all\").shape[0]) if df.dropna(axis=\"rows\", how=\"all\").shape[0] < df.shape[0] else \\\n",
    "                    print(\"- Total of empty rows:            0\")\n",
    "        print(\"- Total of empty columns:        \", len(empty_cols))\n",
    "        print(\"  + The empty column is:         \", empty_cols) if len(empty_cols) == 1 else \\\n",
    "                    print(\"  + The empty column are:         \", empty_cols) if len(empty_cols) >= 1 else None\n",
    "        \n",
    "        print(\"\\n- Type object and records by columns         (\",memory_usage,\")\")\n",
    "        print(\"--------------------------------------------------------------------------\")\n",
    "        print(df_resume.sort_values(\"Records\", ascending=False))"
   ]
  },
  {
   "cell_type": "markdown",
   "id": "43a68e1b-73d6-4f77-86f2-2132b8e3cc36",
   "metadata": {},
   "source": [
    "<div style=\"background-color: RGB(119, 150, 203);\" >\n",
    "    <h2 style=\"margin: auto; padding: 20px; color:#fff; \">2. Importing files</h2>\n",
    "</div>"
   ]
  },
  {
   "cell_type": "markdown",
   "id": "d115162b-5c29-446e-aa39-158f78760b22",
   "metadata": {},
   "source": [
    "<div style=\"border: 1px solid RGB(119, 150, 203);\" >\n",
    "    <h3 style=\"margin: auto; padding: 20px; color: RGB(119, 150, 203); \">2.1. Importing and preparing files</h3>\n",
    "</div>"
   ]
  },
  {
   "cell_type": "code",
   "execution_count": 3,
   "id": "669fe7c1-4d86-4af4-a76e-7de0ad0c70dd",
   "metadata": {},
   "outputs": [],
   "source": [
    "data = pd.read_csv(\"datasets/en.openfoodfacts.org.products.csv\", sep=\"\\t\", encoding=\"UTF-8\", dtype=\"unicode\")"
   ]
  },
  {
   "cell_type": "code",
   "execution_count": 4,
   "id": "a6e7ea88-e4b8-4b91-ab6e-95fd6077eca9",
   "metadata": {},
   "outputs": [
    {
     "data": {
      "text/html": [
       "<div>\n",
       "<style scoped>\n",
       "    .dataframe tbody tr th:only-of-type {\n",
       "        vertical-align: middle;\n",
       "    }\n",
       "\n",
       "    .dataframe tbody tr th {\n",
       "        vertical-align: top;\n",
       "    }\n",
       "\n",
       "    .dataframe thead th {\n",
       "        text-align: right;\n",
       "    }\n",
       "</style>\n",
       "<table border=\"1\" class=\"dataframe\">\n",
       "  <thead>\n",
       "    <tr style=\"text-align: right;\">\n",
       "      <th></th>\n",
       "      <th>code</th>\n",
       "      <th>url</th>\n",
       "      <th>creator</th>\n",
       "      <th>created_t</th>\n",
       "      <th>created_datetime</th>\n",
       "      <th>last_modified_t</th>\n",
       "      <th>last_modified_datetime</th>\n",
       "      <th>product_name</th>\n",
       "      <th>abbreviated_product_name</th>\n",
       "      <th>generic_name</th>\n",
       "      <th>...</th>\n",
       "      <th>carbon-footprint-from-meat-or-fish_100g</th>\n",
       "      <th>nutrition-score-fr_100g</th>\n",
       "      <th>nutrition-score-uk_100g</th>\n",
       "      <th>glycemic-index_100g</th>\n",
       "      <th>water-hardness_100g</th>\n",
       "      <th>choline_100g</th>\n",
       "      <th>phylloquinone_100g</th>\n",
       "      <th>beta-glucan_100g</th>\n",
       "      <th>inositol_100g</th>\n",
       "      <th>carnitine_100g</th>\n",
       "    </tr>\n",
       "  </thead>\n",
       "  <tbody>\n",
       "    <tr>\n",
       "      <th>0</th>\n",
       "      <td>0000000000017</td>\n",
       "      <td>http://world-en.openfoodfacts.org/product/0000...</td>\n",
       "      <td>kiliweb</td>\n",
       "      <td>1529059080</td>\n",
       "      <td>2018-06-15T10:38:00Z</td>\n",
       "      <td>1561463718</td>\n",
       "      <td>2019-06-25T11:55:18Z</td>\n",
       "      <td>Vitória crackers</td>\n",
       "      <td>NaN</td>\n",
       "      <td>NaN</td>\n",
       "      <td>...</td>\n",
       "      <td>NaN</td>\n",
       "      <td>NaN</td>\n",
       "      <td>NaN</td>\n",
       "      <td>NaN</td>\n",
       "      <td>NaN</td>\n",
       "      <td>NaN</td>\n",
       "      <td>NaN</td>\n",
       "      <td>NaN</td>\n",
       "      <td>NaN</td>\n",
       "      <td>NaN</td>\n",
       "    </tr>\n",
       "    <tr>\n",
       "      <th>1</th>\n",
       "      <td>0000000000031</td>\n",
       "      <td>http://world-en.openfoodfacts.org/product/0000...</td>\n",
       "      <td>isagoofy</td>\n",
       "      <td>1539464774</td>\n",
       "      <td>2018-10-13T21:06:14Z</td>\n",
       "      <td>1539464817</td>\n",
       "      <td>2018-10-13T21:06:57Z</td>\n",
       "      <td>Cacao</td>\n",
       "      <td>NaN</td>\n",
       "      <td>NaN</td>\n",
       "      <td>...</td>\n",
       "      <td>NaN</td>\n",
       "      <td>NaN</td>\n",
       "      <td>NaN</td>\n",
       "      <td>NaN</td>\n",
       "      <td>NaN</td>\n",
       "      <td>NaN</td>\n",
       "      <td>NaN</td>\n",
       "      <td>NaN</td>\n",
       "      <td>NaN</td>\n",
       "      <td>NaN</td>\n",
       "    </tr>\n",
       "    <tr>\n",
       "      <th>2</th>\n",
       "      <td>000000000003327986</td>\n",
       "      <td>http://world-en.openfoodfacts.org/product/0000...</td>\n",
       "      <td>kiliweb</td>\n",
       "      <td>1574175736</td>\n",
       "      <td>2019-11-19T15:02:16Z</td>\n",
       "      <td>1574175737</td>\n",
       "      <td>2019-11-19T15:02:17Z</td>\n",
       "      <td>Filetes de pollo empanado</td>\n",
       "      <td>NaN</td>\n",
       "      <td>NaN</td>\n",
       "      <td>...</td>\n",
       "      <td>NaN</td>\n",
       "      <td>NaN</td>\n",
       "      <td>NaN</td>\n",
       "      <td>NaN</td>\n",
       "      <td>NaN</td>\n",
       "      <td>NaN</td>\n",
       "      <td>NaN</td>\n",
       "      <td>NaN</td>\n",
       "      <td>NaN</td>\n",
       "      <td>NaN</td>\n",
       "    </tr>\n",
       "    <tr>\n",
       "      <th>3</th>\n",
       "      <td>000000000004622327</td>\n",
       "      <td>http://world-en.openfoodfacts.org/product/0000...</td>\n",
       "      <td>kiliweb</td>\n",
       "      <td>1619501895</td>\n",
       "      <td>2021-04-27T05:38:15Z</td>\n",
       "      <td>1619501897</td>\n",
       "      <td>2021-04-27T05:38:17Z</td>\n",
       "      <td>Hamburguesas de ternera 100%</td>\n",
       "      <td>NaN</td>\n",
       "      <td>NaN</td>\n",
       "      <td>...</td>\n",
       "      <td>NaN</td>\n",
       "      <td>NaN</td>\n",
       "      <td>NaN</td>\n",
       "      <td>NaN</td>\n",
       "      <td>NaN</td>\n",
       "      <td>NaN</td>\n",
       "      <td>NaN</td>\n",
       "      <td>NaN</td>\n",
       "      <td>NaN</td>\n",
       "      <td>NaN</td>\n",
       "    </tr>\n",
       "    <tr>\n",
       "      <th>4</th>\n",
       "      <td>0000000000100</td>\n",
       "      <td>http://world-en.openfoodfacts.org/product/0000...</td>\n",
       "      <td>del51</td>\n",
       "      <td>1444572561</td>\n",
       "      <td>2015-10-11T14:09:21Z</td>\n",
       "      <td>1444659212</td>\n",
       "      <td>2015-10-12T14:13:32Z</td>\n",
       "      <td>moutarde au moût de raisin</td>\n",
       "      <td>NaN</td>\n",
       "      <td>NaN</td>\n",
       "      <td>...</td>\n",
       "      <td>NaN</td>\n",
       "      <td>18</td>\n",
       "      <td>NaN</td>\n",
       "      <td>NaN</td>\n",
       "      <td>NaN</td>\n",
       "      <td>NaN</td>\n",
       "      <td>NaN</td>\n",
       "      <td>NaN</td>\n",
       "      <td>NaN</td>\n",
       "      <td>NaN</td>\n",
       "    </tr>\n",
       "  </tbody>\n",
       "</table>\n",
       "<p>5 rows × 186 columns</p>\n",
       "</div>"
      ],
      "text/plain": [
       "                 code                                                url  \\\n",
       "0       0000000000017  http://world-en.openfoodfacts.org/product/0000...   \n",
       "1       0000000000031  http://world-en.openfoodfacts.org/product/0000...   \n",
       "2  000000000003327986  http://world-en.openfoodfacts.org/product/0000...   \n",
       "3  000000000004622327  http://world-en.openfoodfacts.org/product/0000...   \n",
       "4       0000000000100  http://world-en.openfoodfacts.org/product/0000...   \n",
       "\n",
       "    creator   created_t      created_datetime last_modified_t  \\\n",
       "0   kiliweb  1529059080  2018-06-15T10:38:00Z      1561463718   \n",
       "1  isagoofy  1539464774  2018-10-13T21:06:14Z      1539464817   \n",
       "2   kiliweb  1574175736  2019-11-19T15:02:16Z      1574175737   \n",
       "3   kiliweb  1619501895  2021-04-27T05:38:15Z      1619501897   \n",
       "4     del51  1444572561  2015-10-11T14:09:21Z      1444659212   \n",
       "\n",
       "  last_modified_datetime                  product_name  \\\n",
       "0   2019-06-25T11:55:18Z              Vitória crackers   \n",
       "1   2018-10-13T21:06:57Z                         Cacao   \n",
       "2   2019-11-19T15:02:17Z     Filetes de pollo empanado   \n",
       "3   2021-04-27T05:38:17Z  Hamburguesas de ternera 100%   \n",
       "4   2015-10-12T14:13:32Z   moutarde au moût de raisin    \n",
       "\n",
       "  abbreviated_product_name generic_name  ...  \\\n",
       "0                      NaN          NaN  ...   \n",
       "1                      NaN          NaN  ...   \n",
       "2                      NaN          NaN  ...   \n",
       "3                      NaN          NaN  ...   \n",
       "4                      NaN          NaN  ...   \n",
       "\n",
       "  carbon-footprint-from-meat-or-fish_100g nutrition-score-fr_100g  \\\n",
       "0                                     NaN                     NaN   \n",
       "1                                     NaN                     NaN   \n",
       "2                                     NaN                     NaN   \n",
       "3                                     NaN                     NaN   \n",
       "4                                     NaN                      18   \n",
       "\n",
       "  nutrition-score-uk_100g glycemic-index_100g water-hardness_100g  \\\n",
       "0                     NaN                 NaN                 NaN   \n",
       "1                     NaN                 NaN                 NaN   \n",
       "2                     NaN                 NaN                 NaN   \n",
       "3                     NaN                 NaN                 NaN   \n",
       "4                     NaN                 NaN                 NaN   \n",
       "\n",
       "  choline_100g phylloquinone_100g beta-glucan_100g inositol_100g  \\\n",
       "0          NaN                NaN              NaN           NaN   \n",
       "1          NaN                NaN              NaN           NaN   \n",
       "2          NaN                NaN              NaN           NaN   \n",
       "3          NaN                NaN              NaN           NaN   \n",
       "4          NaN                NaN              NaN           NaN   \n",
       "\n",
       "  carnitine_100g  \n",
       "0            NaN  \n",
       "1            NaN  \n",
       "2            NaN  \n",
       "3            NaN  \n",
       "4            NaN  \n",
       "\n",
       "[5 rows x 186 columns]"
      ]
     },
     "execution_count": 4,
     "metadata": {},
     "output_type": "execute_result"
    }
   ],
   "source": [
    "data.head(5)"
   ]
  },
  {
   "cell_type": "code",
   "execution_count": 13,
   "id": "5034727f-7d53-44ff-947c-3053f1edd4a5",
   "metadata": {},
   "outputs": [
    {
     "ename": "NameError",
     "evalue": "name 'data' is not defined",
     "output_type": "error",
     "traceback": [
      "\u001b[1;31m---------------------------------------------------------------------------\u001b[0m",
      "\u001b[1;31mNameError\u001b[0m                                 Traceback (most recent call last)",
      "\u001b[1;32m<ipython-input-13-683862726533>\u001b[0m in \u001b[0;36m<module>\u001b[1;34m\u001b[0m\n\u001b[1;32m----> 1\u001b[1;33m \u001b[1;32mdel\u001b[0m \u001b[0mdata\u001b[0m\u001b[1;33m\u001b[0m\u001b[1;33m\u001b[0m\u001b[0m\n\u001b[0m",
      "\u001b[1;31mNameError\u001b[0m: name 'data' is not defined"
     ]
    }
   ],
   "source": [
    "del data"
   ]
  },
  {
   "cell_type": "code",
   "execution_count": null,
   "id": "38fc25b9-3bba-4468-b57b-92fb18d8aea2",
   "metadata": {},
   "outputs": [],
   "source": []
  },
  {
   "cell_type": "code",
   "execution_count": null,
   "id": "5f26273e-a358-4726-9fcd-9324f55c511b",
   "metadata": {},
   "outputs": [],
   "source": []
  },
  {
   "cell_type": "code",
   "execution_count": null,
   "id": "5824fd01-e5fa-4dbc-8539-963e4d2abb8f",
   "metadata": {},
   "outputs": [],
   "source": []
  },
  {
   "cell_type": "code",
   "execution_count": 6,
   "id": "0ec1b31b-f2e5-412c-ac9b-6121f6323569",
   "metadata": {},
   "outputs": [],
   "source": [
    "# start = time.time()\n",
    "# data = pd.read_csv(\"datasets/en.openfoodfacts.org.products.csv\", sep=\"\\t\", encoding=\"UTF-8\")\n",
    "# end = time.time()\n",
    "# print(\"Read csv without chunks: \",(end-start),\"sec\")"
   ]
  },
  {
   "cell_type": "code",
   "execution_count": null,
   "id": "961d9828-59f4-43c1-8d64-d840e5e18ee7",
   "metadata": {},
   "outputs": [],
   "source": []
  },
  {
   "cell_type": "code",
   "execution_count": null,
   "id": "ba42a0f3-fa5b-405b-b282-3a73b8904c99",
   "metadata": {},
   "outputs": [],
   "source": []
  },
  {
   "cell_type": "code",
   "execution_count": null,
   "id": "57bbe425-8429-4435-890b-a1db1f5ec98a",
   "metadata": {},
   "outputs": [],
   "source": []
  },
  {
   "cell_type": "code",
   "execution_count": null,
   "id": "63b4f409-a02e-40a4-8dc9-c5ba27838b80",
   "metadata": {},
   "outputs": [],
   "source": []
  },
  {
   "cell_type": "code",
   "execution_count": null,
   "id": "30d9f0c7-ffa4-4057-9cde-551e138b571b",
   "metadata": {},
   "outputs": [],
   "source": []
  },
  {
   "cell_type": "code",
   "execution_count": null,
   "id": "3cc4ef37-f1a6-4f57-8a74-479cafe318e0",
   "metadata": {},
   "outputs": [],
   "source": []
  },
  {
   "cell_type": "code",
   "execution_count": null,
   "id": "cf3cd419-3869-4ed2-aab4-c9d01f9d50ad",
   "metadata": {},
   "outputs": [],
   "source": []
  },
  {
   "cell_type": "code",
   "execution_count": 7,
   "id": "b7f32788-7938-4511-b536-6c95198faf18",
   "metadata": {},
   "outputs": [],
   "source": [
    "# import gc\n",
    "# del [data]\n",
    "# gc.collect()"
   ]
  },
  {
   "cell_type": "code",
   "execution_count": null,
   "id": "9a172e94-ee27-4cad-a6df-8429227ddb20",
   "metadata": {},
   "outputs": [],
   "source": []
  },
  {
   "cell_type": "code",
   "execution_count": null,
   "id": "27470a04-ad2a-4b1d-adc9-6ae747d29d2b",
   "metadata": {},
   "outputs": [],
   "source": []
  },
  {
   "cell_type": "code",
   "execution_count": 8,
   "id": "3c74a800-9af7-4c06-b6d2-8d8dd72d934e",
   "metadata": {},
   "outputs": [],
   "source": [
    "# data.head(5)"
   ]
  },
  {
   "cell_type": "code",
   "execution_count": 9,
   "id": "a3a302d0-5488-4ef9-a3bb-485358997306",
   "metadata": {},
   "outputs": [],
   "source": [
    "# initial analysis of dataset\n",
    "# df_initial_analysis(data, \"data\")"
   ]
  },
  {
   "cell_type": "code",
   "execution_count": 10,
   "id": "b9dc3bab-361c-47b6-9b1a-94a2abb2fff3",
   "metadata": {},
   "outputs": [],
   "source": [
    "# pd.set_option('display.max_columns', None)\n",
    "# pd.set_option(\"max_colwidth\", None)\n",
    "# data.loc[(data[\"creator\"]==\"sevan\") & (data[\"brands\"]==\"coca-cola\")]"
   ]
  },
  {
   "cell_type": "code",
   "execution_count": 11,
   "id": "5871946a-0d81-4e99-9add-d5bb93b08cda",
   "metadata": {},
   "outputs": [],
   "source": [
    "# data.columns.tolist()"
   ]
  },
  {
   "cell_type": "code",
   "execution_count": 12,
   "id": "445283d4-62cf-4b79-9bef-ddf46d90fc20",
   "metadata": {},
   "outputs": [],
   "source": [
    "# pd.set_option('display.max_rows', None)\n",
    "# data.dtypes"
   ]
  },
  {
   "cell_type": "code",
   "execution_count": null,
   "id": "d3c79b90-8405-427f-9c68-d2c9d52392b3",
   "metadata": {},
   "outputs": [],
   "source": []
  },
  {
   "cell_type": "code",
   "execution_count": null,
   "id": "eccba33e-296e-4d3e-8c52-e428ef79371c",
   "metadata": {},
   "outputs": [],
   "source": []
  },
  {
   "cell_type": "code",
   "execution_count": null,
   "id": "545e9d05-6829-42d9-9230-197c9996f7ab",
   "metadata": {},
   "outputs": [],
   "source": []
  },
  {
   "cell_type": "code",
   "execution_count": null,
   "id": "3138c350-e57a-4c4b-b564-31013d50ba89",
   "metadata": {},
   "outputs": [],
   "source": []
  },
  {
   "cell_type": "code",
   "execution_count": null,
   "id": "86e12375-4d51-4d15-9c42-003bad6c3d6d",
   "metadata": {},
   "outputs": [],
   "source": []
  },
  {
   "cell_type": "code",
   "execution_count": null,
   "id": "4a94ac7e-56e1-4d7c-b12c-e68c6a9930eb",
   "metadata": {},
   "outputs": [],
   "source": []
  },
  {
   "cell_type": "code",
   "execution_count": null,
   "id": "ca2b22db-f1af-4356-9787-f8cc2f778342",
   "metadata": {},
   "outputs": [],
   "source": []
  },
  {
   "cell_type": "code",
   "execution_count": null,
   "id": "f223bd80-f3f2-4f1b-b220-528d70f7fd5d",
   "metadata": {},
   "outputs": [],
   "source": []
  },
  {
   "cell_type": "code",
   "execution_count": null,
   "id": "6a598211-9ada-4bb3-907c-108a789e9377",
   "metadata": {},
   "outputs": [],
   "source": []
  },
  {
   "cell_type": "code",
   "execution_count": null,
   "id": "5529dfbf-c8db-472a-b71c-2477719069a6",
   "metadata": {},
   "outputs": [],
   "source": []
  },
  {
   "cell_type": "code",
   "execution_count": null,
   "id": "659fa897-f209-499a-a64c-c0fa653529a7",
   "metadata": {},
   "outputs": [],
   "source": []
  },
  {
   "cell_type": "code",
   "execution_count": null,
   "id": "b5b3bff3-b567-4169-8408-9bcaec9e6403",
   "metadata": {},
   "outputs": [],
   "source": []
  },
  {
   "cell_type": "code",
   "execution_count": null,
   "id": "3c1cc6db-3c69-4dad-9bc6-a6abfb694313",
   "metadata": {},
   "outputs": [],
   "source": []
  },
  {
   "cell_type": "code",
   "execution_count": null,
   "id": "04ad0a8e-74d2-4e5d-944e-1ff353faf0da",
   "metadata": {},
   "outputs": [],
   "source": []
  },
  {
   "cell_type": "code",
   "execution_count": null,
   "id": "f08dcb41-7bab-4989-80b5-283e8bbf13cd",
   "metadata": {},
   "outputs": [],
   "source": []
  },
  {
   "cell_type": "code",
   "execution_count": null,
   "id": "1e4a478a-d0f5-4797-bf2e-456bbeb18ed8",
   "metadata": {},
   "outputs": [],
   "source": []
  },
  {
   "cell_type": "code",
   "execution_count": null,
   "id": "b2557f99-2497-49f9-a90d-ce47c9a3a2bf",
   "metadata": {},
   "outputs": [],
   "source": []
  },
  {
   "cell_type": "code",
   "execution_count": null,
   "id": "3ef8899e-ea6d-4f88-b110-77979cb6d223",
   "metadata": {},
   "outputs": [],
   "source": []
  },
  {
   "cell_type": "markdown",
   "id": "72b0def4-6497-4f74-b62b-364d872685d1",
   "metadata": {},
   "source": [
    "<div class=\"alert alert-block alert-info\">\n",
    "<b>Tip:</b> Use blue boxes (alert-info) for tips and notes. \n",
    "If it’s a note, you don’t have to include the word “Note”.\n",
    "</div>"
   ]
  },
  {
   "cell_type": "markdown",
   "id": "112777a0-c722-442c-8504-d90d9ec3a4e8",
   "metadata": {},
   "source": [
    "<div class=\"alert alert-block alert-warning\">\n",
    "<b>Example:</b> Use yellow boxes for examples that are not \n",
    "inside code cells, or use for mathematical formulas if needed.\n",
    "</div>"
   ]
  },
  {
   "cell_type": "markdown",
   "id": "b08c7e8a-31f7-4511-910c-351b1c7cce33",
   "metadata": {},
   "source": [
    "<div class=\"alert alert-block alert-success\">\n",
    "<b>Up to you:</b> Use green boxes sparingly, and only for some specific \n",
    "purpose that the other boxes can't cover. For example, if you have a lot \n",
    "of related content to link to, maybe you decide to use green boxes for \n",
    "related links from each section of a notebook.\n",
    "</div>"
   ]
  },
  {
   "cell_type": "markdown",
   "id": "add1a854-95f6-4c73-bb83-9c6d86fec771",
   "metadata": {},
   "source": [
    "<div class=\"alert alert-block alert-danger\">\n",
    "<b>Just don't:</b> In general, avoid the red boxes. These should only be\n",
    "used for actions that might cause data loss or another major issue.\n",
    "</div>"
   ]
  },
  {
   "cell_type": "code",
   "execution_count": null,
   "id": "43e77c04-d5e7-4a97-9cc0-a2d869e4c032",
   "metadata": {},
   "outputs": [],
   "source": []
  },
  {
   "cell_type": "code",
   "execution_count": null,
   "id": "6cf15c2d-1b86-4a28-aa7d-b7bb3add166e",
   "metadata": {},
   "outputs": [],
   "source": []
  }
 ],
 "metadata": {
  "kernelspec": {
   "display_name": "Python 3",
   "language": "python",
   "name": "python3"
  },
  "language_info": {
   "codemirror_mode": {
    "name": "ipython",
    "version": 3
   },
   "file_extension": ".py",
   "mimetype": "text/x-python",
   "name": "python",
   "nbconvert_exporter": "python",
   "pygments_lexer": "ipython3",
   "version": "3.8.5"
  }
 },
 "nbformat": 4,
 "nbformat_minor": 5
}
