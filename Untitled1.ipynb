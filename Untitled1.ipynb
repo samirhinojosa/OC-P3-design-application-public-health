{
 "cells": [
  {
   "cell_type": "code",
   "execution_count": 6,
   "id": "a3e1da54-d02a-45d3-83d8-d223f70f8da6",
   "metadata": {},
   "outputs": [],
   "source": [
    "from collections import Counter\n"
   ]
  },
  {
   "cell_type": "code",
   "execution_count": 10,
   "id": "3db196e3-55e4-4917-94ab-7b1db33b9240",
   "metadata": {},
   "outputs": [],
   "source": [
    "a_list = [\"a\", \"b\", \"a\"]\n",
    "occurrences = Counter(a_list)"
   ]
  },
  {
   "cell_type": "code",
   "execution_count": 11,
   "id": "00c86434-2109-45cb-9948-1f3532f6d7e0",
   "metadata": {},
   "outputs": [
    {
     "data": {
      "text/plain": [
       "Counter({'a': 2, 'b': 1})"
      ]
     },
     "execution_count": 11,
     "metadata": {},
     "output_type": "execute_result"
    }
   ],
   "source": [
    "occurrences"
   ]
  },
  {
   "cell_type": "code",
   "execution_count": null,
   "id": "27f010d0-2197-4e4c-bf61-b0e85d3b8423",
   "metadata": {},
   "outputs": [],
   "source": []
  },
  {
   "cell_type": "code",
   "execution_count": null,
   "id": "7b209871-e68c-4a30-abd6-a46b45db533c",
   "metadata": {},
   "outputs": [],
   "source": []
  },
  {
   "cell_type": "code",
   "execution_count": 12,
   "id": "ae4ccede-5c0d-4bfe-a5f9-74d52109517b",
   "metadata": {},
   "outputs": [
    {
     "name": "stdout",
     "output_type": "stream",
     "text": [
      "              campaign_type  total_monthly_sale             campaign_dict\n",
      "0       [call, email, call]                   5   {'call': 2, 'email': 1}\n",
      "1  [fax, fax, visit, visit]                   4    {'fax': 2, 'visit': 2}\n",
      "2         [call, fax, call]                   6     {'call': 2, 'fax': 1}\n",
      "3     [email, email, visit]                   7  {'email': 2, 'visit': 1}\n"
     ]
    }
   ],
   "source": [
    "import pandas as pd\n",
    "from collections import Counter\n",
    "\n",
    "df: pd.DataFrame = pd.DataFrame([\n",
    "    [[\"call\", \"email\", \"call\"], 5],\n",
    "    [[\"fax\", \"fax\", \"visit\", \"visit\"], 4],\n",
    "    [[\"call\", \"fax\", \"call\"], 6],\n",
    "    [[\"email\", \"email\", \"visit\"], 7]\n",
    "], columns=['campaign_type', 'total_monthly_sale'])\n",
    "\n",
    "df['campaign_dict'] = df['campaign_type'].apply(Counter)\n",
    "print(df)"
   ]
  },
  {
   "cell_type": "code",
   "execution_count": null,
   "id": "17fa578a-3582-4f80-b16d-c552d1be745f",
   "metadata": {},
   "outputs": [],
   "source": []
  },
  {
   "cell_type": "code",
   "execution_count": 22,
   "id": "41e07230-19e1-4966-843b-1ab4c7bcf804",
   "metadata": {},
   "outputs": [],
   "source": [
    "df[\"campaign_dict\"] = df[\"campaign_type\"].apply(Counter)"
   ]
  },
  {
   "cell_type": "code",
   "execution_count": 26,
   "id": "f8b1e754-5d78-453a-bfdc-21ec1478e1a0",
   "metadata": {},
   "outputs": [
    {
     "data": {
      "text/html": [
       "<div>\n",
       "<style scoped>\n",
       "    .dataframe tbody tr th:only-of-type {\n",
       "        vertical-align: middle;\n",
       "    }\n",
       "\n",
       "    .dataframe tbody tr th {\n",
       "        vertical-align: top;\n",
       "    }\n",
       "\n",
       "    .dataframe thead th {\n",
       "        text-align: right;\n",
       "    }\n",
       "</style>\n",
       "<table border=\"1\" class=\"dataframe\">\n",
       "  <thead>\n",
       "    <tr style=\"text-align: right;\">\n",
       "      <th></th>\n",
       "      <th>campaign_type</th>\n",
       "      <th>total_monthly_sale</th>\n",
       "      <th>campaign_dict</th>\n",
       "    </tr>\n",
       "  </thead>\n",
       "  <tbody>\n",
       "    <tr>\n",
       "      <th>0</th>\n",
       "      <td>[call, email, call]</td>\n",
       "      <td>5</td>\n",
       "      <td>{'call': 2, 'email': 1}</td>\n",
       "    </tr>\n",
       "    <tr>\n",
       "      <th>1</th>\n",
       "      <td>[fax, fax, visit, visit]</td>\n",
       "      <td>4</td>\n",
       "      <td>{'fax': 2, 'visit': 2}</td>\n",
       "    </tr>\n",
       "    <tr>\n",
       "      <th>2</th>\n",
       "      <td>[call, fax, call]</td>\n",
       "      <td>6</td>\n",
       "      <td>{'call': 2, 'fax': 1}</td>\n",
       "    </tr>\n",
       "    <tr>\n",
       "      <th>3</th>\n",
       "      <td>[email, email, visit]</td>\n",
       "      <td>7</td>\n",
       "      <td>{'email': 2, 'visit': 1}</td>\n",
       "    </tr>\n",
       "  </tbody>\n",
       "</table>\n",
       "</div>"
      ],
      "text/plain": [
       "              campaign_type  total_monthly_sale             campaign_dict\n",
       "0       [call, email, call]                   5   {'call': 2, 'email': 1}\n",
       "1  [fax, fax, visit, visit]                   4    {'fax': 2, 'visit': 2}\n",
       "2         [call, fax, call]                   6     {'call': 2, 'fax': 1}\n",
       "3     [email, email, visit]                   7  {'email': 2, 'visit': 1}"
      ]
     },
     "execution_count": 26,
     "metadata": {},
     "output_type": "execute_result"
    }
   ],
   "source": [
    "df"
   ]
  }
 ],
 "metadata": {
  "kernelspec": {
   "display_name": "Python 3",
   "language": "python",
   "name": "python3"
  },
  "language_info": {
   "codemirror_mode": {
    "name": "ipython",
    "version": 3
   },
   "file_extension": ".py",
   "mimetype": "text/x-python",
   "name": "python",
   "nbconvert_exporter": "python",
   "pygments_lexer": "ipython3",
   "version": "3.8.5"
  }
 },
 "nbformat": 4,
 "nbformat_minor": 5
}
